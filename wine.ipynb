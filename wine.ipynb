{
 "cells": [
  {
   "cell_type": "code",
   "execution_count": 16,
   "id": "5bb0af9b",
   "metadata": {},
   "outputs": [],
   "source": [
    "from pyspark.sql.functions import countDistinct"
   ]
  },
  {
   "cell_type": "code",
   "execution_count": 1,
   "id": "939cb631",
   "metadata": {},
   "outputs": [],
   "source": [
    "from pyspark.sql import SparkSession"
   ]
  },
  {
   "cell_type": "code",
   "execution_count": 2,
   "id": "369da6ce",
   "metadata": {},
   "outputs": [],
   "source": [
    "spark = SparkSession.builder.appName('testing').getOrCreate()"
   ]
  },
  {
   "cell_type": "code",
   "execution_count": 28,
   "id": "b56ec7e5",
   "metadata": {},
   "outputs": [],
   "source": [
    "data = spark.read.csv(r\"C:\\Users\\Asus\\Desktop\\winequality-red.csv\", inferSchema=True, header = True)"
   ]
  },
  {
   "cell_type": "code",
   "execution_count": 31,
   "id": "5d969387",
   "metadata": {},
   "outputs": [
    {
     "data": {
      "text/plain": [
       "['fixed acidity',\n",
       " 'volatile acidity',\n",
       " 'citric acid',\n",
       " 'residual sugar',\n",
       " 'chlorides',\n",
       " 'free sulfur dioxide',\n",
       " 'total sulfur dioxide',\n",
       " 'density',\n",
       " 'pH',\n",
       " 'sulphates',\n",
       " 'alcohol',\n",
       " 'quality']"
      ]
     },
     "execution_count": 31,
     "metadata": {},
     "output_type": "execute_result"
    }
   ],
   "source": [
    "data.columns"
   ]
  },
  {
   "cell_type": "code",
   "execution_count": 32,
   "id": "ce15a17f",
   "metadata": {},
   "outputs": [],
   "source": [
    "from pyspark.ml.feature import VectorAssembler"
   ]
  },
  {
   "cell_type": "code",
   "execution_count": 33,
   "id": "8d1dd595",
   "metadata": {},
   "outputs": [],
   "source": [
    "assembler = VectorAssembler(inputCols=['fixed acidity',\n",
    " 'volatile acidity',\n",
    " 'citric acid',\n",
    " 'residual sugar',\n",
    " 'chlorides',\n",
    " 'free sulfur dioxide',\n",
    " 'total sulfur dioxide',\n",
    " 'density',\n",
    " 'pH',\n",
    " 'sulphates',\n",
    " 'alcohol'], outputCol='features')"
   ]
  },
  {
   "cell_type": "code",
   "execution_count": 34,
   "id": "2d4f54ea",
   "metadata": {},
   "outputs": [],
   "source": [
    "model = assembler.transform(data)"
   ]
  },
  {
   "cell_type": "code",
   "execution_count": 42,
   "id": "f0c8ffb5",
   "metadata": {},
   "outputs": [],
   "source": [
    "final = model.select('features', 'quality' )"
   ]
  },
  {
   "cell_type": "code",
   "execution_count": 43,
   "id": "921e592a",
   "metadata": {},
   "outputs": [],
   "source": [
    "from pyspark.ml.classification import LogisticRegression"
   ]
  },
  {
   "cell_type": "code",
   "execution_count": 44,
   "id": "cb75487c",
   "metadata": {},
   "outputs": [],
   "source": [
    "lr = LogisticRegression(labelCol='quality', featuresCol='features')"
   ]
  },
  {
   "cell_type": "code",
   "execution_count": 45,
   "id": "67ec3777",
   "metadata": {},
   "outputs": [],
   "source": [
    "train_data, test_data = final.randomSplit([0.7, 0.3])"
   ]
  },
  {
   "cell_type": "code",
   "execution_count": 46,
   "id": "9902bdd9",
   "metadata": {},
   "outputs": [],
   "source": [
    "final_out = lr.fit(train_data)"
   ]
  },
  {
   "cell_type": "code",
   "execution_count": 60,
   "id": "9d377287",
   "metadata": {},
   "outputs": [],
   "source": [
    "predictions = final_out.transform(test_data)"
   ]
  },
  {
   "cell_type": "code",
   "execution_count": 47,
   "id": "722a8ec8",
   "metadata": {},
   "outputs": [],
   "source": []
  },
  {
   "cell_type": "code",
   "execution_count": 55,
   "id": "2258c7fb",
   "metadata": {},
   "outputs": [],
   "source": [
    "from pyspark.ml.evaluation import BinaryClassificationEvaluator"
   ]
  },
  {
   "cell_type": "code",
   "execution_count": 67,
   "id": "649b5579",
   "metadata": {},
   "outputs": [],
   "source": [
    "evaluator = BinaryClassificationEvaluator(labelCol='quality', rawPredictionCol='prediction')"
   ]
  },
  {
   "cell_type": "code",
   "execution_count": 73,
   "id": "c5d61cbd",
   "metadata": {},
   "outputs": [
    {
     "name": "stdout",
     "output_type": "stream",
     "text": [
      "+--------------------+-------+--------------------+--------------------+----------+\n",
      "|            features|quality|       rawPrediction|         probability|prediction|\n",
      "+--------------------+-------+--------------------+--------------------+----------+\n",
      "|[4.6,0.52,0.15,2....|      4|[-4.4606980514641...|[7.21900601801146...|       6.0|\n",
      "|[5.0,0.4,0.5,4.3,...|      6|[-4.0336565559104...|[1.41998672714449...|       7.0|\n",
      "|[5.1,0.47,0.02,1....|      6|[-4.5060999973238...|[1.49809482088712...|       6.0|\n",
      "|[5.1,0.51,0.18,2....|      7|[-3.8541469004784...|[1.62799852842516...|       6.0|\n",
      "|[5.1,0.585,0.0,1....|      7|[-4.0918532179077...|[2.79123133233557...|       6.0|\n",
      "|[5.2,0.32,0.25,1....|      5|[-3.5837421868649...|[2.79947269778617...|       5.0|\n",
      "|[5.2,0.48,0.04,1....|      7|[-3.7341241767987...|[4.38334197019366...|       6.0|\n",
      "|[5.3,0.47,0.11,2....|      7|[-4.0857339939047...|[1.56662783754224...|       7.0|\n",
      "|[5.3,0.57,0.01,1....|      7|[-4.5670264972857...|[5.19434760877908...|       6.0|\n",
      "|[5.3,0.715,0.19,1...|      5|[-4.2315812957626...|[1.22920955241652...|       5.0|\n",
      "|[5.4,0.835,0.08,1...|      7|[-4.2485508701277...|[6.44798454754654...|       6.0|\n",
      "|[5.5,0.49,0.03,1....|      8|[-4.1050669053172...|[2.46291661063760...|       7.0|\n",
      "|[5.6,0.31,0.37,1....|      5|[-3.1746482206296...|[7.45516736239550...|       5.0|\n",
      "|[5.6,0.54,0.04,1....|      5|[-4.6016576471713...|[1.81828536278057...|       6.0|\n",
      "|[5.6,0.615,0.0,1....|      5|[-3.9448218779606...|[1.49839980086912...|       5.0|\n",
      "|[5.6,0.915,0.0,2....|      5|[-4.2586477407926...|[2.36605958187565...|       6.0|\n",
      "|[6.0,0.5,0.0,1.4,...|      5|[-3.9560768773274...|[1.14085133272982...|       5.0|\n",
      "|[6.0,0.5,0.04,2.2...|      5|[-4.1257521960366...|[1.12554065106701...|       5.0|\n",
      "|[6.1,0.21,0.4,1.4...|      6|[-2.7935677418521...|[2.29629702888361...|       6.0|\n",
      "|[6.1,0.34,0.25,1....|      5|[-3.9907575340255...|[5.08782032081193...|       5.0|\n",
      "+--------------------+-------+--------------------+--------------------+----------+\n",
      "only showing top 20 rows\n",
      "\n"
     ]
    }
   ],
   "source": [
    "predictions.show()"
   ]
  },
  {
   "cell_type": "code",
   "execution_count": 69,
   "id": "5fe5c2fb",
   "metadata": {
    "scrolled": true
   },
   "outputs": [
    {
     "name": "stdout",
     "output_type": "stream",
     "text": [
      "+-------+----------+\n",
      "|quality|prediction|\n",
      "+-------+----------+\n",
      "|      4|       6.0|\n",
      "|      6|       7.0|\n",
      "|      6|       6.0|\n",
      "|      7|       6.0|\n",
      "|      7|       6.0|\n",
      "|      5|       5.0|\n",
      "|      7|       6.0|\n",
      "|      7|       7.0|\n",
      "|      7|       6.0|\n",
      "|      5|       5.0|\n",
      "|      7|       6.0|\n",
      "|      8|       7.0|\n",
      "|      5|       5.0|\n",
      "|      5|       6.0|\n",
      "|      5|       5.0|\n",
      "|      5|       6.0|\n",
      "|      5|       5.0|\n",
      "|      5|       5.0|\n",
      "|      6|       6.0|\n",
      "|      5|       5.0|\n",
      "+-------+----------+\n",
      "only showing top 20 rows\n",
      "\n"
     ]
    }
   ],
   "source": [
    "predictions.select('quality', 'prediction').show()"
   ]
  },
  {
   "cell_type": "raw",
   "id": "9e16c2d3",
   "metadata": {},
   "source": []
  },
  {
   "cell_type": "code",
   "execution_count": 75,
   "id": "5f7cea42",
   "metadata": {},
   "outputs": [
    {
     "ename": "Py4JJavaError",
     "evalue": "An error occurred while calling o704.evaluate.\n: java.util.NoSuchElementException: key not found: 0.0\r\n\tat scala.collection.MapLike.default(MapLike.scala:236)\r\n\tat scala.collection.MapLike.default$(MapLike.scala:235)\r\n\tat scala.collection.AbstractMap.default(Map.scala:65)\r\n\tat scala.collection.MapLike.apply(MapLike.scala:144)\r\n\tat scala.collection.MapLike.apply$(MapLike.scala:143)\r\n\tat scala.collection.AbstractMap.apply(Map.scala:65)\r\n\tat org.apache.spark.mllib.evaluation.MulticlassMetrics.precision(MulticlassMetrics.scala:150)\r\n\tat org.apache.spark.ml.evaluation.MulticlassClassificationEvaluator.evaluate(MulticlassClassificationEvaluator.scala:161)\r\n\tat sun.reflect.NativeMethodAccessorImpl.invoke0(Native Method)\r\n\tat sun.reflect.NativeMethodAccessorImpl.invoke(Unknown Source)\r\n\tat sun.reflect.DelegatingMethodAccessorImpl.invoke(Unknown Source)\r\n\tat java.lang.reflect.Method.invoke(Unknown Source)\r\n\tat py4j.reflection.MethodInvoker.invoke(MethodInvoker.java:244)\r\n\tat py4j.reflection.ReflectionEngine.invoke(ReflectionEngine.java:374)\r\n\tat py4j.Gateway.invoke(Gateway.java:282)\r\n\tat py4j.commands.AbstractCommand.invokeMethod(AbstractCommand.java:132)\r\n\tat py4j.commands.CallCommand.execute(CallCommand.java:79)\r\n\tat py4j.ClientServerConnection.waitForCommands(ClientServerConnection.java:182)\r\n\tat py4j.ClientServerConnection.run(ClientServerConnection.java:106)\r\n\tat java.lang.Thread.run(Unknown Source)\r\n",
     "output_type": "error",
     "traceback": [
      "\u001b[1;31m---------------------------------------------------------------------------\u001b[0m",
      "\u001b[1;31mPy4JJavaError\u001b[0m                             Traceback (most recent call last)",
      "Cell \u001b[1;32mIn[75], line 6\u001b[0m\n\u001b[0;32m      4\u001b[0m \u001b[38;5;66;03m# Ewaluacja za pomocą Precision, Recall i F1 Score\u001b[39;00m\n\u001b[0;32m      5\u001b[0m evaluatorMulti \u001b[38;5;241m=\u001b[39m MulticlassClassificationEvaluator(labelCol\u001b[38;5;241m=\u001b[39m\u001b[38;5;124m\"\u001b[39m\u001b[38;5;124mquality\u001b[39m\u001b[38;5;124m\"\u001b[39m, predictionCol\u001b[38;5;241m=\u001b[39m\u001b[38;5;124m\"\u001b[39m\u001b[38;5;124mprediction\u001b[39m\u001b[38;5;124m\"\u001b[39m)\n\u001b[1;32m----> 6\u001b[0m precision \u001b[38;5;241m=\u001b[39m evaluatorMulti\u001b[38;5;241m.\u001b[39mevaluate(predictions, {evaluatorMulti\u001b[38;5;241m.\u001b[39mmetricName: \u001b[38;5;124m\"\u001b[39m\u001b[38;5;124mprecisionByLabel\u001b[39m\u001b[38;5;124m\"\u001b[39m})\n\u001b[0;32m      7\u001b[0m recall \u001b[38;5;241m=\u001b[39m evaluatorMulti\u001b[38;5;241m.\u001b[39mevaluate(predictions, {evaluatorMulti\u001b[38;5;241m.\u001b[39mmetricName: \u001b[38;5;124m\"\u001b[39m\u001b[38;5;124mrecallByLabel\u001b[39m\u001b[38;5;124m\"\u001b[39m})\n\u001b[0;32m      8\u001b[0m f1 \u001b[38;5;241m=\u001b[39m evaluatorMulti\u001b[38;5;241m.\u001b[39mevaluate(predictions, {evaluatorMulti\u001b[38;5;241m.\u001b[39mmetricName: \u001b[38;5;124m\"\u001b[39m\u001b[38;5;124mf1\u001b[39m\u001b[38;5;124m\"\u001b[39m})\n",
      "File \u001b[1;32m~\\anaconda3\\envs\\pandas_playground\\Lib\\site-packages\\pyspark\\ml\\evaluation.py:109\u001b[0m, in \u001b[0;36mEvaluator.evaluate\u001b[1;34m(self, dataset, params)\u001b[0m\n\u001b[0;32m    107\u001b[0m \u001b[38;5;28;01mif\u001b[39;00m \u001b[38;5;28misinstance\u001b[39m(params, \u001b[38;5;28mdict\u001b[39m):\n\u001b[0;32m    108\u001b[0m     \u001b[38;5;28;01mif\u001b[39;00m params:\n\u001b[1;32m--> 109\u001b[0m         \u001b[38;5;28;01mreturn\u001b[39;00m \u001b[38;5;28mself\u001b[39m\u001b[38;5;241m.\u001b[39mcopy(params)\u001b[38;5;241m.\u001b[39m_evaluate(dataset)\n\u001b[0;32m    110\u001b[0m     \u001b[38;5;28;01melse\u001b[39;00m:\n\u001b[0;32m    111\u001b[0m         \u001b[38;5;28;01mreturn\u001b[39;00m \u001b[38;5;28mself\u001b[39m\u001b[38;5;241m.\u001b[39m_evaluate(dataset)\n",
      "File \u001b[1;32m~\\anaconda3\\envs\\pandas_playground\\Lib\\site-packages\\pyspark\\ml\\evaluation.py:148\u001b[0m, in \u001b[0;36mJavaEvaluator._evaluate\u001b[1;34m(self, dataset)\u001b[0m\n\u001b[0;32m    146\u001b[0m \u001b[38;5;28mself\u001b[39m\u001b[38;5;241m.\u001b[39m_transfer_params_to_java()\n\u001b[0;32m    147\u001b[0m \u001b[38;5;28;01massert\u001b[39;00m \u001b[38;5;28mself\u001b[39m\u001b[38;5;241m.\u001b[39m_java_obj \u001b[38;5;129;01mis\u001b[39;00m \u001b[38;5;129;01mnot\u001b[39;00m \u001b[38;5;28;01mNone\u001b[39;00m\n\u001b[1;32m--> 148\u001b[0m \u001b[38;5;28;01mreturn\u001b[39;00m \u001b[38;5;28mself\u001b[39m\u001b[38;5;241m.\u001b[39m_java_obj\u001b[38;5;241m.\u001b[39mevaluate(dataset\u001b[38;5;241m.\u001b[39m_jdf)\n",
      "File \u001b[1;32m~\\anaconda3\\envs\\pandas_playground\\Lib\\site-packages\\py4j\\java_gateway.py:1322\u001b[0m, in \u001b[0;36mJavaMember.__call__\u001b[1;34m(self, *args)\u001b[0m\n\u001b[0;32m   1316\u001b[0m command \u001b[38;5;241m=\u001b[39m proto\u001b[38;5;241m.\u001b[39mCALL_COMMAND_NAME \u001b[38;5;241m+\u001b[39m\\\n\u001b[0;32m   1317\u001b[0m     \u001b[38;5;28mself\u001b[39m\u001b[38;5;241m.\u001b[39mcommand_header \u001b[38;5;241m+\u001b[39m\\\n\u001b[0;32m   1318\u001b[0m     args_command \u001b[38;5;241m+\u001b[39m\\\n\u001b[0;32m   1319\u001b[0m     proto\u001b[38;5;241m.\u001b[39mEND_COMMAND_PART\n\u001b[0;32m   1321\u001b[0m answer \u001b[38;5;241m=\u001b[39m \u001b[38;5;28mself\u001b[39m\u001b[38;5;241m.\u001b[39mgateway_client\u001b[38;5;241m.\u001b[39msend_command(command)\n\u001b[1;32m-> 1322\u001b[0m return_value \u001b[38;5;241m=\u001b[39m get_return_value(\n\u001b[0;32m   1323\u001b[0m     answer, \u001b[38;5;28mself\u001b[39m\u001b[38;5;241m.\u001b[39mgateway_client, \u001b[38;5;28mself\u001b[39m\u001b[38;5;241m.\u001b[39mtarget_id, \u001b[38;5;28mself\u001b[39m\u001b[38;5;241m.\u001b[39mname)\n\u001b[0;32m   1325\u001b[0m \u001b[38;5;28;01mfor\u001b[39;00m temp_arg \u001b[38;5;129;01min\u001b[39;00m temp_args:\n\u001b[0;32m   1326\u001b[0m     \u001b[38;5;28;01mif\u001b[39;00m \u001b[38;5;28mhasattr\u001b[39m(temp_arg, \u001b[38;5;124m\"\u001b[39m\u001b[38;5;124m_detach\u001b[39m\u001b[38;5;124m\"\u001b[39m):\n",
      "File \u001b[1;32m~\\anaconda3\\envs\\pandas_playground\\Lib\\site-packages\\pyspark\\errors\\exceptions\\captured.py:179\u001b[0m, in \u001b[0;36mcapture_sql_exception.<locals>.deco\u001b[1;34m(*a, **kw)\u001b[0m\n\u001b[0;32m    177\u001b[0m \u001b[38;5;28;01mdef\u001b[39;00m \u001b[38;5;21mdeco\u001b[39m(\u001b[38;5;241m*\u001b[39ma: Any, \u001b[38;5;241m*\u001b[39m\u001b[38;5;241m*\u001b[39mkw: Any) \u001b[38;5;241m-\u001b[39m\u001b[38;5;241m>\u001b[39m Any:\n\u001b[0;32m    178\u001b[0m     \u001b[38;5;28;01mtry\u001b[39;00m:\n\u001b[1;32m--> 179\u001b[0m         \u001b[38;5;28;01mreturn\u001b[39;00m f(\u001b[38;5;241m*\u001b[39ma, \u001b[38;5;241m*\u001b[39m\u001b[38;5;241m*\u001b[39mkw)\n\u001b[0;32m    180\u001b[0m     \u001b[38;5;28;01mexcept\u001b[39;00m Py4JJavaError \u001b[38;5;28;01mas\u001b[39;00m e:\n\u001b[0;32m    181\u001b[0m         converted \u001b[38;5;241m=\u001b[39m convert_exception(e\u001b[38;5;241m.\u001b[39mjava_exception)\n",
      "File \u001b[1;32m~\\anaconda3\\envs\\pandas_playground\\Lib\\site-packages\\py4j\\protocol.py:326\u001b[0m, in \u001b[0;36mget_return_value\u001b[1;34m(answer, gateway_client, target_id, name)\u001b[0m\n\u001b[0;32m    324\u001b[0m value \u001b[38;5;241m=\u001b[39m OUTPUT_CONVERTER[\u001b[38;5;28mtype\u001b[39m](answer[\u001b[38;5;241m2\u001b[39m:], gateway_client)\n\u001b[0;32m    325\u001b[0m \u001b[38;5;28;01mif\u001b[39;00m answer[\u001b[38;5;241m1\u001b[39m] \u001b[38;5;241m==\u001b[39m REFERENCE_TYPE:\n\u001b[1;32m--> 326\u001b[0m     \u001b[38;5;28;01mraise\u001b[39;00m Py4JJavaError(\n\u001b[0;32m    327\u001b[0m         \u001b[38;5;124m\"\u001b[39m\u001b[38;5;124mAn error occurred while calling \u001b[39m\u001b[38;5;132;01m{0}\u001b[39;00m\u001b[38;5;132;01m{1}\u001b[39;00m\u001b[38;5;132;01m{2}\u001b[39;00m\u001b[38;5;124m.\u001b[39m\u001b[38;5;130;01m\\n\u001b[39;00m\u001b[38;5;124m\"\u001b[39m\u001b[38;5;241m.\u001b[39m\n\u001b[0;32m    328\u001b[0m         \u001b[38;5;28mformat\u001b[39m(target_id, \u001b[38;5;124m\"\u001b[39m\u001b[38;5;124m.\u001b[39m\u001b[38;5;124m\"\u001b[39m, name), value)\n\u001b[0;32m    329\u001b[0m \u001b[38;5;28;01melse\u001b[39;00m:\n\u001b[0;32m    330\u001b[0m     \u001b[38;5;28;01mraise\u001b[39;00m Py4JError(\n\u001b[0;32m    331\u001b[0m         \u001b[38;5;124m\"\u001b[39m\u001b[38;5;124mAn error occurred while calling \u001b[39m\u001b[38;5;132;01m{0}\u001b[39;00m\u001b[38;5;132;01m{1}\u001b[39;00m\u001b[38;5;132;01m{2}\u001b[39;00m\u001b[38;5;124m. Trace:\u001b[39m\u001b[38;5;130;01m\\n\u001b[39;00m\u001b[38;5;132;01m{3}\u001b[39;00m\u001b[38;5;130;01m\\n\u001b[39;00m\u001b[38;5;124m\"\u001b[39m\u001b[38;5;241m.\u001b[39m\n\u001b[0;32m    332\u001b[0m         \u001b[38;5;28mformat\u001b[39m(target_id, \u001b[38;5;124m\"\u001b[39m\u001b[38;5;124m.\u001b[39m\u001b[38;5;124m\"\u001b[39m, name, value))\n",
      "\u001b[1;31mPy4JJavaError\u001b[0m: An error occurred while calling o704.evaluate.\n: java.util.NoSuchElementException: key not found: 0.0\r\n\tat scala.collection.MapLike.default(MapLike.scala:236)\r\n\tat scala.collection.MapLike.default$(MapLike.scala:235)\r\n\tat scala.collection.AbstractMap.default(Map.scala:65)\r\n\tat scala.collection.MapLike.apply(MapLike.scala:144)\r\n\tat scala.collection.MapLike.apply$(MapLike.scala:143)\r\n\tat scala.collection.AbstractMap.apply(Map.scala:65)\r\n\tat org.apache.spark.mllib.evaluation.MulticlassMetrics.precision(MulticlassMetrics.scala:150)\r\n\tat org.apache.spark.ml.evaluation.MulticlassClassificationEvaluator.evaluate(MulticlassClassificationEvaluator.scala:161)\r\n\tat sun.reflect.NativeMethodAccessorImpl.invoke0(Native Method)\r\n\tat sun.reflect.NativeMethodAccessorImpl.invoke(Unknown Source)\r\n\tat sun.reflect.DelegatingMethodAccessorImpl.invoke(Unknown Source)\r\n\tat java.lang.reflect.Method.invoke(Unknown Source)\r\n\tat py4j.reflection.MethodInvoker.invoke(MethodInvoker.java:244)\r\n\tat py4j.reflection.ReflectionEngine.invoke(ReflectionEngine.java:374)\r\n\tat py4j.Gateway.invoke(Gateway.java:282)\r\n\tat py4j.commands.AbstractCommand.invokeMethod(AbstractCommand.java:132)\r\n\tat py4j.commands.CallCommand.execute(CallCommand.java:79)\r\n\tat py4j.ClientServerConnection.waitForCommands(ClientServerConnection.java:182)\r\n\tat py4j.ClientServerConnection.run(ClientServerConnection.java:106)\r\n\tat java.lang.Thread.run(Unknown Source)\r\n"
     ]
    }
   ],
   "source": [
    "from pyspark.ml.evaluation import BinaryClassificationEvaluator, MulticlassClassificationEvaluator\n",
    "\n",
    "evaluatorMulti = MulticlassClassificationEvaluator(labelCol=\"quality\", predictionCol=\"prediction\")\n",
    "precision = evaluatorMulti.evaluate(predictions, {evaluatorMulti.metricName: \"precisionByLabel\"})\n",
    "recall = evaluatorMulti.evaluate(predictions, {evaluatorMulti.metricName: \"recallByLabel\"})\n",
    "f1 = evaluatorMulti.evaluate(predictions, {evaluatorMulti.metricName: \"f1\"})\n",
    "\n",
    "print(f\"Precision: {precision}\")\n",
    "print(f\"Recall: {recall}\")\n",
    "print(f\"F1 Score: {f1}\")\n"
   ]
  },
  {
   "cell_type": "code",
   "execution_count": null,
   "id": "6a038148",
   "metadata": {},
   "outputs": [],
   "source": []
  }
 ],
 "metadata": {
  "kernelspec": {
   "display_name": "Python 3 (ipykernel)",
   "language": "python",
   "name": "python3"
  },
  "language_info": {
   "codemirror_mode": {
    "name": "ipython",
    "version": 3
   },
   "file_extension": ".py",
   "mimetype": "text/x-python",
   "name": "python",
   "nbconvert_exporter": "python",
   "pygments_lexer": "ipython3",
   "version": "3.11.5"
  }
 },
 "nbformat": 4,
 "nbformat_minor": 5
}
