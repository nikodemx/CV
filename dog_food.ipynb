{
 "cells": [
  {
   "cell_type": "code",
   "execution_count": 1,
   "id": "cb0be930",
   "metadata": {},
   "outputs": [],
   "source": [
    "from pyspark.sql import SparkSession"
   ]
  },
  {
   "cell_type": "code",
   "execution_count": 2,
   "id": "678f0af4",
   "metadata": {},
   "outputs": [],
   "source": [
    "spark = SparkSession.builder.appName('forests').getOrCreate()"
   ]
  },
  {
   "cell_type": "code",
   "execution_count": 3,
   "id": "bbca807a",
   "metadata": {},
   "outputs": [],
   "source": [
    "data = spark.read.csv(r\"C:\\Users\\Asus\\Desktop\\studia big data\\Python-and-Spark-for-Big-Data-master\\Spark_for_Machine_Learning\\Tree_Methods\\dog_food.csv\", inferSchema=True, header = True)"
   ]
  },
  {
   "cell_type": "code",
   "execution_count": 7,
   "id": "6ca7da71",
   "metadata": {},
   "outputs": [],
   "source": [
    "from pyspark.ml.feature import VectorAssembler"
   ]
  },
  {
   "cell_type": "code",
   "execution_count": 8,
   "id": "1cf90367",
   "metadata": {},
   "outputs": [
    {
     "data": {
      "text/plain": [
       "['A', 'B', 'C', 'D', 'Spoiled']"
      ]
     },
     "execution_count": 8,
     "metadata": {},
     "output_type": "execute_result"
    }
   ],
   "source": [
    "data.columns"
   ]
  },
  {
   "cell_type": "code",
   "execution_count": 23,
   "id": "ae82c2bf",
   "metadata": {},
   "outputs": [],
   "source": [
    "assembler = VectorAssembler(inputCols=['A', 'B', 'C', 'D'], outputCol='features')"
   ]
  },
  {
   "cell_type": "code",
   "execution_count": 24,
   "id": "2808edbf",
   "metadata": {},
   "outputs": [],
   "source": [
    "trans = assembler.transform(data)"
   ]
  },
  {
   "cell_type": "code",
   "execution_count": 26,
   "id": "f0fbaf97",
   "metadata": {},
   "outputs": [],
   "source": [
    "model_selected = trans.select('features', 'Spoiled')"
   ]
  },
  {
   "cell_type": "code",
   "execution_count": 27,
   "id": "6ef97837",
   "metadata": {},
   "outputs": [],
   "source": [
    "train_data , test_data = trans.randomSplit([0.7, 0.3])"
   ]
  },
  {
   "cell_type": "code",
   "execution_count": 28,
   "id": "33400481",
   "metadata": {},
   "outputs": [],
   "source": [
    "from pyspark.ml.classification import DecisionTreeClassifier"
   ]
  },
  {
   "cell_type": "code",
   "execution_count": 29,
   "id": "42e722f0",
   "metadata": {},
   "outputs": [],
   "source": [
    "dtc = DecisionTreeClassifier(labelCol='Spoiled', featuresCol='features')"
   ]
  },
  {
   "cell_type": "code",
   "execution_count": null,
   "id": "62068ba5",
   "metadata": {},
   "outputs": [],
   "source": []
  },
  {
   "cell_type": "code",
   "execution_count": 30,
   "id": "de09cfe1",
   "metadata": {},
   "outputs": [],
   "source": [
    "model = dtc.fit(train_data)"
   ]
  },
  {
   "cell_type": "code",
   "execution_count": 31,
   "id": "576dee74",
   "metadata": {},
   "outputs": [],
   "source": [
    "model_test = model.transform(test_data)"
   ]
  },
  {
   "cell_type": "code",
   "execution_count": 33,
   "id": "dc5a208c",
   "metadata": {},
   "outputs": [
    {
     "name": "stdout",
     "output_type": "stream",
     "text": [
      "+---+---+----+---+-------+-------------------+-------------+--------------------+----------+\n",
      "|  A|  B|   C|  D|Spoiled|           features|rawPrediction|         probability|prediction|\n",
      "+---+---+----+---+-------+-------------------+-------------+--------------------+----------+\n",
      "|  1|  1|10.0|  8|    1.0| [1.0,1.0,10.0,8.0]|   [13.0,1.0]|[0.92857142857142...|       0.0|\n",
      "|  1|  2| 9.0|  4|    0.0|  [1.0,2.0,9.0,4.0]|  [186.0,0.0]|           [1.0,0.0]|       0.0|\n",
      "|  1|  3| 9.0|  8|    0.0|  [1.0,3.0,9.0,8.0]|  [186.0,0.0]|           [1.0,0.0]|       0.0|\n",
      "|  1|  5| 8.0|  3|    0.0|  [1.0,5.0,8.0,3.0]|  [186.0,0.0]|           [1.0,0.0]|       0.0|\n",
      "|  1|  6|11.0| 10|    1.0|[1.0,6.0,11.0,10.0]|    [0.0,9.0]|           [0.0,1.0]|       1.0|\n",
      "|  1|  7| 8.0|  2|    0.0|  [1.0,7.0,8.0,2.0]|   [30.0,0.0]|           [1.0,0.0]|       0.0|\n",
      "|  1|  8| 8.0|  8|    0.0|  [1.0,8.0,8.0,8.0]|  [186.0,0.0]|           [1.0,0.0]|       0.0|\n",
      "|  1|  9| 7.0|  4|    0.0|  [1.0,9.0,7.0,4.0]|  [186.0,0.0]|           [1.0,0.0]|       0.0|\n",
      "|  1|  9| 9.0|  7|    0.0|  [1.0,9.0,9.0,7.0]|  [186.0,0.0]|           [1.0,0.0]|       0.0|\n",
      "|  2|  1| 9.0|  1|    0.0|  [2.0,1.0,9.0,1.0]|    [6.0,0.0]|           [1.0,0.0]|       0.0|\n",
      "|  2|  1|10.0|  7|    0.0| [2.0,1.0,10.0,7.0]|   [13.0,1.0]|[0.92857142857142...|       0.0|\n",
      "|  2|  2| 8.0|  1|    0.0|  [2.0,2.0,8.0,1.0]|    [6.0,0.0]|           [1.0,0.0]|       0.0|\n",
      "|  2|  3|12.0|  3|    1.0| [2.0,3.0,12.0,3.0]|   [0.0,85.0]|           [0.0,1.0]|       1.0|\n",
      "|  2|  3|13.0|  1|    1.0| [2.0,3.0,13.0,1.0]|   [0.0,85.0]|           [0.0,1.0]|       1.0|\n",
      "|  2|  5| 7.0|  6|    0.0|  [2.0,5.0,7.0,6.0]|  [186.0,0.0]|           [1.0,0.0]|       0.0|\n",
      "|  2|  5| 8.0|  3|    0.0|  [2.0,5.0,8.0,3.0]|  [186.0,0.0]|           [1.0,0.0]|       0.0|\n",
      "|  2|  6| 8.0|  6|    0.0|  [2.0,6.0,8.0,6.0]|  [186.0,0.0]|           [1.0,0.0]|       0.0|\n",
      "|  2|  8|11.0|  1|    1.0| [2.0,8.0,11.0,1.0]|   [0.0,85.0]|           [0.0,1.0]|       1.0|\n",
      "|  2|  9| 9.0| 10|    0.0| [2.0,9.0,9.0,10.0]|  [186.0,0.0]|           [1.0,0.0]|       0.0|\n",
      "|  2|  9|10.0|  3|    0.0| [2.0,9.0,10.0,3.0]|    [0.0,3.0]|           [0.0,1.0]|       1.0|\n",
      "+---+---+----+---+-------+-------------------+-------------+--------------------+----------+\n",
      "only showing top 20 rows\n",
      "\n"
     ]
    }
   ],
   "source": [
    "model_test.show()"
   ]
  },
  {
   "cell_type": "code",
   "execution_count": null,
   "id": "bd1cb8cf",
   "metadata": {},
   "outputs": [],
   "source": []
  }
 ],
 "metadata": {
  "kernelspec": {
   "display_name": "Python 3 (ipykernel)",
   "language": "python",
   "name": "python3"
  },
  "language_info": {
   "codemirror_mode": {
    "name": "ipython",
    "version": 3
   },
   "file_extension": ".py",
   "mimetype": "text/x-python",
   "name": "python",
   "nbconvert_exporter": "python",
   "pygments_lexer": "ipython3",
   "version": "3.11.5"
  }
 },
 "nbformat": 4,
 "nbformat_minor": 5
}
