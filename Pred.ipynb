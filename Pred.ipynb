{
 "cells": [
  {
   "cell_type": "code",
   "execution_count": 2,
   "id": "124016e1",
   "metadata": {},
   "outputs": [],
   "source": [
    "from pyspark.sql import SparkSession"
   ]
  },
  {
   "cell_type": "code",
   "execution_count": 3,
   "id": "9221e888",
   "metadata": {},
   "outputs": [],
   "source": [
    "spark = SparkSession.builder.appName('pred').getOrCreate()"
   ]
  },
  {
   "cell_type": "code",
   "execution_count": 4,
   "id": "9764ad0e",
   "metadata": {},
   "outputs": [],
   "source": [
    "data = spark.read.csv(r\"C:\\Users\\Asus\\Desktop\\onlinefoods.csv\", inferSchema = True, header = True)"
   ]
  },
  {
   "cell_type": "code",
   "execution_count": 5,
   "id": "3d15fa19",
   "metadata": {},
   "outputs": [],
   "source": [
    "from pyspark.sql.functions import mean\n"
   ]
  },
  {
   "cell_type": "code",
   "execution_count": 8,
   "id": "886eac1d",
   "metadata": {},
   "outputs": [
    {
     "data": {
      "text/plain": [
       "DataFrame[Age: int, Gender: string, Marital Status: string, Occupation: string, Monthly Income: string, Educational Qualifications: string, Family size: int, latitude: double, longitude: double, Pin code: int, Output: string, Feedback: string, _c12: string]"
      ]
     },
     "execution_count": 8,
     "metadata": {},
     "output_type": "execute_result"
    }
   ],
   "source": [
    "data"
   ]
  },
  {
   "cell_type": "code",
   "execution_count": null,
   "id": "d3cf57d4",
   "metadata": {},
   "outputs": [],
   "source": []
  },
  {
   "cell_type": "code",
   "execution_count": 6,
   "id": "b1d9df82",
   "metadata": {},
   "outputs": [
    {
     "ename": "NameError",
     "evalue": "name 'new_data' is not defined",
     "output_type": "error",
     "traceback": [
      "\u001b[1;31m---------------------------------------------------------------------------\u001b[0m",
      "\u001b[1;31mNameError\u001b[0m                                 Traceback (most recent call last)",
      "Cell \u001b[1;32mIn[6], line 1\u001b[0m\n\u001b[1;32m----> 1\u001b[0m new_data\u001b[38;5;241m.\u001b[39mprintSchema\n",
      "\u001b[1;31mNameError\u001b[0m: name 'new_data' is not defined"
     ]
    }
   ],
   "source": []
  },
  {
   "cell_type": "code",
   "execution_count": null,
   "id": "3d42b710",
   "metadata": {},
   "outputs": [],
   "source": [
    "from pyspark.ml.feature import StringIndexer, OneHotEncoder, VectorAssembler"
   ]
  },
  {
   "cell_type": "code",
   "execution_count": null,
   "id": "206b47bb",
   "metadata": {},
   "outputs": [],
   "source": [
    "new_data['_c12'] = new_data['_c12'].astype('int')"
   ]
  },
  {
   "cell_type": "code",
   "execution_count": null,
   "id": "fa1f9d40",
   "metadata": {},
   "outputs": [],
   "source": [
    "from pyspark.sql.functions import col\n",
    "from pyspark.sql.types import IntegerType, DoubleType\n",
    "from pyspark.ml import Pipeline"
   ]
  },
  {
   "cell_type": "code",
   "execution_count": null,
   "id": "7d10a7cc",
   "metadata": {},
   "outputs": [],
   "source": [
    "indexers = []\n",
    "encoders = []\n",
    "\n",
    "for column in data.columns:\n",
    "    # Sprawdzenie typu kolumny\n",
    "    if not isinstance(data.schema[column].dataType, (IntegerType, DoubleType)):\n",
    "        # Utworzenie StringIndexera dla kolumny\n",
    "        indexer = StringIndexer(inputCol=column, outputCol=f\"{column}_indx\")\n",
    "        indexers.append(indexer)\n",
    "        \n",
    "        # Utworzenie OneHotEncodera dla wyniku StringIndexera\n",
    "        encoder = OneHotEncoder(inputCols=[f\"{column}_indx\"], outputCols=[f\"{column}_ohe\"])\n",
    "        encoders.append(encoder)\n",
    "pipeline = Pipeline(stages=indexers + encoders)\n",
    "\n",
    "# Stosowanie transformacji\n",
    "new_data = pipeline.fit(data).transform(data)\n",
    "\n",
    "        "
   ]
  },
  {
   "cell_type": "code",
   "execution_count": null,
   "id": "4e9f0a9d",
   "metadata": {
    "scrolled": true
   },
   "outputs": [],
   "source": []
  },
  {
   "cell_type": "code",
   "execution_count": null,
   "id": "4a40793b",
   "metadata": {},
   "outputs": [],
   "source": [
    "import statsmodels.formula.api as smf\n",
    "from pyspark.sql.functions import col"
   ]
  },
  {
   "cell_type": "code",
   "execution_count": null,
   "id": "6218ab2f",
   "metadata": {},
   "outputs": [],
   "source": [
    "new_data_pandas = new_data.select( 'Age', \n",
    " 'Gender_ohe',\n",
    " 'Marital Status_ohe',\n",
    " 'Occupation_ohe',\n",
    " 'Monthly Income_ohe',\n",
    " 'Educational Qualifications_ohe',\n",
    " 'Family size',\n",
    " 'latitude',\n",
    " 'longitude',\n",
    " 'Pin code',\n",
    " 'Output_ohe',\n",
    " 'Feedback_ohe',\n",
    " '_c12')"
   ]
  },
  {
   "cell_type": "code",
   "execution_count": null,
   "id": "fd5e56b6",
   "metadata": {},
   "outputs": [],
   "source": [
    "pandas_df = new_data_pandas.toPandas()"
   ]
  },
  {
   "cell_type": "code",
   "execution_count": null,
   "id": "5f83b87f",
   "metadata": {},
   "outputs": [],
   "source": []
  },
  {
   "cell_type": "code",
   "execution_count": null,
   "id": "bedc3fcd",
   "metadata": {},
   "outputs": [],
   "source": []
  },
  {
   "cell_type": "code",
   "execution_count": null,
   "id": "4bf65f00",
   "metadata": {},
   "outputs": [],
   "source": []
  },
  {
   "cell_type": "code",
   "execution_count": null,
   "id": "ff52f624",
   "metadata": {},
   "outputs": [],
   "source": []
  },
  {
   "cell_type": "code",
   "execution_count": null,
   "id": "68ae1d55",
   "metadata": {},
   "outputs": [],
   "source": [
    "from pyspark.sql.functions import when"
   ]
  },
  {
   "cell_type": "code",
   "execution_count": null,
   "id": "d654dd85",
   "metadata": {},
   "outputs": [],
   "source": [
    "new_data = new_data.withColumn(\"_c12\", when(new_data[\"_c12\"] == \"Yes\", 1).otherwise(0))"
   ]
  },
  {
   "cell_type": "code",
   "execution_count": null,
   "id": "044e646f",
   "metadata": {},
   "outputs": [],
   "source": []
  },
  {
   "cell_type": "code",
   "execution_count": null,
   "id": "e2412612",
   "metadata": {},
   "outputs": [],
   "source": [
    "def forward_selection(data, response):\n",
    "    remaining = set(data.columns)\n",
    "    remaining.remove(response)\n",
    "    selected = []\n",
    "    current_score, best_new_score = float('inf'), float('inf')\n",
    "    while remaining and current_score == best_new_score:\n",
    "        scores_with_candidates = []\n",
    "        for candidate in remaining:\n",
    "            formula = \"{} ~ {}\".format(response, ' + '.join(selected + [candidate]))\n",
    "            score = smf.ols(formula, data).fit().aic\n",
    "            scores_with_candidates.append((score, candidate))\n",
    "        scores_with_candidates.sort()\n",
    "        best_new_score, best_candidate = scores_with_candidates.pop(0)\n",
    "        if current_score > best_new_score:\n",
    "            remaining.remove(best_candidate)\n",
    "            selected.append(best_candidate)\n",
    "            current_score = best_new_score\n",
    "    formula = \"{} ~ {}\".format(response, ' + '.join(selected))\n",
    "    model = smf.ols(formula, data).fit()\n",
    "    return model, selected\n",
    "model, selected_columns = forward_selection(pandas_df, '_c12')"
   ]
  },
  {
   "cell_type": "code",
   "execution_count": null,
   "id": "71a664a2",
   "metadata": {},
   "outputs": [],
   "source": [
    "assembler = VectorAssembler(inputCols=['Output_ohe', 'Gender_ohe', 'Monthly Income_ohe'], outputCol='features')"
   ]
  },
  {
   "cell_type": "code",
   "execution_count": null,
   "id": "23a1f12d",
   "metadata": {},
   "outputs": [],
   "source": [
    "new_data.head()"
   ]
  },
  {
   "cell_type": "code",
   "execution_count": null,
   "id": "249741f3",
   "metadata": {},
   "outputs": [],
   "source": [
    "trans = assembler.transform(new_data) "
   ]
  },
  {
   "cell_type": "code",
   "execution_count": null,
   "id": "2f4cb71b",
   "metadata": {},
   "outputs": [],
   "source": [
    "trans = trans.withColumn(\"_c12\", col(\"_c12\").cast(\"int\"))"
   ]
  },
  {
   "cell_type": "code",
   "execution_count": null,
   "id": "85767881",
   "metadata": {},
   "outputs": [],
   "source": [
    "trans.head()"
   ]
  },
  {
   "cell_type": "code",
   "execution_count": null,
   "id": "2f90b743",
   "metadata": {},
   "outputs": [],
   "source": [
    "mm = trans.select('features', '_c12')"
   ]
  },
  {
   "cell_type": "code",
   "execution_count": null,
   "id": "422bc206",
   "metadata": {},
   "outputs": [],
   "source": [
    "mm = mm.withColumn(\"_c12\", col(\"_c12\").cast(\"int\"))"
   ]
  },
  {
   "cell_type": "code",
   "execution_count": null,
   "id": "c80ba18f",
   "metadata": {},
   "outputs": [],
   "source": [
    "train_data, test_data = mm.randomSplit([0.7, 0.3])"
   ]
  },
  {
   "cell_type": "code",
   "execution_count": null,
   "id": "9aa1d1e5",
   "metadata": {},
   "outputs": [],
   "source": [
    "from pyspark.ml.classification import LogisticRegression"
   ]
  },
  {
   "cell_type": "code",
   "execution_count": null,
   "id": "000b8874",
   "metadata": {},
   "outputs": [],
   "source": [
    "lr = LogisticRegression(featuresCol='features', labelCol='_c12')"
   ]
  },
  {
   "cell_type": "code",
   "execution_count": null,
   "id": "d84abc68",
   "metadata": {},
   "outputs": [],
   "source": [
    "modelus = lr.fit(train_data)"
   ]
  },
  {
   "cell_type": "code",
   "execution_count": null,
   "id": "7bc3d06b",
   "metadata": {},
   "outputs": [],
   "source": [
    "results = modelus.transform(test_data)"
   ]
  },
  {
   "cell_type": "code",
   "execution_count": null,
   "id": "91822089",
   "metadata": {},
   "outputs": [],
   "source": [
    "from pyspark.ml.evaluation import BinaryClassificationEvaluator"
   ]
  },
  {
   "cell_type": "code",
   "execution_count": null,
   "id": "39a60567",
   "metadata": {},
   "outputs": [],
   "source": [
    "predictions = BinaryClassificationEvaluator(labelCol='_c12', rawPredictionCol='prediction')"
   ]
  },
  {
   "cell_type": "code",
   "execution_count": null,
   "id": "a14b9b9c",
   "metadata": {},
   "outputs": [],
   "source": [
    "auc = predictions.evaluate(results)"
   ]
  },
  {
   "cell_type": "code",
   "execution_count": 7,
   "id": "488215b4",
   "metadata": {},
   "outputs": [
    {
     "ename": "NameError",
     "evalue": "name 'auc' is not defined",
     "output_type": "error",
     "traceback": [
      "\u001b[1;31m---------------------------------------------------------------------------\u001b[0m",
      "\u001b[1;31mNameError\u001b[0m                                 Traceback (most recent call last)",
      "Cell \u001b[1;32mIn[7], line 1\u001b[0m\n\u001b[1;32m----> 1\u001b[0m auc\n",
      "\u001b[1;31mNameError\u001b[0m: name 'auc' is not defined"
     ]
    }
   ],
   "source": [
    "auc"
   ]
  },
  {
   "cell_type": "code",
   "execution_count": null,
   "id": "24d8413d",
   "metadata": {},
   "outputs": [],
   "source": []
  }
 ],
 "metadata": {
  "kernelspec": {
   "display_name": "Python 3 (ipykernel)",
   "language": "python",
   "name": "python3"
  },
  "language_info": {
   "codemirror_mode": {
    "name": "ipython",
    "version": 3
   },
   "file_extension": ".py",
   "mimetype": "text/x-python",
   "name": "python",
   "nbconvert_exporter": "python",
   "pygments_lexer": "ipython3",
   "version": "3.11.5"
  }
 },
 "nbformat": 4,
 "nbformat_minor": 5
}
