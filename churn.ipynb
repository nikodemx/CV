{
 "cells": [
  {
   "cell_type": "code",
   "execution_count": 1,
   "id": "71547ace",
   "metadata": {},
   "outputs": [],
   "source": [
    "from pyspark.sql import SparkSession "
   ]
  },
  {
   "cell_type": "code",
   "execution_count": 2,
   "id": "c1bbbfa2",
   "metadata": {},
   "outputs": [],
   "source": [
    "spark = SparkSession.builder.appName('nd').getOrCreate()"
   ]
  },
  {
   "cell_type": "code",
   "execution_count": 23,
   "id": "7f19ad7f",
   "metadata": {},
   "outputs": [],
   "source": [
    "data = spark.read.csv(r\"C:\\Users\\Asus\\Desktop\\studia big data\\Python-and-Spark-for-Big-Data-master\\Spark_for_Machine_Learning\\Logistic_Regression\\customer_churn.csv\", inferSchema = True, header=True)"
   ]
  },
  {
   "cell_type": "code",
   "execution_count": 24,
   "id": "8aba13c8",
   "metadata": {},
   "outputs": [
    {
     "data": {
      "text/plain": [
       "['Names',\n",
       " 'Age',\n",
       " 'Total_Purchase',\n",
       " 'Account_Manager',\n",
       " 'Years',\n",
       " 'Num_Sites',\n",
       " 'Onboard_date',\n",
       " 'Location',\n",
       " 'Company',\n",
       " 'Churn']"
      ]
     },
     "execution_count": 24,
     "metadata": {},
     "output_type": "execute_result"
    }
   ],
   "source": [
    "data.columns"
   ]
  },
  {
   "cell_type": "code",
   "execution_count": 25,
   "id": "3edc368d",
   "metadata": {},
   "outputs": [
    {
     "data": {
      "text/plain": [
       "<bound method DataFrame.printSchema of DataFrame[Names: string, Age: double, Total_Purchase: double, Account_Manager: int, Years: double, Num_Sites: double, Onboard_date: timestamp, Location: string, Company: string, Churn: int]>"
      ]
     },
     "execution_count": 25,
     "metadata": {},
     "output_type": "execute_result"
    }
   ],
   "source": [
    "data.printSchema"
   ]
  },
  {
   "cell_type": "code",
   "execution_count": 26,
   "id": "f3822d43",
   "metadata": {},
   "outputs": [],
   "source": [
    "prepared_data = data.select(['Age',\n",
    " 'Total_Purchase',\n",
    " 'Account_Manager',\n",
    " 'Years',\n",
    " 'Num_Sites',  'Churn'])"
   ]
  },
  {
   "cell_type": "code",
   "execution_count": 27,
   "id": "aaff4811",
   "metadata": {},
   "outputs": [],
   "source": [
    "null_free = prepared_data.na.drop"
   ]
  },
  {
   "cell_type": "code",
   "execution_count": 28,
   "id": "5b3bce26",
   "metadata": {},
   "outputs": [],
   "source": [
    "from pyspark.ml.feature import VectorAssembler, StringIndexer, OneHotEncoder"
   ]
  },
  {
   "cell_type": "code",
   "execution_count": 29,
   "id": "805e633f",
   "metadata": {},
   "outputs": [],
   "source": [
    "from pyspark.sql.functions import countDistinct"
   ]
  },
  {
   "cell_type": "code",
   "execution_count": 58,
   "id": "bb7728c3",
   "metadata": {},
   "outputs": [],
   "source": [
    "assembler = VectorAssembler(inputCols=['Age',\n",
    " 'Total_Purchase',\n",
    " 'Account_Manager',\n",
    " 'Years',\n",
    " 'Num_Sites'], outputCol='features')"
   ]
  },
  {
   "cell_type": "code",
   "execution_count": 59,
   "id": "ff11d3e2",
   "metadata": {},
   "outputs": [],
   "source": [
    "model = assembler.transform(data)\n"
   ]
  },
  {
   "cell_type": "code",
   "execution_count": 60,
   "id": "6faadc9b",
   "metadata": {},
   "outputs": [],
   "source": [
    "final = model.select('features', 'Churn')\n",
    "train_data, test_data = final.randomSplit([0.7, 0.3])"
   ]
  },
  {
   "cell_type": "code",
   "execution_count": 61,
   "id": "dbd04cea",
   "metadata": {},
   "outputs": [],
   "source": [
    "from pyspark.ml.classification import LogisticRegression"
   ]
  },
  {
   "cell_type": "code",
   "execution_count": 62,
   "id": "11175511",
   "metadata": {},
   "outputs": [],
   "source": [
    "lr = LogisticRegression(labelCol='Churn')"
   ]
  },
  {
   "cell_type": "code",
   "execution_count": 63,
   "id": "37840f7e",
   "metadata": {},
   "outputs": [],
   "source": [
    "lr_model = lr.fit(train_data)"
   ]
  },
  {
   "cell_type": "code",
   "execution_count": 73,
   "id": "f8eff50a",
   "metadata": {},
   "outputs": [],
   "source": [
    "training_sum = lr_model.summary"
   ]
  },
  {
   "cell_type": "code",
   "execution_count": 74,
   "id": "c66c3eb9",
   "metadata": {},
   "outputs": [
    {
     "name": "stdout",
     "output_type": "stream",
     "text": [
      "+--------------------+-----+--------------------+--------------------+----------+\n",
      "|            features|Churn|       rawPrediction|         probability|prediction|\n",
      "+--------------------+-----+--------------------+--------------------+----------+\n",
      "|[22.0,11254.38,1....|  0.0|[4.65315773091174...|[0.99055853433502...|       0.0|\n",
      "|[25.0,9672.03,0.0...|  0.0|[4.89336598791302...|[0.99255962612540...|       0.0|\n",
      "|[26.0,8787.39,1.0...|  1.0|[0.50047377763874...|[0.62257066424425...|       0.0|\n",
      "|[26.0,8939.61,0.0...|  0.0|[6.70071417738344...|[0.99877147799569...|       0.0|\n",
      "|[27.0,8628.8,1.0,...|  0.0|[5.66456510368655...|[0.99654532109971...|       0.0|\n",
      "|[28.0,8670.98,0.0...|  0.0|[8.18206942348817...|[0.99972045548376...|       0.0|\n",
      "|[28.0,9090.43,1.0...|  0.0|[1.45467029915035...|[0.81071615714475...|       0.0|\n",
      "|[28.0,11128.95,1....|  0.0|[4.18422472941983...|[0.98499458088639...|       0.0|\n",
      "|[28.0,11245.38,0....|  0.0|[3.88255134440310...|[0.97981751793324...|       0.0|\n",
      "|[29.0,8688.17,1.0...|  1.0|[2.73481292297484...|[0.93904988856174...|       0.0|\n",
      "|[29.0,9378.24,0.0...|  0.0|[4.96411115274788...|[0.99306428432019...|       0.0|\n",
      "|[29.0,9617.59,0.0...|  0.0|[4.63640923272160...|[0.99040060305654...|       0.0|\n",
      "|[29.0,10203.18,1....|  0.0|[3.81978159721456...|[0.97853812402722...|       0.0|\n",
      "|[29.0,11274.46,1....|  0.0|[4.48274737086761...|[0.98882399596158...|       0.0|\n",
      "|[29.0,12711.15,0....|  0.0|[5.50772980283589...|[0.99596107578359...|       0.0|\n",
      "|[29.0,13255.05,1....|  0.0|[4.05241305170739...|[0.98291653298914...|       0.0|\n",
      "|[30.0,6744.87,0.0...|  0.0|[3.73432844668779...|[0.97666817038353...|       0.0|\n",
      "|[30.0,7960.64,1.0...|  1.0|[3.07644014150005...|[0.95591039509706...|       0.0|\n",
      "|[30.0,10183.98,1....|  0.0|[2.84030574198330...|[0.94481540554444...|       0.0|\n",
      "|[30.0,10744.14,1....|  1.0|[1.68562763891531...|[0.84364828604602...|       0.0|\n",
      "+--------------------+-----+--------------------+--------------------+----------+\n",
      "only showing top 20 rows\n",
      "\n"
     ]
    }
   ],
   "source": [
    "training_sum.predictions.show()"
   ]
  },
  {
   "cell_type": "code",
   "execution_count": 76,
   "id": "f38ab97f",
   "metadata": {},
   "outputs": [],
   "source": [
    "testing = lr_model.evaluate(test_data)"
   ]
  },
  {
   "cell_type": "code",
   "execution_count": 83,
   "id": "a1836877",
   "metadata": {},
   "outputs": [
    {
     "name": "stdout",
     "output_type": "stream",
     "text": [
      "+--------------------+-----+--------------------+--------------------+----------+\n",
      "|            features|Churn|       rawPrediction|         probability|prediction|\n",
      "+--------------------+-----+--------------------+--------------------+----------+\n",
      "|[28.0,11204.23,0....|    0|[1.69108250122773...|[0.84436646627746...|       0.0|\n",
      "|[29.0,5900.78,1.0...|    0|[4.35053505854359...|[0.98726437980817...|       0.0|\n",
      "|[29.0,13240.01,1....|    0|[6.79803201764769...|[0.99888527480308...|       0.0|\n",
      "|[30.0,8403.78,1.0...|    0|[6.12797635307839...|[0.99782375631403...|       0.0|\n",
      "|[30.0,8677.28,1.0...|    0|[4.36516799326981...|[0.98744706011340...|       0.0|\n",
      "|[30.0,8874.83,0.0...|    0|[3.31236416014472...|[0.96485054702146...|       0.0|\n",
      "|[31.0,7073.61,0.0...|    0|[3.3166859467403,...|[0.96499682186618...|       0.0|\n",
      "|[31.0,11297.57,1....|    1|[0.79106824637874...|[0.68806065775865...|       0.0|\n",
      "|[31.0,12264.68,1....|    0|[3.46983055217581...|[0.96981705884391...|       0.0|\n",
      "|[32.0,6367.22,1.0...|    0|[3.02385098509087...|[0.95364007789142...|       0.0|\n",
      "|[32.0,8011.38,0.0...|    0|[2.08679312709491...|[0.88961289823179...|       0.0|\n",
      "|[32.0,8617.98,1.0...|    1|[0.98404958822604...|[0.72791100374490...|       0.0|\n",
      "|[32.0,9036.27,0.0...|    0|[-0.2715645028497...|[0.43252305225598...|       1.0|\n",
      "|[32.0,10716.75,0....|    0|[4.54294613447079...|[0.98947005224525...|       0.0|\n",
      "|[32.0,12142.99,0....|    0|[5.76164540138125...|[0.99686393482640...|       0.0|\n",
      "|[32.0,13630.93,0....|    0|[2.10934380682559...|[0.89180803575564...|       0.0|\n",
      "|[33.0,4711.89,0.0...|    0|[6.38930593176927...|[0.99832339429751...|       0.0|\n",
      "|[33.0,7720.61,1.0...|    0|[1.67192716850876...|[0.84183259363731...|       0.0|\n",
      "|[33.0,8556.73,0.0...|    0|[3.88256667665930...|[0.97981782112867...|       0.0|\n",
      "|[33.0,11370.28,1....|    0|[6.80343722356641...|[0.99889127720518...|       0.0|\n",
      "+--------------------+-----+--------------------+--------------------+----------+\n",
      "only showing top 20 rows\n",
      "\n"
     ]
    }
   ],
   "source": [
    "testing.predictions.show()"
   ]
  },
  {
   "cell_type": "code",
   "execution_count": 84,
   "id": "a973857a",
   "metadata": {},
   "outputs": [
    {
     "data": {
      "text/plain": [
       "0.9081159420289858"
      ]
     },
     "execution_count": 84,
     "metadata": {},
     "output_type": "execute_result"
    }
   ],
   "source": [
    "testing.areaUnderROC"
   ]
  },
  {
   "cell_type": "code",
   "execution_count": 87,
   "id": "50537832",
   "metadata": {},
   "outputs": [
    {
     "name": "stdout",
     "output_type": "stream",
     "text": [
      "+--------------------+-----+--------------------+--------------------+----------+\n",
      "|            features|Churn|       rawPrediction|         probability|prediction|\n",
      "+--------------------+-----+--------------------+--------------------+----------+\n",
      "|[28.0,11204.23,0....|    0|[1.69108250122773...|[0.84436646627746...|       0.0|\n",
      "|[29.0,5900.78,1.0...|    0|[4.35053505854359...|[0.98726437980817...|       0.0|\n",
      "|[29.0,13240.01,1....|    0|[6.79803201764769...|[0.99888527480308...|       0.0|\n",
      "|[30.0,8403.78,1.0...|    0|[6.12797635307839...|[0.99782375631403...|       0.0|\n",
      "|[30.0,8677.28,1.0...|    0|[4.36516799326981...|[0.98744706011340...|       0.0|\n",
      "|[30.0,8874.83,0.0...|    0|[3.31236416014472...|[0.96485054702146...|       0.0|\n",
      "|[31.0,7073.61,0.0...|    0|[3.3166859467403,...|[0.96499682186618...|       0.0|\n",
      "|[31.0,11297.57,1....|    1|[0.79106824637874...|[0.68806065775865...|       0.0|\n",
      "|[31.0,12264.68,1....|    0|[3.46983055217581...|[0.96981705884391...|       0.0|\n",
      "|[32.0,6367.22,1.0...|    0|[3.02385098509087...|[0.95364007789142...|       0.0|\n",
      "|[32.0,8011.38,0.0...|    0|[2.08679312709491...|[0.88961289823179...|       0.0|\n",
      "|[32.0,8617.98,1.0...|    1|[0.98404958822604...|[0.72791100374490...|       0.0|\n",
      "|[32.0,9036.27,0.0...|    0|[-0.2715645028497...|[0.43252305225598...|       1.0|\n",
      "|[32.0,10716.75,0....|    0|[4.54294613447079...|[0.98947005224525...|       0.0|\n",
      "|[32.0,12142.99,0....|    0|[5.76164540138125...|[0.99686393482640...|       0.0|\n",
      "|[32.0,13630.93,0....|    0|[2.10934380682559...|[0.89180803575564...|       0.0|\n",
      "|[33.0,4711.89,0.0...|    0|[6.38930593176927...|[0.99832339429751...|       0.0|\n",
      "|[33.0,7720.61,1.0...|    0|[1.67192716850876...|[0.84183259363731...|       0.0|\n",
      "|[33.0,8556.73,0.0...|    0|[3.88256667665930...|[0.97981782112867...|       0.0|\n",
      "|[33.0,11370.28,1....|    0|[6.80343722356641...|[0.99889127720518...|       0.0|\n",
      "+--------------------+-----+--------------------+--------------------+----------+\n",
      "only showing top 20 rows\n",
      "\n"
     ]
    }
   ],
   "source": [
    "testing.predictions.show()"
   ]
  },
  {
   "cell_type": "code",
   "execution_count": 91,
   "id": "abfe5fb9",
   "metadata": {},
   "outputs": [],
   "source": [
    "churn_eval = BinaryClassificationEvaluator(rawPredictionCol='prediction',\n",
    "                                           labelCol='Churn')\n"
   ]
  },
  {
   "cell_type": "code",
   "execution_count": 93,
   "id": "2f0b950a",
   "metadata": {},
   "outputs": [],
   "source": [
    "auc = churn_eval.evaluate(testing.predictions)"
   ]
  },
  {
   "cell_type": "code",
   "execution_count": 94,
   "id": "f4502025",
   "metadata": {},
   "outputs": [
    {
     "data": {
      "text/plain": [
       "0.7695652173913045"
      ]
     },
     "execution_count": 94,
     "metadata": {},
     "output_type": "execute_result"
    }
   ],
   "source": [
    "auc"
   ]
  },
  {
   "cell_type": "code",
   "execution_count": 96,
   "id": "734e316b",
   "metadata": {},
   "outputs": [],
   "source": [
    "new_test = spark.read.csv(r\"C:\\Users\\Asus\\Desktop\\studia big data\\Python-and-Spark-for-Big-Data-master\\Spark_for_Machine_Learning\\Logistic_Regression\\new_customers.csv\", inferSchema = True, header = True)"
   ]
  },
  {
   "cell_type": "code",
   "execution_count": 98,
   "id": "6b5a4fb9",
   "metadata": {},
   "outputs": [
    {
     "data": {
      "text/plain": [
       "Row(Names='Andrew Mccall', Age=37.0, Total_Purchase=9935.53, Account_Manager=1, Years=7.71, Num_Sites=8.0, Onboard_date=datetime.datetime(2011, 8, 29, 18, 37, 54), Location='38612 Johnny Stravenue Nataliebury, WI 15717-8316', Company='King Ltd')"
      ]
     },
     "execution_count": 98,
     "metadata": {},
     "output_type": "execute_result"
    }
   ],
   "source": []
  },
  {
   "cell_type": "code",
   "execution_count": 99,
   "id": "e97e81ad",
   "metadata": {},
   "outputs": [],
   "source": [
    "final_lr = lr.fit(final)"
   ]
  },
  {
   "cell_type": "code",
   "execution_count": 100,
   "id": "ce00ee19",
   "metadata": {},
   "outputs": [],
   "source": [
    "testing2 = assembler.transform(new_test)"
   ]
  },
  {
   "cell_type": "code",
   "execution_count": 101,
   "id": "9fc30765",
   "metadata": {},
   "outputs": [],
   "source": [
    "final_results = final_lr.transform(testing2)"
   ]
  },
  {
   "cell_type": "code",
   "execution_count": 104,
   "id": "cafc70da",
   "metadata": {},
   "outputs": [
    {
     "name": "stdout",
     "output_type": "stream",
     "text": [
      "+----------------+----------+\n",
      "|         Company|prediction|\n",
      "+----------------+----------+\n",
      "|        King Ltd|       0.0|\n",
      "|   Cannon-Benson|       1.0|\n",
      "|Barron-Robertson|       1.0|\n",
      "|   Sexton-Golden|       1.0|\n",
      "|        Wood LLC|       0.0|\n",
      "|   Parks-Robbins|       1.0|\n",
      "+----------------+----------+\n",
      "\n"
     ]
    }
   ],
   "source": [
    "final_results.select('Company', 'prediction').show()"
   ]
  },
  {
   "cell_type": "code",
   "execution_count": null,
   "id": "e95e03c2",
   "metadata": {},
   "outputs": [],
   "source": []
  }
 ],
 "metadata": {
  "kernelspec": {
   "display_name": "Python 3 (ipykernel)",
   "language": "python",
   "name": "python3"
  },
  "language_info": {
   "codemirror_mode": {
    "name": "ipython",
    "version": 3
   },
   "file_extension": ".py",
   "mimetype": "text/x-python",
   "name": "python",
   "nbconvert_exporter": "python",
   "pygments_lexer": "ipython3",
   "version": "3.11.5"
  }
 },
 "nbformat": 4,
 "nbformat_minor": 5
}
