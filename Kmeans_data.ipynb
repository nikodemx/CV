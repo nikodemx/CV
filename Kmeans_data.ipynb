{
 "cells": [
  {
   "cell_type": "code",
   "execution_count": 2,
   "id": "0887c338",
   "metadata": {},
   "outputs": [],
   "source": [
    "from pyspark.sql import SparkSession\n"
   ]
  },
  {
   "cell_type": "code",
   "execution_count": 3,
   "id": "9ceb6983",
   "metadata": {},
   "outputs": [],
   "source": [
    "spark = SparkSession.builder.appName('food').getOrCreate()"
   ]
  },
  {
   "cell_type": "code",
   "execution_count": 6,
   "id": "9578c394",
   "metadata": {},
   "outputs": [],
   "source": [
    "data = spark.read.csv(r\"C:\\Users\\Asus\\Desktop\\studia big data\\Python-and-Spark-for-Big-Data-master\\Spark_for_Machine_Learning\\Clustering\\hack_data.csv\", inferSchema = True, header = True)"
   ]
  },
  {
   "cell_type": "code",
   "execution_count": 8,
   "id": "568b5ffb",
   "metadata": {},
   "outputs": [
    {
     "data": {
      "text/plain": [
       "['Session_Connection_Time',\n",
       " 'Bytes Transferred',\n",
       " 'Kali_Trace_Used',\n",
       " 'Servers_Corrupted',\n",
       " 'Pages_Corrupted',\n",
       " 'Location',\n",
       " 'WPM_Typing_Speed']"
      ]
     },
     "execution_count": 8,
     "metadata": {},
     "output_type": "execute_result"
    }
   ],
   "source": [
    "data"
   ]
  },
  {
   "cell_type": "code",
   "execution_count": 9,
   "id": "3470ea62",
   "metadata": {},
   "outputs": [
    {
     "data": {
      "text/plain": [
       "<bound method DataFrame.printSchema of DataFrame[Session_Connection_Time: double, Bytes Transferred: double, Kali_Trace_Used: int, Servers_Corrupted: double, Pages_Corrupted: double, Location: string, WPM_Typing_Speed: double]>"
      ]
     },
     "execution_count": 9,
     "metadata": {},
     "output_type": "execute_result"
    }
   ],
   "source": [
    "data.printSchema"
   ]
  },
  {
   "cell_type": "code",
   "execution_count": 10,
   "id": "932619f6",
   "metadata": {},
   "outputs": [
    {
     "data": {
      "text/plain": [
       "[Row(Session_Connection_Time=8.0, Bytes Transferred=391.09, Kali_Trace_Used=1, Servers_Corrupted=2.96, Pages_Corrupted=7.0, Location='Slovenia', WPM_Typing_Speed=72.37),\n",
       " Row(Session_Connection_Time=20.0, Bytes Transferred=720.99, Kali_Trace_Used=0, Servers_Corrupted=3.04, Pages_Corrupted=9.0, Location='British Virgin Islands', WPM_Typing_Speed=69.08),\n",
       " Row(Session_Connection_Time=31.0, Bytes Transferred=356.32, Kali_Trace_Used=1, Servers_Corrupted=3.71, Pages_Corrupted=8.0, Location='Tokelau', WPM_Typing_Speed=70.58),\n",
       " Row(Session_Connection_Time=2.0, Bytes Transferred=228.08, Kali_Trace_Used=1, Servers_Corrupted=2.48, Pages_Corrupted=8.0, Location='Bolivia', WPM_Typing_Speed=70.8),\n",
       " Row(Session_Connection_Time=20.0, Bytes Transferred=408.5, Kali_Trace_Used=0, Servers_Corrupted=3.57, Pages_Corrupted=8.0, Location='Iraq', WPM_Typing_Speed=71.28)]"
      ]
     },
     "execution_count": 10,
     "metadata": {},
     "output_type": "execute_result"
    }
   ],
   "source": [
    "data.head(5)"
   ]
  },
  {
   "cell_type": "code",
   "execution_count": 12,
   "id": "fb4a6d2a",
   "metadata": {},
   "outputs": [
    {
     "data": {
      "text/plain": [
       "['Session_Connection_Time',\n",
       " 'Bytes Transferred',\n",
       " 'Kali_Trace_Used',\n",
       " 'Servers_Corrupted',\n",
       " 'Pages_Corrupted',\n",
       " 'Location',\n",
       " 'WPM_Typing_Speed']"
      ]
     },
     "execution_count": 12,
     "metadata": {},
     "output_type": "execute_result"
    }
   ],
   "source": [
    "data.columns"
   ]
  },
  {
   "cell_type": "code",
   "execution_count": 13,
   "id": "bc861032",
   "metadata": {},
   "outputs": [],
   "source": [
    "from pyspark.ml.clustering import KMeans"
   ]
  },
  {
   "cell_type": "code",
   "execution_count": 14,
   "id": "4e57e314",
   "metadata": {},
   "outputs": [],
   "source": [
    "from pyspark.ml.feature import VectorAssembler"
   ]
  },
  {
   "cell_type": "code",
   "execution_count": 15,
   "id": "c66346c5",
   "metadata": {},
   "outputs": [],
   "source": [
    "assembler = VectorAssembler(inputCols=['Session_Connection_Time' ,\n",
    "                                       'Bytes Transferred',\n",
    " 'Kali_Trace_Used',\n",
    " 'Servers_Corrupted',\n",
    " 'Pages_Corrupted', 'WPM_Typing_Speed'], outputCol='features')"
   ]
  },
  {
   "cell_type": "code",
   "execution_count": 16,
   "id": "222d7687",
   "metadata": {},
   "outputs": [],
   "source": [
    "from pyspark.ml.feature import StandardScaler"
   ]
  },
  {
   "cell_type": "code",
   "execution_count": null,
   "id": "cc3af2ee",
   "metadata": {},
   "outputs": [],
   "source": []
  },
  {
   "cell_type": "code",
   "execution_count": 17,
   "id": "115236ea",
   "metadata": {},
   "outputs": [],
   "source": [
    "scaler = StandardScaler(inputCol='features', outputCol='scaled_features')"
   ]
  },
  {
   "cell_type": "code",
   "execution_count": 19,
   "id": "645bb643",
   "metadata": {},
   "outputs": [],
   "source": [
    "model_as = assembler.transform(data)"
   ]
  },
  {
   "cell_type": "code",
   "execution_count": 20,
   "id": "3ea8e373",
   "metadata": {},
   "outputs": [
    {
     "data": {
      "text/plain": [
       "DataFrame[Session_Connection_Time: double, Bytes Transferred: double, Kali_Trace_Used: int, Servers_Corrupted: double, Pages_Corrupted: double, Location: string, WPM_Typing_Speed: double, features: vector]"
      ]
     },
     "execution_count": 20,
     "metadata": {},
     "output_type": "execute_result"
    }
   ],
   "source": [
    "model_as"
   ]
  },
  {
   "cell_type": "code",
   "execution_count": 43,
   "id": "99f1929e",
   "metadata": {},
   "outputs": [],
   "source": [
    "dada = scaler.fit(model_as)"
   ]
  },
  {
   "cell_type": "code",
   "execution_count": 44,
   "id": "e3e499aa",
   "metadata": {},
   "outputs": [],
   "source": [
    "cluster_final = dada.transform(model_as)"
   ]
  },
  {
   "cell_type": "code",
   "execution_count": 45,
   "id": "9fd17967",
   "metadata": {},
   "outputs": [],
   "source": [
    "k2 = KMeans(featuresCol='scaled_features', k=2)"
   ]
  },
  {
   "cell_type": "code",
   "execution_count": 46,
   "id": "1c08e8aa",
   "metadata": {},
   "outputs": [],
   "source": [
    "k3 = KMeans(featuresCol='scaled_features', k=3)"
   ]
  },
  {
   "cell_type": "code",
   "execution_count": 66,
   "id": "de058326",
   "metadata": {},
   "outputs": [],
   "source": [
    "k4 = KMeans(featuresCol='scaled_features', k=4)"
   ]
  },
  {
   "cell_type": "code",
   "execution_count": 47,
   "id": "43f04a2f",
   "metadata": {},
   "outputs": [],
   "source": [
    "hack2 = k2.fit(cluster_final)"
   ]
  },
  {
   "cell_type": "code",
   "execution_count": 48,
   "id": "6acfb05d",
   "metadata": {},
   "outputs": [],
   "source": [
    "hack3 = k3.fit(cluster_final)"
   ]
  },
  {
   "cell_type": "code",
   "execution_count": 67,
   "id": "1ac80a64",
   "metadata": {},
   "outputs": [],
   "source": [
    "hack4 = k4.fit(cluster_final)"
   ]
  },
  {
   "cell_type": "code",
   "execution_count": 68,
   "id": "b19d2b45",
   "metadata": {},
   "outputs": [],
   "source": [
    "model4 = hack4.transform(cluster_final)"
   ]
  },
  {
   "cell_type": "code",
   "execution_count": 69,
   "id": "71dde2dd",
   "metadata": {},
   "outputs": [
    {
     "name": "stdout",
     "output_type": "stream",
     "text": [
      "+----------+-----+\n",
      "|prediction|count|\n",
      "+----------+-----+\n",
      "|         1|   83|\n",
      "|         3|   84|\n",
      "|         2|   88|\n",
      "|         0|   79|\n",
      "+----------+-----+\n",
      "\n"
     ]
    }
   ],
   "source": [
    "model4.groupBy('prediction').count().show()"
   ]
  },
  {
   "cell_type": "code",
   "execution_count": 49,
   "id": "75c6c2bd",
   "metadata": {},
   "outputs": [],
   "source": [
    "model2 = hack2.transform(cluster_final)"
   ]
  },
  {
   "cell_type": "code",
   "execution_count": 50,
   "id": "4f91533d",
   "metadata": {},
   "outputs": [
    {
     "name": "stdout",
     "output_type": "stream",
     "text": [
      "+----------+-----+\n",
      "|prediction|count|\n",
      "+----------+-----+\n",
      "|         1|  167|\n",
      "|         0|  167|\n",
      "+----------+-----+\n",
      "\n"
     ]
    }
   ],
   "source": [
    "model2.groupBy('prediction').count().show()"
   ]
  },
  {
   "cell_type": "code",
   "execution_count": 51,
   "id": "0e833868",
   "metadata": {},
   "outputs": [],
   "source": [
    "model3 = hack3.transform(cluster_final)"
   ]
  },
  {
   "cell_type": "code",
   "execution_count": 52,
   "id": "cf0dc26d",
   "metadata": {},
   "outputs": [
    {
     "name": "stdout",
     "output_type": "stream",
     "text": [
      "+----------+-----+\n",
      "|prediction|count|\n",
      "+----------+-----+\n",
      "|         1|   83|\n",
      "|         2|   84|\n",
      "|         0|  167|\n",
      "+----------+-----+\n",
      "\n"
     ]
    }
   ],
   "source": [
    "model3.groupBy('prediction').count().show()"
   ]
  },
  {
   "cell_type": "code",
   "execution_count": 58,
   "id": "caa49308",
   "metadata": {},
   "outputs": [],
   "source": [
    "wssse_values = []\n",
    "for k in range(2,9):\n",
    "    kmeans = KMeans().setK(k).setFeaturesCol('scaled_features')  # Poprawne ustawienie liczby klastrów i kolumny z cechami\n",
    "    model = kmeans.fit(cluster_final)  # Trenowanie modelu\n",
    "    wssse = model.summary.trainingCost\n",
    "    wssse_values.append(wssse)"
   ]
  },
  {
   "cell_type": "code",
   "execution_count": 59,
   "id": "1f402195",
   "metadata": {},
   "outputs": [
    {
     "data": {
      "text/plain": [
       "[601.7707512676691,\n",
       " 434.1492898715821,\n",
       " 267.1336116887894,\n",
       " 252.95706084839765,\n",
       " 231.25146190309118,\n",
       " 213.00247952464343,\n",
       " 196.20007771931003]"
      ]
     },
     "execution_count": 59,
     "metadata": {},
     "output_type": "execute_result"
    }
   ],
   "source": [
    "wssse_values"
   ]
  },
  {
   "cell_type": "code",
   "execution_count": 60,
   "id": "78f6bb3d",
   "metadata": {},
   "outputs": [],
   "source": [
    "import matplotlib.pyplot as plt"
   ]
  },
  {
   "cell_type": "code",
   "execution_count": 64,
   "id": "d0737e3a",
   "metadata": {},
   "outputs": [],
   "source": [
    "k_values = range(2, 9)"
   ]
  },
  {
   "cell_type": "code",
   "execution_count": 65,
   "id": "fbebc27e",
   "metadata": {},
   "outputs": [
    {
     "data": {
      "image/png": "[encoded data removed]",
      "text/plain": [
       "<Figure size 1000x600 with 1 Axes>"
      ]
     },
     "metadata": {},
     "output_type": "display_data"
    }
   ],
   "source": [
    "plt.figure(figsize=(10, 6))\n",
    "plt.plot(k_values, wssse_values, '-o', color='blue')\n",
    "plt.title('WSSSE dla różnych wartości k')\n",
    "plt.xlabel('Liczba klastrów k')\n",
    "plt.ylabel('WSSSE')\n",
    "plt.xticks(k_values)\n",
    "plt.grid(True, which='both', linestyle='--', linewidth=0.5)\n",
    "plt.show()"
   ]
  },
  {
   "cell_type": "code",
   "execution_count": null,
   "id": "a19df0c1",
   "metadata": {},
   "outputs": [],
   "source": [
    "data."
   ]
  }
 ],
 "metadata": {
  "kernelspec": {
   "display_name": "Python 3 (ipykernel)",
   "language": "python",
   "name": "python3"
  },
  "language_info": {
   "codemirror_mode": {
    "name": "ipython",
    "version": 3
   },
   "file_extension": ".py",
   "mimetype": "text/x-python",
   "name": "python",
   "nbconvert_exporter": "python",
   "pygments_lexer": "ipython3",
   "version": "3.11.5"
  }
 },
 "nbformat": 4,
 "nbformat_minor": 5
}
