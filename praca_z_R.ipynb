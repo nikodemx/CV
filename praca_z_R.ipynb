{
 "cells": [
  {
   "cell_type": "code",
   "execution_count": 1,
   "id": "accb99b7",
   "metadata": {},
   "outputs": [],
   "source": [
    "from pyspark.sql import SparkSession\n",
    "spark = SparkSession.builder.appName('predykcja').getOrCreate()\n",
    "data = spark.read.csv(r\"C:\\Users\\Asus\\Downloads\\train_student.csv\", inferSchema = True, header=True)"
   ]
  },
  {
   "cell_type": "code",
   "execution_count": 7,
   "id": "844e53e8",
   "metadata": {},
   "outputs": [
    {
     "data": {
      "text/plain": [
       "<bound method DataFrame.printSchema of DataFrame[BirthYear: int, Sex: int, LicenseYear: double, CarBrand: int, CarType: int, CarYear: int, CarEngine: int, EngineCap: int, CarValue: int, AssistanceYears: double, Accidents: int, NextAccident: int]>"
      ]
     },
     "execution_count": 7,
     "metadata": {},
     "output_type": "execute_result"
    }
   ],
   "source": [
    "data.printSchema"
   ]
  },
  {
   "cell_type": "code",
   "execution_count": 3,
   "id": "2dc5bf56",
   "metadata": {},
   "outputs": [],
   "source": [
    "from pyspark.sql.functions import col, mean"
   ]
  },
  {
   "cell_type": "code",
   "execution_count": 19,
   "id": "ede16f34",
   "metadata": {},
   "outputs": [
    {
     "data": {
      "text/plain": [
       "<bound method DataFrame.describe of DataFrame[BirthYear: int, Sex: int, LicenseYear: double, CarBrand: int, CarType: int, CarYear: int, CarEngine: int, EngineCap: int, CarValue: int, AssistanceYears: double, Accidents: int, NextAccident: int, DriverAge: int, CarAge: int]>"
      ]
     },
     "execution_count": 19,
     "metadata": {},
     "output_type": "execute_result"
    }
   ],
   "source": [
    "data.describe"
   ]
  },
  {
   "cell_type": "code",
   "execution_count": 6,
   "id": "4d7a5ccf",
   "metadata": {},
   "outputs": [],
   "source": [
    "data = data.withColumn('EngineCap', data['EngineCap'].astype('int'))"
   ]
  },
  {
   "cell_type": "code",
   "execution_count": 8,
   "id": "bdf38d0c",
   "metadata": {},
   "outputs": [],
   "source": [
    "columns = data.columns"
   ]
  },
  {
   "cell_type": "code",
   "execution_count": 9,
   "id": "74e5bc95",
   "metadata": {},
   "outputs": [
    {
     "data": {
      "text/plain": [
       "['BirthYear',\n",
       " 'Sex',\n",
       " 'LicenseYear',\n",
       " 'CarBrand',\n",
       " 'CarType',\n",
       " 'CarYear',\n",
       " 'CarEngine',\n",
       " 'EngineCap',\n",
       " 'CarValue',\n",
       " 'AssistanceYears',\n",
       " 'Accidents',\n",
       " 'NextAccident']"
      ]
     },
     "execution_count": 9,
     "metadata": {},
     "output_type": "execute_result"
    }
   ],
   "source": [
    "columns"
   ]
  },
  {
   "cell_type": "code",
   "execution_count": 10,
   "id": "920bfe83",
   "metadata": {},
   "outputs": [],
   "source": [
    "current = 2024\n",
    "data = data.withColumn('DriverAge', current - data['BirthYear'])\n",
    "data = data.withColumn(\"CarAge\", current - data['CarYear'])"
   ]
  },
  {
   "cell_type": "code",
   "execution_count": 11,
   "id": "8942cbe4",
   "metadata": {},
   "outputs": [],
   "source": [
    "from pyspark.ml.feature import VectorAssembler, Imputer\n",
    "for column in columns:\n",
    "    imputer = Imputer(inputCols=[column], outputCols=[column])\n",
    "    model = imputer.fit(data)\n",
    "    data = model.transform(data)"
   ]
  },
  {
   "cell_type": "code",
   "execution_count": 12,
   "id": "71b9716c",
   "metadata": {},
   "outputs": [],
   "source": [
    "pandas_df = data.select(columns).toPandas()"
   ]
  },
  {
   "cell_type": "code",
   "execution_count": 30,
   "id": "7a3d2ee8",
   "metadata": {},
   "outputs": [
    {
     "data": {
      "text/plain": [
       "['BirthYear',\n",
       " 'Sex',\n",
       " 'LicenseYear',\n",
       " 'CarBrand',\n",
       " 'CarType',\n",
       " 'CarYear',\n",
       " 'CarEngine',\n",
       " 'EngineCap',\n",
       " 'CarValue',\n",
       " 'AssistanceYears',\n",
       " 'Accidents',\n",
       " 'NextAccident',\n",
       " 'DriverAge',\n",
       " 'CarAge']"
      ]
     },
     "execution_count": 30,
     "metadata": {},
     "output_type": "execute_result"
    }
   ],
   "source": [
    "columns"
   ]
  },
  {
   "cell_type": "code",
   "execution_count": 13,
   "id": "375ce3e1",
   "metadata": {},
   "outputs": [],
   "source": [
    "import matplotlib.pyplot as plt\n",
    "\n"
   ]
  },
  {
   "cell_type": "code",
   "execution_count": 32,
   "id": "9c419cc0",
   "metadata": {},
   "outputs": [
    {
     "name": "stdout",
     "output_type": "stream",
     "text": [
      "Collecting seaborn\n",
      "  Obtaining dependency information for seaborn from https://files.pythonhosted.org/packages/83/11/00d3c3dfc25ad54e731d91449895a79e4bf2384dc3ac01809010ba88f6d5/seaborn-0.13.2-py3-none-any.whl.metadata\n",
      "  Downloading seaborn-0.13.2-py3-none-any.whl.metadata (5.4 kB)\n",
      "Requirement already satisfied: numpy!=1.24.0,>=1.20 in c:\\users\\asus\\anaconda3\\envs\\pandas_playground\\lib\\site-packages (from seaborn) (1.26.0)\n",
      "Requirement already satisfied: pandas>=1.2 in c:\\users\\asus\\anaconda3\\envs\\pandas_playground\\lib\\site-packages (from seaborn) (2.0.3)\n",
      "Requirement already satisfied: matplotlib!=3.6.1,>=3.4 in c:\\users\\asus\\anaconda3\\envs\\pandas_playground\\lib\\site-packages (from seaborn) (3.8.3)\n",
      "Requirement already satisfied: contourpy>=1.0.1 in c:\\users\\asus\\anaconda3\\envs\\pandas_playground\\lib\\site-packages (from matplotlib!=3.6.1,>=3.4->seaborn) (1.2.0)\n",
      "Requirement already satisfied: cycler>=0.10 in c:\\users\\asus\\anaconda3\\envs\\pandas_playground\\lib\\site-packages (from matplotlib!=3.6.1,>=3.4->seaborn) (0.12.1)\n",
      "Requirement already satisfied: fonttools>=4.22.0 in c:\\users\\asus\\anaconda3\\envs\\pandas_playground\\lib\\site-packages (from matplotlib!=3.6.1,>=3.4->seaborn) (4.50.0)\n",
      "Requirement already satisfied: kiwisolver>=1.3.1 in c:\\users\\asus\\anaconda3\\envs\\pandas_playground\\lib\\site-packages (from matplotlib!=3.6.1,>=3.4->seaborn) (1.4.5)\n",
      "Requirement already satisfied: packaging>=20.0 in c:\\users\\asus\\anaconda3\\envs\\pandas_playground\\lib\\site-packages (from matplotlib!=3.6.1,>=3.4->seaborn) (23.1)\n",
      "Requirement already satisfied: pillow>=8 in c:\\users\\asus\\anaconda3\\envs\\pandas_playground\\lib\\site-packages (from matplotlib!=3.6.1,>=3.4->seaborn) (10.2.0)\n",
      "Requirement already satisfied: pyparsing>=2.3.1 in c:\\users\\asus\\anaconda3\\envs\\pandas_playground\\lib\\site-packages (from matplotlib!=3.6.1,>=3.4->seaborn) (3.1.2)\n",
      "Requirement already satisfied: python-dateutil>=2.7 in c:\\users\\asus\\anaconda3\\envs\\pandas_playground\\lib\\site-packages (from matplotlib!=3.6.1,>=3.4->seaborn) (2.8.2)\n",
      "Requirement already satisfied: pytz>=2020.1 in c:\\users\\asus\\anaconda3\\envs\\pandas_playground\\lib\\site-packages (from pandas>=1.2->seaborn) (2023.3.post1)\n",
      "Requirement already satisfied: tzdata>=2022.1 in c:\\users\\asus\\anaconda3\\envs\\pandas_playground\\lib\\site-packages (from pandas>=1.2->seaborn) (2023.3)\n",
      "Requirement already satisfied: six>=1.5 in c:\\users\\asus\\anaconda3\\envs\\pandas_playground\\lib\\site-packages (from python-dateutil>=2.7->matplotlib!=3.6.1,>=3.4->seaborn) (1.16.0)\n",
      "Downloading seaborn-0.13.2-py3-none-any.whl (294 kB)\n",
      "   ---------------------------------------- 0.0/294.9 kB ? eta -:--:--\n",
      "   - -------------------------------------- 10.2/294.9 kB ? eta -:--:--\n",
      "   ---- ---------------------------------- 30.7/294.9 kB 330.3 kB/s eta 0:00:01\n",
      "   ---- ---------------------------------- 30.7/294.9 kB 330.3 kB/s eta 0:00:01\n",
      "   --------- ----------------------------- 71.7/294.9 kB 491.5 kB/s eta 0:00:01\n",
      "   ------------------------------ --------- 225.3/294.9 kB 1.1 MB/s eta 0:00:01\n",
      "   ---------------------------------------- 294.9/294.9 kB 1.1 MB/s eta 0:00:00\n",
      "Installing collected packages: seaborn\n",
      "Successfully installed seaborn-0.13.2\n"
     ]
    }
   ],
   "source": [
    "!pip install seaborn"
   ]
  },
  {
   "cell_type": "code",
   "execution_count": 36,
   "id": "3af105f9",
   "metadata": {
    "scrolled": true
   },
   "outputs": [
    {
     "data": {
      "text/plain": [
       "['BirthYear',\n",
       " 'Sex',\n",
       " 'LicenseYear',\n",
       " 'CarBrand',\n",
       " 'CarType',\n",
       " 'CarYear',\n",
       " 'CarEngine',\n",
       " 'EngineCap',\n",
       " 'CarValue',\n",
       " 'AssistanceYears',\n",
       " 'Accidents',\n",
       " 'NextAccident',\n",
       " 'DriverAge',\n",
       " 'CarAge']"
      ]
     },
     "execution_count": 36,
     "metadata": {},
     "output_type": "execute_result"
    }
   ],
   "source": [
    "columns"
   ]
  },
  {
   "cell_type": "code",
   "execution_count": 15,
   "id": "ef39500f",
   "metadata": {},
   "outputs": [
    {
     "name": "stdout",
     "output_type": "stream",
     "text": [
      "0.08079373302229692\n"
     ]
    }
   ],
   "source": [
    "correlation_matrix = data.corr('CarAge', 'NextAccident')\n",
    "\n",
    "print(correlation_matrix)\n"
   ]
  },
  {
   "cell_type": "code",
   "execution_count": 41,
   "id": "01334b98",
   "metadata": {},
   "outputs": [],
   "source": [
    "import statsmodels.api as sm"
   ]
  },
  {
   "cell_type": "code",
   "execution_count": 78,
   "id": "80b82660",
   "metadata": {},
   "outputs": [],
   "source": [
    "X = pandas_df[[\n",
    "'BirthYear',\n",
    " 'Sex',\n",
    " 'LicenseYear',\n",
    " 'CarBrand',\n",
    " 'CarType',\n",
    " 'CarYear',\n",
    " 'CarEngine',\n",
    " 'EngineCap',\n",
    " 'CarValue',\n",
    " 'AssistanceYears',\n",
    " 'Accidents',\n",
    " 'DriverAge',\n",
    " 'CarAge'\n",
    "]]"
   ]
  },
  {
   "cell_type": "code",
   "execution_count": 79,
   "id": "721bc3ec",
   "metadata": {},
   "outputs": [],
   "source": [
    "Y = pandas_df['NextAccident']"
   ]
  },
  {
   "cell_type": "code",
   "execution_count": 80,
   "id": "b295b963",
   "metadata": {},
   "outputs": [
    {
     "name": "stdout",
     "output_type": "stream",
     "text": [
      "Optimization terminated successfully.\n",
      "         Current function value: 0.441637\n",
      "         Iterations 13\n"
     ]
    }
   ],
   "source": [
    "X = sm.add_constant(X)\n",
    "logit_model = sm.Logit(Y, X)\n",
    "\n",
    "# Dopasowanie modelu do danych\n",
    "logit_result = logit_model.fit()"
   ]
  },
  {
   "cell_type": "code",
   "execution_count": 81,
   "id": "ec85c3ac",
   "metadata": {
    "scrolled": false
   },
   "outputs": [
    {
     "data": {
      "text/html": [
       "<table class=\"simpletable\">\n",
       "<caption>Logit Regression Results</caption>\n",
       "<tr>\n",
       "  <th>Dep. Variable:</th>     <td>NextAccident</td>   <th>  No. Observations:  </th>   <td> 80000</td>  \n",
       "</tr>\n",
       "<tr>\n",
       "  <th>Model:</th>                 <td>Logit</td>      <th>  Df Residuals:      </th>   <td> 79986</td>  \n",
       "</tr>\n",
       "<tr>\n",
       "  <th>Method:</th>                 <td>MLE</td>       <th>  Df Model:          </th>   <td>    13</td>  \n",
       "</tr>\n",
       "<tr>\n",
       "  <th>Date:</th>            <td>Tue, 02 Apr 2024</td> <th>  Pseudo R-squ.:     </th>   <td>0.01817</td> \n",
       "</tr>\n",
       "<tr>\n",
       "  <th>Time:</th>                <td>17:36:44</td>     <th>  Log-Likelihood:    </th>  <td> -35331.</td> \n",
       "</tr>\n",
       "<tr>\n",
       "  <th>converged:</th>             <td>True</td>       <th>  LL-Null:           </th>  <td> -35985.</td> \n",
       "</tr>\n",
       "<tr>\n",
       "  <th>Covariance Type:</th>     <td>nonrobust</td>    <th>  LLR p-value:       </th> <td>1.261e-271</td>\n",
       "</tr>\n",
       "</table>\n",
       "<table class=\"simpletable\">\n",
       "<tr>\n",
       "         <td></td>            <th>coef</th>     <th>std err</th>      <th>z</th>      <th>P>|z|</th>  <th>[0.025</th>    <th>0.975]</th>  \n",
       "</tr>\n",
       "<tr>\n",
       "  <th>const</th>           <td> 2.619e-05</td> <td> 4.11e+05</td> <td> 6.38e-11</td> <td> 1.000</td> <td>-8.05e+05</td> <td> 8.05e+05</td>\n",
       "</tr>\n",
       "<tr>\n",
       "  <th>BirthYear</th>       <td>    0.0005</td> <td>    0.087</td> <td>    0.006</td> <td> 0.995</td> <td>   -0.171</td> <td>    0.172</td>\n",
       "</tr>\n",
       "<tr>\n",
       "  <th>Sex</th>             <td>    0.0030</td> <td>    0.020</td> <td>    0.150</td> <td> 0.880</td> <td>   -0.036</td> <td>    0.042</td>\n",
       "</tr>\n",
       "<tr>\n",
       "  <th>LicenseYear</th>     <td>   -0.0044</td> <td>    0.002</td> <td>   -2.044</td> <td> 0.041</td> <td>   -0.009</td> <td>   -0.000</td>\n",
       "</tr>\n",
       "<tr>\n",
       "  <th>CarBrand</th>        <td>   -0.0001</td> <td>    0.004</td> <td>   -0.030</td> <td> 0.976</td> <td>   -0.008</td> <td>    0.007</td>\n",
       "</tr>\n",
       "<tr>\n",
       "  <th>CarType</th>         <td>   -0.0059</td> <td>    0.010</td> <td>   -0.567</td> <td> 0.571</td> <td>   -0.026</td> <td>    0.014</td>\n",
       "</tr>\n",
       "<tr>\n",
       "  <th>CarYear</th>         <td>   -0.0010</td> <td>  202.916</td> <td>-4.91e-06</td> <td> 1.000</td> <td> -397.709</td> <td>  397.707</td>\n",
       "</tr>\n",
       "<tr>\n",
       "  <th>CarEngine</th>       <td>    0.0003</td> <td> 4.11e-05</td> <td>    7.848</td> <td> 0.000</td> <td>    0.000</td> <td>    0.000</td>\n",
       "</tr>\n",
       "<tr>\n",
       "  <th>EngineCap</th>       <td>    0.0008</td> <td>    0.000</td> <td>    3.177</td> <td> 0.001</td> <td>    0.000</td> <td>    0.001</td>\n",
       "</tr>\n",
       "<tr>\n",
       "  <th>CarValue</th>        <td> -2.46e-05</td> <td>    1e-06</td> <td>  -24.537</td> <td> 0.000</td> <td>-2.66e-05</td> <td>-2.26e-05</td>\n",
       "</tr>\n",
       "<tr>\n",
       "  <th>AssistanceYears</th> <td> 5.247e-05</td> <td>    0.003</td> <td>    0.020</td> <td> 0.984</td> <td>   -0.005</td> <td>    0.005</td>\n",
       "</tr>\n",
       "<tr>\n",
       "  <th>Accidents</th>       <td>    0.0071</td> <td>    0.009</td> <td>    0.755</td> <td> 0.450</td> <td>   -0.011</td> <td>    0.025</td>\n",
       "</tr>\n",
       "<tr>\n",
       "  <th>DriverAge</th>       <td>   -0.0010</td> <td>    0.087</td> <td>   -0.012</td> <td> 0.991</td> <td>   -0.172</td> <td>    0.170</td>\n",
       "</tr>\n",
       "<tr>\n",
       "  <th>CarAge</th>          <td>   -0.0006</td> <td>  202.916</td> <td>-2.89e-06</td> <td> 1.000</td> <td> -397.709</td> <td>  397.708</td>\n",
       "</tr>\n",
       "</table>"
      ],
      "text/latex": [
       "\\begin{center}\n",
       "\\begin{tabular}{lclc}\n",
       "\\toprule\n",
       "\\textbf{Dep. Variable:}   &   NextAccident   & \\textbf{  No. Observations:  } &    80000    \\\\\n",
       "\\textbf{Model:}           &      Logit       & \\textbf{  Df Residuals:      } &    79986    \\\\\n",
       "\\textbf{Method:}          &       MLE        & \\textbf{  Df Model:          } &       13    \\\\\n",
       "\\textbf{Date:}            & Tue, 02 Apr 2024 & \\textbf{  Pseudo R-squ.:     } &  0.01817    \\\\\n",
       "\\textbf{Time:}            &     17:36:44     & \\textbf{  Log-Likelihood:    } &   -35331.   \\\\\n",
       "\\textbf{converged:}       &       True       & \\textbf{  LL-Null:           } &   -35985.   \\\\\n",
       "\\textbf{Covariance Type:} &    nonrobust     & \\textbf{  LLR p-value:       } & 1.261e-271  \\\\\n",
       "\\bottomrule\n",
       "\\end{tabular}\n",
       "\\begin{tabular}{lcccccc}\n",
       "                         & \\textbf{coef} & \\textbf{std err} & \\textbf{z} & \\textbf{P$> |$z$|$} & \\textbf{[0.025} & \\textbf{0.975]}  \\\\\n",
       "\\midrule\n",
       "\\textbf{const}           &    2.619e-05  &     4.11e+05     &  6.38e-11  &         1.000        &    -8.05e+05    &     8.05e+05     \\\\\n",
       "\\textbf{BirthYear}       &       0.0005  &        0.087     &     0.006  &         0.995        &       -0.171    &        0.172     \\\\\n",
       "\\textbf{Sex}             &       0.0030  &        0.020     &     0.150  &         0.880        &       -0.036    &        0.042     \\\\\n",
       "\\textbf{LicenseYear}     &      -0.0044  &        0.002     &    -2.044  &         0.041        &       -0.009    &       -0.000     \\\\\n",
       "\\textbf{CarBrand}        &      -0.0001  &        0.004     &    -0.030  &         0.976        &       -0.008    &        0.007     \\\\\n",
       "\\textbf{CarType}         &      -0.0059  &        0.010     &    -0.567  &         0.571        &       -0.026    &        0.014     \\\\\n",
       "\\textbf{CarYear}         &      -0.0010  &      202.916     & -4.91e-06  &         1.000        &     -397.709    &      397.707     \\\\\n",
       "\\textbf{CarEngine}       &       0.0003  &     4.11e-05     &     7.848  &         0.000        &        0.000    &        0.000     \\\\\n",
       "\\textbf{EngineCap}       &       0.0008  &        0.000     &     3.177  &         0.001        &        0.000    &        0.001     \\\\\n",
       "\\textbf{CarValue}        &    -2.46e-05  &        1e-06     &   -24.537  &         0.000        &    -2.66e-05    &    -2.26e-05     \\\\\n",
       "\\textbf{AssistanceYears} &    5.247e-05  &        0.003     &     0.020  &         0.984        &       -0.005    &        0.005     \\\\\n",
       "\\textbf{Accidents}       &       0.0071  &        0.009     &     0.755  &         0.450        &       -0.011    &        0.025     \\\\\n",
       "\\textbf{DriverAge}       &      -0.0010  &        0.087     &    -0.012  &         0.991        &       -0.172    &        0.170     \\\\\n",
       "\\textbf{CarAge}          &      -0.0006  &      202.916     & -2.89e-06  &         1.000        &     -397.709    &      397.708     \\\\\n",
       "\\bottomrule\n",
       "\\end{tabular}\n",
       "%\\caption{Logit Regression Results}\n",
       "\\end{center}"
      ],
      "text/plain": [
       "<class 'statsmodels.iolib.summary.Summary'>\n",
       "\"\"\"\n",
       "                           Logit Regression Results                           \n",
       "==============================================================================\n",
       "Dep. Variable:           NextAccident   No. Observations:                80000\n",
       "Model:                          Logit   Df Residuals:                    79986\n",
       "Method:                           MLE   Df Model:                           13\n",
       "Date:                Tue, 02 Apr 2024   Pseudo R-squ.:                 0.01817\n",
       "Time:                        17:36:44   Log-Likelihood:                -35331.\n",
       "converged:                       True   LL-Null:                       -35985.\n",
       "Covariance Type:            nonrobust   LLR p-value:                1.261e-271\n",
       "===================================================================================\n",
       "                      coef    std err          z      P>|z|      [0.025      0.975]\n",
       "-----------------------------------------------------------------------------------\n",
       "const            2.619e-05   4.11e+05   6.38e-11      1.000   -8.05e+05    8.05e+05\n",
       "BirthYear           0.0005      0.087      0.006      0.995      -0.171       0.172\n",
       "Sex                 0.0030      0.020      0.150      0.880      -0.036       0.042\n",
       "LicenseYear        -0.0044      0.002     -2.044      0.041      -0.009      -0.000\n",
       "CarBrand           -0.0001      0.004     -0.030      0.976      -0.008       0.007\n",
       "CarType            -0.0059      0.010     -0.567      0.571      -0.026       0.014\n",
       "CarYear            -0.0010    202.916  -4.91e-06      1.000    -397.709     397.707\n",
       "CarEngine           0.0003   4.11e-05      7.848      0.000       0.000       0.000\n",
       "EngineCap           0.0008      0.000      3.177      0.001       0.000       0.001\n",
       "CarValue         -2.46e-05      1e-06    -24.537      0.000   -2.66e-05   -2.26e-05\n",
       "AssistanceYears  5.247e-05      0.003      0.020      0.984      -0.005       0.005\n",
       "Accidents           0.0071      0.009      0.755      0.450      -0.011       0.025\n",
       "DriverAge          -0.0010      0.087     -0.012      0.991      -0.172       0.170\n",
       "CarAge             -0.0006    202.916  -2.89e-06      1.000    -397.709     397.708\n",
       "===================================================================================\n",
       "\"\"\""
      ]
     },
     "execution_count": 81,
     "metadata": {},
     "output_type": "execute_result"
    }
   ],
   "source": [
    "logit_result.summary()"
   ]
  },
  {
   "cell_type": "code",
   "execution_count": null,
   "id": "ac3f239f",
   "metadata": {},
   "outputs": [],
   "source": []
  },
  {
   "cell_type": "code",
   "execution_count": null,
   "id": "060e1d50",
   "metadata": {},
   "outputs": [],
   "source": []
  }
 ],
 "metadata": {
  "kernelspec": {
   "display_name": "Python 3 (ipykernel)",
   "language": "python",
   "name": "python3"
  },
  "language_info": {
   "codemirror_mode": {
    "name": "ipython",
    "version": 3
   },
   "file_extension": ".py",
   "mimetype": "text/x-python",
   "name": "python",
   "nbconvert_exporter": "python",
   "pygments_lexer": "ipython3",
   "version": "3.11.5"
  }
 },
 "nbformat": 4,
 "nbformat_minor": 5
}
