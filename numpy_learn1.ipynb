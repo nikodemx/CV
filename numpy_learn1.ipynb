{
 "cells": [
  {
   "cell_type": "code",
   "execution_count": 1,
   "id": "5c3ca5b1",
   "metadata": {},
   "outputs": [],
   "source": [
    "import numpy as np"
   ]
  },
  {
   "cell_type": "code",
   "execution_count": 2,
   "id": "efa6a1cc",
   "metadata": {},
   "outputs": [],
   "source": [
    "import numpy.random as rd"
   ]
  },
  {
   "cell_type": "code",
   "execution_count": 3,
   "id": "5559d9d9",
   "metadata": {},
   "outputs": [],
   "source": [
    "rd.seed(0)"
   ]
  },
  {
   "cell_type": "code",
   "execution_count": 4,
   "id": "3bebda4e",
   "metadata": {},
   "outputs": [],
   "source": [
    "popyt = np.array([14000, 13000, 14000, 14000, 15500, 10500, 16000, 8000, 5000, 11000, 8000, 15000])"
   ]
  },
  {
   "cell_type": "code",
   "execution_count": 5,
   "id": "e6c87fe9",
   "metadata": {},
   "outputs": [],
   "source": [
    "buy_price = 80\n",
    "sell_price = 100\n",
    "price_outofseason = 40\n",
    "transp = 100_000"
   ]
  },
  {
   "cell_type": "code",
   "execution_count": 6,
   "id": "7d5ecdc9",
   "metadata": {},
   "outputs": [],
   "source": [
    "zakupy = 12000"
   ]
  },
  {
   "cell_type": "code",
   "execution_count": 7,
   "id": "4e1bef97",
   "metadata": {},
   "outputs": [],
   "source": [
    "import matplotlib.pyplot as plt"
   ]
  },
  {
   "cell_type": "code",
   "execution_count": 8,
   "id": "da4a1d76",
   "metadata": {},
   "outputs": [
    {
     "data": {
      "text/plain": [
       "(array([1., 0., 2., 0., 0., 2., 0., 1., 3., 3.]),\n",
       " array([ 5000.,  6100.,  7200.,  8300.,  9400., 10500., 11600., 12700.,\n",
       "        13800., 14900., 16000.]),\n",
       " <BarContainer object of 10 artists>)"
      ]
     },
     "execution_count": 8,
     "metadata": {},
     "output_type": "execute_result"
    },
    {
     "data": {
      "image/png": "[encoded data removed]",
      "text/plain": [
       "<Figure size 640x480 with 1 Axes>"
      ]
     },
     "metadata": {},
     "output_type": "display_data"
    }
   ],
   "source": [
    "plt.hist(popyt)\n"
   ]
  },
  {
   "cell_type": "code",
   "execution_count": 9,
   "id": "86294db8",
   "metadata": {},
   "outputs": [],
   "source": [
    "avg = np.average(popyt)"
   ]
  },
  {
   "cell_type": "code",
   "execution_count": 10,
   "id": "b88de355",
   "metadata": {},
   "outputs": [],
   "source": [
    "std = np.std(popyt, ddof=1)"
   ]
  },
  {
   "cell_type": "code",
   "execution_count": 11,
   "id": "dd570e4e",
   "metadata": {},
   "outputs": [
    {
     "data": {
      "text/plain": [
       "(12000.0, 3496.7517394394367)"
      ]
     },
     "execution_count": 11,
     "metadata": {},
     "output_type": "execute_result"
    }
   ],
   "source": [
    "avg, std"
   ]
  },
  {
   "cell_type": "code",
   "execution_count": 12,
   "id": "8d52831e",
   "metadata": {},
   "outputs": [],
   "source": [
    "popyty = np.rint(rd.normal(avg, std, 1000)).astype('int')"
   ]
  },
  {
   "cell_type": "code",
   "execution_count": 13,
   "id": "2fb30e9c",
   "metadata": {},
   "outputs": [
    {
     "data": {
      "text/plain": [
       "array([18168, 13399, 15422, 19836, 18530,  8583, 15322, 11471, 11639,\n",
       "       13436, 12504, 17085, 14661, 12425, 13552, 13167, 17224, 11283,\n",
       "       13095,  9013,  3073, 14286, 15023,  9405, 19937,  6914, 12160,\n",
       "       11345, 17360, 17138, 12542, 13322,  8896,  5074, 10783, 12547,\n",
       "       16302, 16204, 10646, 10943,  8333,  7035,  6034, 18821, 10218,\n",
       "       10468,  7619, 14719,  6357, 11256,  8869, 13353, 10214,  7872,\n",
       "       11901, 13498, 12233, 13058,  9782, 10732,  9649, 10743,  9157,\n",
       "        5964, 12620, 10595,  6300, 13618,  8827, 12182, 14549, 12451,\n",
       "       15984,  7682, 13407,  9605,  8955,  9976, 10911, 12196,  7926,\n",
       "       15150, 13628,  6628, 17204, 18629, 16122, 11371,  8256, 15687,\n",
       "       10590, 16275, 12728, 15415, 13246, 14471, 12037, 18245, 12444,\n",
       "       13406, 18585,  7287,  7557, 15390,  7898, 18796, 10554,  9386,\n",
       "       18724, 17177, 18530, 15168,  8989, 18679, 11063, 14806, 15312,\n",
       "       11458, 14147, 15225, 13316,  8156, 13043, 16638,  9571, 11477,\n",
       "       10478, 18466, 14351, 13425,  9308, 13886,  9642, 12111,  9777,\n",
       "       14365, 14016, 11272, 13385,  8178,  6785, 13536, 12583, 14221,\n",
       "       20333, 15303,  8808, 15906,  7399, 10386, 11761, 17991,  9396,\n",
       "        9110, 11656,  9680, 15940,  8224,  7988, 10469, 10259, 18747,\n",
       "       15320, 12306,  7715, 14953,  8502,  6598, 16154, 13108, 15220,\n",
       "       13115, 14996,  9724,  8384, 14383,  9191,  9589, 10407, 12061,\n",
       "       10762,  7192,  9749,  4225, 14186,  6398,  8138, 12182,  9414,\n",
       "       17396,  7479, 12934, 11863,  7915, 13830, 11400, 14699, 14880,\n",
       "       19564, 16674, 10709, 11163, 15845, 14291, 14238,  6346, 11915,\n",
       "        9419, 12979, 11657, 15183, 13109, 14750, 10369,  8698, 10566,\n",
       "       11940, 13326, 19900, 11852,  8657, 10790, 10379, 13684,  6612,\n",
       "       12221, 12547, 12812,  9911, 11168,  7020, 10275, 10102, 13455,\n",
       "        7957, 14732, 17226,  4762, 13491, 14367,  9771, 10611, 11535,\n",
       "       10959, 10919,  6139, 16029, 15775,  9156,  6872, 13822,  9987,\n",
       "       12496, 10883, 14418, 14429,  9463,  7163,  6465, 14134,  7843,\n",
       "       10228,  9915, 11816,  5229, 12660, 13832, 12309, 10913, 12341,\n",
       "       13395,  2305, 18839, 13364,  9719, 10633, 13726, 11594,  4899,\n",
       "       19219, 11613, 15567,  9580, 17372, 13001, 14129,  8345, 16235,\n",
       "       14412, 16552,  9804, 10318, 20056,  8293, 11525, 15975, 12342,\n",
       "       14038, 10603, 13294,  7431, 17798, 11587,  9622, 14330, 10389,\n",
       "        7334,  7291, 14426, 11442, 11532, 15769,  8060,  9445, 10654,\n",
       "       12330, 11853, 10997, 11785, 11625,  9484,  9157, 12960,  8885,\n",
       "        7953, 10908, 11449, 19891,  9536, 15298, 14613,  7843, 14704,\n",
       "        7860,  2702, 14120,  5860, 13577,  9608, 17803, 15736, 10415,\n",
       "        9595,  7755, 10458, 11020, 10725, 12548, 14023, 13223,  9328,\n",
       "        6972, 16771,  9589,  9719, 10178,  5555, 10329, 10323, 14169,\n",
       "       14442, 12013, 15258, 13189, 11945, 12563, 11333, 10619, 11064,\n",
       "        8056, 12981,  8527, 14943, 11128, 12173, 13727, 14250,  6508,\n",
       "       11277, 15078,  6062, 13354,  4113,  8425, 12135,  6207,  8554,\n",
       "        6853, 17763, 12574, 13984, 11221, 10764,  6348, 10980,  9337,\n",
       "       15000, 15990, 17128, 14981,  9907,  8098, 14681, 13246,  5816,\n",
       "       13243, 14848, 12206, 11353,  9176,  6942, 14798, 10919, 11184,\n",
       "       18059, 14394, 13297, 12497, 17315, 18013, 15250, 14036,  4676,\n",
       "       12433, 11545, 12329, 15298,  2420, 10009, 12944, 10368,  7045,\n",
       "       15039, 12968,  8604, 13101, 14873, 12019, 14799, 12274, 10618,\n",
       "        7946, 11700, 12679, 15063, 11597, 13599,  8627,  9263, 11614,\n",
       "        8312, 14868, 13619, 12976, 13185, 19067, 10360,  4302, 12697,\n",
       "       11823, 10190,  8577, 10464, 12634, 10242, 20436,  8641,  9227,\n",
       "        3997, 12879,  4949, 10114, 11036,  9518, 18080, 15477, 16613,\n",
       "        8914, 15946, 13734, 14697, 15600,  8822, 10516, 15016,  2714,\n",
       "       17292, 13934, 11840, 12771,  8399, 10776, 15847, 16539, 21428,\n",
       "       11742,  9697, 10202,  8440, 11728, 13338, 11880, 15834, 11181,\n",
       "       10785,  9967,  6291,  6518,  7877, 16551, 15131, 16808,  7342,\n",
       "        5116,  9692, 12615, 13744, 15664, 12994, 18094, 11222,  8807,\n",
       "        6121,  8891, 12847,  8892, 15276, 16939,  3714, 15021,  4169,\n",
       "       13404, 16283, 12227,  7525,  9953, 11085, 11363, 11291, 11616,\n",
       "       12746,  7774, 11154, 17309, 10655, 10448, 15770,  3051, 16131,\n",
       "        9790, 12573, 12337, 15296, 11064,  9629, 16538,  3733, 12071,\n",
       "        7287,  9337, 19033, 11844, 12682,  5770,  9451, 12687, 13240,\n",
       "       14157, 12030, 13843, 13587,  5602, 12129, 14685, 14063, 10728,\n",
       "        9183,  8090, 11542, 15962,  5175,  9693,  8014, 14745, 10062,\n",
       "       10354, 11241, 13557, 10628,  1348, 13900, 13535, 11232,  8209,\n",
       "       13230, 13326, 10356, 11242,  8747, 11376,  6579, 13459,  8698,\n",
       "       12833,  7084,  9937, 11614,  6193, 12403, 10674,  5907,  7443,\n",
       "       14116, 15132, 11539, 13415, 12783, 13153, 16497,  6730, 14365,\n",
       "       10664, 11216, 10943, 10688,  7712, 12641, 17843, 11804, 11995,\n",
       "        9597, 11589, 13630, 10705, 10413, 13410,  8790, 12883, 14868,\n",
       "       16755, 11684, 16782, 15617,  8516,  7741, 10934, 15598, 11747,\n",
       "        9900, 17428, 13003,  3885, 13109, 13818, 12789, 13573, 11765,\n",
       "        7390, 10704,  8693,  8738,  7583, 13582, 12342, 10433,  9729,\n",
       "       11918, 15774,  4992, 13318, 10092,  5410,  5196,  8808, 12768,\n",
       "       13374,  8717, 15556, 16976, 13385,  9932, 15932, 14641, 15033,\n",
       "        9705,  2088, 19402,  6367, 11875, 20325, 13156, 15319,  6746,\n",
       "        5784, 10137, 15814, 10789,  9221, 12692, 15783,  6947,  7767,\n",
       "        9242, 15828, 12821, 19456, 15275, 11877, 16424, 12740,  9535,\n",
       "       14378,  9565, 10985, 16643, 11646,  9192, 10376, 15573, 10068,\n",
       "       10647, 10216, 12643, 10652,  6399,  8898,  8738, 16348, 14842,\n",
       "       14054, 10233,  9147, 10225,  8322, 20732,  4149, 13972,  7508,\n",
       "       11635,  8545,  7882,  8013, 18137, 11535,  9323, 13943, 12036,\n",
       "       14518,  5621, 13062, 14702,  6190, 13567, 17931, 11948, 14872,\n",
       "       14345,  9526, 12139,  6521, 10422, 12929, 14529, 12086, 14518,\n",
       "        8143, 11644, 12067, 18468, 11251, 10255, 12075,  8786, 12674,\n",
       "       10723,  5736, 11795, 10890,  6292, 11765, 17208, 13823, 14140,\n",
       "        7309, 13668, 12519, 13850, 13478,  7245, 11855,  9350, 11825,\n",
       "        8862, 16589,  8996,  8857, 12261,  8234, 10515,  9098, 16935,\n",
       "       14748, 11799, 10632, 15290, 13417, 13742, 11908,  6097, 11607,\n",
       "       10138, 14256, 15538,  9699, 13638, 18070,  9665, 17881,  9019,\n",
       "       12080, 11961, 12040,  9071,  9933,  9665, 13143, 13154, 19784,\n",
       "       16794, 10217, 13136, 15487, 12107, 11756, 12180, 15033,  9034,\n",
       "       10861, 13645, 13089, 12838, 10707, 15401, 19462, 13421, 11325,\n",
       "       14643, 10115,  9379, 12115,  2969,  7965, 10783,  7268,  8389,\n",
       "       10473,  6255, 10580, 10128, 12089, 16036, 12603, 12074, 12348,\n",
       "       12795,  8445, 11599, 13080,  7207, 15027, 15781,  9792, 11156,\n",
       "        8929, 14446,  8289, 11222,  8997, 12178,  5726, 16638,  8627,\n",
       "       12209, 11257,  9335,  8896, 15274, 10162, 12948,  9197,  9737,\n",
       "       13651, 15253, 11387,  7028, 18986,  9005,  6609, 21072, 10587,\n",
       "        6889,  9610, 13285, 12665,  9022, 18374, 10176,  7857, 15359,\n",
       "       16647,  9141,  7100, 15603,  4841,  7711, 15383, 11806, 11077,\n",
       "       13234, 11466,  7459, 16462, 16633, 12718, 12158, 20181, 11033,\n",
       "       11092, 13275, 17145, 17570, 11096, 13078,  7181, 10909,  9062,\n",
       "        8479, 17880,  9230, 10141, 13279, 16538, 13682, 21649, 11739,\n",
       "       12905, 12964, 17018, 13774, 11594,  8687, 12855, 16900, 10565,\n",
       "       13850, 12861, 15020,  9186, 20206,  7527, 10722, 15280, 13038,\n",
       "       14902, 10265, 11738, 12043, 17487, 14414, 14786,  9699, 15388,\n",
       "       12789, 16857, 19043, 10927, 10579,  8979, 11498, 10664, 13257,\n",
       "       11494, 10736, 15723,  8720, 13514, 10581, 14533, 16844, 10940,\n",
       "       13542, 12625,  9205, 12842, 13011, 13444, 11306, 12329,  7987,\n",
       "       10748])"
      ]
     },
     "execution_count": 13,
     "metadata": {},
     "output_type": "execute_result"
    }
   ],
   "source": [
    "popyty"
   ]
  },
  {
   "cell_type": "code",
   "execution_count": 14,
   "id": "09bc36f5",
   "metadata": {},
   "outputs": [],
   "source": [
    "def zysk(zakupy, popyty):\n",
    "    koszty = (zakupy * buy_price + transp)\n",
    "    utarg = (popyty >= zakupy) * sell_price * zakupy\n",
    "    utarg += (popyty < zakupy) * popyty * sell_price + \\\n",
    "    (popyty < zakupy) * price_outofseason * (zakupy - popyty)\n",
    "    zysk = utarg - koszty\n",
    "    return zysk"
   ]
  },
  {
   "cell_type": "code",
   "execution_count": 15,
   "id": "cc11cd89",
   "metadata": {},
   "outputs": [
    {
     "data": {
      "text/plain": [
       "array([False, False, False, False, False,  True, False,  True,  True,\n",
       "       False, False, False, False, False, False, False, False,  True,\n",
       "       False,  True,  True, False, False,  True, False,  True, False,\n",
       "        True, False, False, False, False,  True,  True,  True, False,\n",
       "       False, False,  True,  True,  True,  True,  True, False,  True,\n",
       "        True,  True, False,  True,  True,  True, False,  True,  True,\n",
       "        True, False, False, False,  True,  True,  True,  True,  True,\n",
       "        True, False,  True,  True, False,  True, False, False, False,\n",
       "       False,  True, False,  True,  True,  True,  True, False,  True,\n",
       "       False, False,  True, False, False, False,  True,  True, False,\n",
       "        True, False, False, False, False, False, False, False, False,\n",
       "       False, False,  True,  True, False,  True, False,  True,  True,\n",
       "       False, False, False, False,  True, False,  True, False, False,\n",
       "        True, False, False, False,  True, False, False,  True,  True,\n",
       "        True, False, False, False,  True, False,  True, False,  True,\n",
       "       False, False,  True, False,  True,  True, False, False, False,\n",
       "       False, False,  True, False,  True,  True,  True, False,  True,\n",
       "        True,  True,  True, False,  True,  True,  True,  True, False,\n",
       "       False, False,  True, False,  True,  True, False, False, False,\n",
       "       False, False,  True,  True, False,  True,  True,  True, False,\n",
       "        True,  True,  True,  True, False,  True,  True, False,  True,\n",
       "       False,  True, False,  True,  True, False,  True, False, False,\n",
       "       False, False,  True,  True, False, False, False,  True,  True,\n",
       "        True, False,  True, False, False, False,  True,  True,  True,\n",
       "        True, False, False,  True,  True,  True,  True, False,  True,\n",
       "       False, False, False,  True,  True,  True,  True,  True, False,\n",
       "        True, False, False,  True, False, False,  True,  True,  True,\n",
       "        True,  True,  True, False, False,  True,  True, False,  True,\n",
       "       False,  True, False, False,  True,  True,  True, False,  True,\n",
       "        True,  True,  True,  True, False, False, False,  True, False,\n",
       "       False,  True, False, False,  True,  True, False,  True,  True,\n",
       "       False,  True, False,  True, False, False, False,  True, False,\n",
       "       False, False,  True,  True, False,  True,  True, False, False,\n",
       "       False,  True, False,  True, False,  True,  True, False,  True,\n",
       "        True,  True, False,  True,  True, False,  True,  True,  True,\n",
       "       False,  True,  True,  True,  True,  True,  True, False,  True,\n",
       "        True,  True,  True, False,  True, False, False,  True, False,\n",
       "        True,  True, False,  True, False,  True, False, False,  True,\n",
       "        True,  True,  True,  True,  True, False, False, False,  True,\n",
       "        True, False,  True,  True,  True,  True,  True,  True, False,\n",
       "       False, False, False, False,  True, False,  True,  True,  True,\n",
       "        True, False,  True, False,  True, False, False, False,  True,\n",
       "        True, False,  True, False,  True,  True, False,  True,  True,\n",
       "        True, False, False, False,  True,  True,  True,  True,  True,\n",
       "       False, False, False, False,  True,  True, False, False,  True,\n",
       "       False, False, False,  True,  True,  True, False,  True,  True,\n",
       "       False, False, False, False, False, False, False, False,  True,\n",
       "       False,  True, False, False,  True,  True, False,  True,  True,\n",
       "       False, False,  True, False, False, False, False, False,  True,\n",
       "        True,  True, False, False,  True, False,  True,  True,  True,\n",
       "        True, False, False, False, False, False,  True,  True, False,\n",
       "        True,  True,  True,  True, False,  True, False,  True,  True,\n",
       "        True, False,  True,  True,  True,  True, False, False, False,\n",
       "        True, False, False, False, False,  True,  True, False,  True,\n",
       "       False, False,  True, False,  True,  True, False, False, False,\n",
       "        True,  True,  True,  True,  True, False,  True, False,  True,\n",
       "        True,  True,  True,  True,  True, False, False, False,  True,\n",
       "        True,  True, False, False, False, False, False,  True,  True,\n",
       "        True,  True, False,  True, False, False,  True, False,  True,\n",
       "       False, False, False,  True,  True,  True,  True,  True,  True,\n",
       "       False,  True,  True, False,  True,  True, False,  True, False,\n",
       "        True, False, False, False,  True,  True, False,  True, False,\n",
       "        True,  True, False,  True, False,  True,  True, False, False,\n",
       "       False, False, False, False,  True, False, False, False,  True,\n",
       "        True,  True,  True, False,  True,  True,  True, False,  True,\n",
       "        True,  True, False,  True,  True, False, False,  True,  True,\n",
       "       False, False,  True,  True,  True,  True,  True, False,  True,\n",
       "       False,  True,  True,  True,  True, False,  True,  True,  True,\n",
       "       False, False,  True, False, False, False, False,  True, False,\n",
       "        True,  True,  True,  True,  True, False, False,  True,  True,\n",
       "        True,  True, False,  True,  True, False,  True, False, False,\n",
       "       False,  True, False, False,  True,  True,  True, False,  True,\n",
       "        True, False, False,  True, False, False, False, False,  True,\n",
       "        True,  True,  True,  True,  True, False, False,  True,  True,\n",
       "        True, False,  True, False,  True,  True,  True,  True, False,\n",
       "       False,  True, False, False, False,  True, False, False, False,\n",
       "        True,  True, False,  True,  True, False, False, False,  True,\n",
       "        True,  True, False,  True,  True, False, False,  True,  True,\n",
       "        True, False, False, False, False,  True, False, False,  True,\n",
       "       False,  True,  True, False,  True,  True,  True, False,  True,\n",
       "        True,  True, False,  True,  True,  True,  True, False, False,\n",
       "       False,  True,  True,  True,  True, False,  True, False,  True,\n",
       "        True,  True,  True,  True, False,  True,  True, False, False,\n",
       "       False,  True, False, False,  True, False, False,  True, False,\n",
       "       False,  True, False,  True,  True, False, False, False, False,\n",
       "        True,  True, False, False,  True,  True, False,  True, False,\n",
       "        True,  True,  True,  True,  True,  True, False, False, False,\n",
       "        True, False, False, False, False,  True,  True,  True,  True,\n",
       "        True, False,  True,  True, False,  True,  True,  True, False,\n",
       "       False,  True,  True, False, False, False,  True,  True,  True,\n",
       "        True, False, False,  True, False, False,  True, False,  True,\n",
       "       False,  True, False,  True,  True,  True, False, False, False,\n",
       "       False,  True, False, False, False,  True, False, False,  True,\n",
       "        True, False, False, False,  True, False, False, False,  True,\n",
       "       False,  True,  True, False,  True,  True,  True,  True,  True,\n",
       "        True,  True,  True,  True, False, False, False, False, False,\n",
       "       False,  True,  True, False,  True, False, False,  True,  True,\n",
       "        True, False,  True,  True,  True, False,  True, False,  True,\n",
       "       False,  True,  True,  True, False,  True, False,  True,  True,\n",
       "       False, False,  True,  True, False,  True,  True, False,  True,\n",
       "        True,  True, False, False,  True, False,  True,  True, False,\n",
       "       False,  True,  True, False,  True,  True, False,  True,  True,\n",
       "       False,  True,  True, False, False, False, False, False,  True,\n",
       "        True, False, False, False,  True, False,  True,  True,  True,\n",
       "        True, False,  True,  True, False, False, False, False,  True,\n",
       "       False, False, False, False,  True,  True, False, False,  True,\n",
       "       False, False, False,  True, False,  True,  True, False, False,\n",
       "       False,  True,  True, False, False, False, False,  True, False,\n",
       "       False, False, False,  True,  True,  True,  True,  True, False,\n",
       "        True,  True, False,  True, False,  True, False, False,  True,\n",
       "       False, False,  True, False, False, False,  True, False,  True,\n",
       "        True])"
      ]
     },
     "execution_count": 15,
     "metadata": {},
     "output_type": "execute_result"
    }
   ],
   "source": [
    "popyty <= zakupy"
   ]
  },
  {
   "cell_type": "code",
   "execution_count": 16,
   "id": "20f7d645",
   "metadata": {},
   "outputs": [],
   "source": [
    "def symuluj(zakupy, liczba_sym, seed = 0):\n",
    "    np.random.seed(seed)\n",
    "    popyty = np.round(np.random.normal(avg, std, liczba_sym)).astype('int')\n",
    "    zyski = zysk(zakupy, popyty)\n",
    "    return zyski"
   ]
  },
  {
   "cell_type": "code",
   "execution_count": 17,
   "id": "21681c7c",
   "metadata": {},
   "outputs": [],
   "source": [
    "zyski = symuluj(12000, 10000)"
   ]
  },
  {
   "cell_type": "code",
   "execution_count": 18,
   "id": "86337a93",
   "metadata": {},
   "outputs": [
    {
     "data": {
      "text/plain": [
       "(55556.378, 121783.8168584033)"
      ]
     },
     "execution_count": 18,
     "metadata": {},
     "output_type": "execute_result"
    }
   ],
   "source": [
    "(np.mean(zyski), np.std(zyski))"
   ]
  },
  {
   "cell_type": "code",
   "execution_count": 19,
   "id": "a6d856d5",
   "metadata": {},
   "outputs": [
    {
     "name": "stdout",
     "output_type": "stream",
     "text": [
      "Requirement already satisfied: scipy in c:\\users\\asus\\anaconda3\\envs\\pandas_playground\\lib\\site-packages (1.12.0)\n",
      "Requirement already satisfied: numpy<1.29.0,>=1.22.4 in c:\\users\\asus\\anaconda3\\envs\\pandas_playground\\lib\\site-packages (from scipy) (1.26.0)\n",
      "Note: you may need to restart the kernel to use updated packages.\n"
     ]
    }
   ],
   "source": [
    "pip install scipy"
   ]
  },
  {
   "cell_type": "code",
   "execution_count": 20,
   "id": "3ffce5c7",
   "metadata": {},
   "outputs": [],
   "source": [
    "import scipy.stats"
   ]
  },
  {
   "cell_type": "code",
   "execution_count": 21,
   "id": "a2ed2ad2",
   "metadata": {},
   "outputs": [],
   "source": [
    "import pandas as pd"
   ]
  },
  {
   "cell_type": "code",
   "execution_count": 22,
   "id": "b4e38577",
   "metadata": {},
   "outputs": [],
   "source": [
    "scenariusze = [10000, 12000]"
   ]
  },
  {
   "cell_type": "code",
   "execution_count": 23,
   "id": "7a5b21a5",
   "metadata": {},
   "outputs": [],
   "source": [
    "powtorzenia = 5000"
   ]
  },
  {
   "cell_type": "code",
   "execution_count": 24,
   "id": "8f56df3d",
   "metadata": {},
   "outputs": [],
   "source": [
    "data = []"
   ]
  },
  {
   "cell_type": "code",
   "execution_count": 25,
   "id": "358c3ee6",
   "metadata": {},
   "outputs": [],
   "source": [
    "for scenariusz in scenariusze:\n",
    "    zyski = symuluj(scenariusz, powtorzenia)\n",
    "    data.append(scipy.stats.describe(zyski))"
   ]
  },
  {
   "cell_type": "code",
   "execution_count": 31,
   "id": "1c84de49",
   "metadata": {
    "scrolled": true
   },
   "outputs": [],
   "source": [
    "new_df.insert(0, 'scenario', scenariusze)"
   ]
  },
  {
   "cell_type": "code",
   "execution_count": 27,
   "id": "266cde92",
   "metadata": {},
   "outputs": [],
   "source": [
    "df = pd.DataFrame(data)"
   ]
  },
  {
   "cell_type": "code",
   "execution_count": 28,
   "id": "c9d9e347",
   "metadata": {},
   "outputs": [],
   "source": [
    "df = df.rename(columns = {'variance':'std'})"
   ]
  },
  {
   "cell_type": "code",
   "execution_count": 29,
   "id": "66ddb62b",
   "metadata": {},
   "outputs": [
    {
     "data": {
      "text/plain": [
       "0     79818.826969\n",
       "1    121029.437388\n",
       "Name: std, dtype: float64"
      ]
     },
     "execution_count": 29,
     "metadata": {},
     "output_type": "execute_result"
    }
   ],
   "source": [
    "df['std'].apply(lambda x: x**0.5)"
   ]
  },
  {
   "cell_type": "code",
   "execution_count": 30,
   "id": "6fb36d83",
   "metadata": {},
   "outputs": [],
   "source": [
    "new_df = df.drop_duplicates()"
   ]
  },
  {
   "cell_type": "code",
   "execution_count": 32,
   "id": "b0d5bf6b",
   "metadata": {},
   "outputs": [
    {
     "data": {
      "text/html": [
       "<div>\n",
       "<style scoped>\n",
       "    .dataframe tbody tr th:only-of-type {\n",
       "        vertical-align: middle;\n",
       "    }\n",
       "\n",
       "    .dataframe tbody tr th {\n",
       "        vertical-align: top;\n",
       "    }\n",
       "\n",
       "    .dataframe thead th {\n",
       "        text-align: right;\n",
       "    }\n",
       "</style>\n",
       "<table border=\"1\" class=\"dataframe\">\n",
       "  <thead>\n",
       "    <tr style=\"text-align: right;\">\n",
       "      <th></th>\n",
       "      <th>scenario</th>\n",
       "      <th>nobs</th>\n",
       "      <th>minmax</th>\n",
       "      <th>mean</th>\n",
       "      <th>std</th>\n",
       "      <th>skewness</th>\n",
       "      <th>kurtosis</th>\n",
       "    </tr>\n",
       "  </thead>\n",
       "  <tbody>\n",
       "    <tr>\n",
       "      <th>0</th>\n",
       "      <td>10000</td>\n",
       "      <td>5000</td>\n",
       "      <td>(-564680, 100000)</td>\n",
       "      <td>63092.752</td>\n",
       "      <td>6.371045e+09</td>\n",
       "      <td>-2.677360</td>\n",
       "      <td>7.910159</td>\n",
       "    </tr>\n",
       "    <tr>\n",
       "      <th>1</th>\n",
       "      <td>12000</td>\n",
       "      <td>5000</td>\n",
       "      <td>(-644680, 140000)</td>\n",
       "      <td>55821.980</td>\n",
       "      <td>1.464812e+10</td>\n",
       "      <td>-1.571545</td>\n",
       "      <td>2.100643</td>\n",
       "    </tr>\n",
       "  </tbody>\n",
       "</table>\n",
       "</div>"
      ],
      "text/plain": [
       "   scenario  nobs             minmax       mean           std  skewness  \\\n",
       "0     10000  5000  (-564680, 100000)  63092.752  6.371045e+09 -2.677360   \n",
       "1     12000  5000  (-644680, 140000)  55821.980  1.464812e+10 -1.571545   \n",
       "\n",
       "   kurtosis  \n",
       "0  7.910159  \n",
       "1  2.100643  "
      ]
     },
     "execution_count": 32,
     "metadata": {},
     "output_type": "execute_result"
    }
   ],
   "source": [
    "new_df\n"
   ]
  },
  {
   "cell_type": "code",
   "execution_count": null,
   "id": "424dcf1a",
   "metadata": {},
   "outputs": [],
   "source": [
    "# scipy.stats.ttest_ind  pozwala nam na wykazanie p"
   ]
  },
  {
   "cell_type": "code",
   "execution_count": 55,
   "id": "79b38228",
   "metadata": {},
   "outputs": [],
   "source": [
    "eksper = range(100, 16100, 100)"
   ]
  },
  {
   "cell_type": "code",
   "execution_count": 56,
   "id": "7f02d3ad",
   "metadata": {},
   "outputs": [],
   "source": [
    "wyniki = [symuluj(zakupy, 10000) for zakupy in eksper]"
   ]
  },
  {
   "cell_type": "code",
   "execution_count": 57,
   "id": "d4dff1d3",
   "metadata": {},
   "outputs": [],
   "source": [
    "wyniki = list(map(lambda x: (np.std(x), np.mean(x)), wyniki))"
   ]
  },
  {
   "cell_type": "code",
   "execution_count": 62,
   "id": "879bf7f3",
   "metadata": {},
   "outputs": [
    {
     "data": {
      "text/plain": [
       "[(706.764659116456, -98007.068),\n",
       " (767.6597152384641, -96008.04),\n",
       " (832.4426120760515, -94009.24),\n",
       " (900.5648707339188, -92010.44),\n",
       " (971.3241428071266, -90011.64),\n",
       " (1044.184473357079, -88012.84),\n",
       " (1118.7354282402964, -86014.04),\n",
       " (1194.660546933731, -84015.24),\n",
       " (1271.713728163693, -82016.44),\n",
       " (1349.7017857289807, -80017.64),\n",
       " (1428.5980900785214, -78019.032),\n",
       " (1511.1280576192078, -76021.426),\n",
       " (1598.5214592478887, -74024.018),\n",
       " (1691.8304380463196, -72027.33),\n",
       " (1792.4212836038291, -70031.422),\n",
       " (1903.677485777462, -68037.512),\n",
       " (2028.9751001567272, -66044.712),\n",
       " (2167.547594840769, -64052.71),\n",
       " (2320.3045019057304, -62061.794),\n",
       " (2486.294909451411, -60071.394),\n",
       " (2663.6785381993823, -58081.444),\n",
       " (2853.5352658511156, -56093.612),\n",
       " (3056.5578069743747, -54106.932),\n",
       " (3273.1060578453616, -52122.436),\n",
       " (3504.463673111194, -50139.938),\n",
       " (3750.978623789264, -48159.126),\n",
       " (4011.0262459694773, -46178.512),\n",
       " (4284.203113500106, -44200.826),\n",
       " (4571.106650040448, -42224.634),\n",
       " (4871.870026262605, -40251.802),\n",
       " (5189.396047171578, -38284.16),\n",
       " (5525.48738375141, -36320.502),\n",
       " (5880.6409900744675, -34359.184),\n",
       " (6252.7281327548535, -32398.184),\n",
       " (6639.13919562348, -30438.444),\n",
       " (7039.733311468837, -28481.914),\n",
       " (7454.449060924356, -26527.922),\n",
       " (7883.189697717796, -24578.214),\n",
       " (8327.139052757797, -22633.006),\n",
       " (8787.260084042351, -20693.414),\n",
       " (9264.235240194626, -18757.656),\n",
       " (9758.12512109903, -16827.676),\n",
       " (10269.585017374558, -14901.446),\n",
       " (10798.480357514016, -12982.128),\n",
       " (11345.960250035076, -11069.932),\n",
       " (11912.880392247713, -9163.4),\n",
       " (12499.214272571058, -7264.566),\n",
       " (13106.049230470486, -5374.522),\n",
       " (13733.995685156597, -3491.51),\n",
       " (14383.121582197793, -1616.346),\n",
       " (15053.609139734564, 250.91),\n",
       " (15745.54514336941, 2110.546),\n",
       " (16459.01568824953, 3960.366),\n",
       " (17194.383934681813, 5800.766),\n",
       " (17951.850381992826, 7632.388),\n",
       " (18731.273309814685, 9451.968),\n",
       " (19533.61959867797, 11256.488),\n",
       " (20360.180739057796, 13049.23),\n",
       " (21210.96783218493, 14828.496),\n",
       " (22086.385766110216, 16593.242),\n",
       " (22987.08928901822, 18340.948),\n",
       " (23913.748279567637, 20070.426),\n",
       " (24867.144698789285, 21779.426),\n",
       " (25848.307615659793, 23465.668),\n",
       " (26858.652134394237, 25131.06),\n",
       " (27898.806144521666, 26776.52),\n",
       " (28968.5339356702, 28398.382),\n",
       " (30068.691478615357, 29997.438),\n",
       " (31199.546867709472, 31574.36),\n",
       " (32360.139009925406, 33121.048),\n",
       " (33552.339207896905, 34642.332),\n",
       " (34775.57519413365, 36134.534),\n",
       " (36030.053671761525, 37595.728),\n",
       " (37316.81931026679, 39029.43),\n",
       " (38634.993587549616, 40431.5),\n",
       " (39985.36560351049, 41804.44),\n",
       " (41367.23027556474, 43146.78),\n",
       " (42780.635102196225, 44459.144),\n",
       " (44224.41613997042, 45738.082),\n",
       " (45698.62410234912, 46983.486),\n",
       " (47203.57370030193, 48197.642),\n",
       " (48737.87758152643, 49377.988),\n",
       " (50300.5478876769, 50520.282),\n",
       " (51891.44777737079, 51625.22),\n",
       " (53510.08338812113, 52691.482),\n",
       " (55154.52816578294, 53712.816),\n",
       " (56824.24299086086, 54686.66),\n",
       " (58519.74029987543, 55613.944),\n",
       " (60241.215104253795, 56495.532),\n",
       " (61987.05125397642, 57326.87),\n",
       " (63756.25012918862, 58105.156),\n",
       " (65550.78496207093, 58836.156),\n",
       " (67368.25204474867, 59514.404),\n",
       " (69207.4235456975, 60137.206),\n",
       " (71067.55334422358, 60703.044),\n",
       " (72951.77256736757, 61220.774),\n",
       " (74858.8729847941, 61689.592),\n",
       " (76786.97157889753, 62106.828),\n",
       " (78736.33247458455, 62474.822),\n",
       " (80702.31195085996, 62784.922),\n",
       " (82685.29348978127, 63038.856),\n",
       " (84683.13592095066, 63233.714),\n",
       " (86690.65167429401, 63359.332),\n",
       " (88711.35055585307, 63423.888),\n",
       " (90744.9277434673, 63428.27),\n",
       " (92793.38945294995, 63378.466),\n",
       " (94847.17372239078, 63257.568),\n",
       " (96908.9736072015, 63071.918),\n",
       " (98974.95037795855, 62815.762),\n",
       " (101048.51673543366, 62496.972),\n",
       " (103128.04215372218, 62114.51),\n",
       " (105214.33893503329, 61671.544),\n",
       " (107302.22641003494, 61161.36),\n",
       " (109389.7644150512, 60582.14),\n",
       " (111473.67606197337, 59930.332),\n",
       " (113553.20499664084, 59206.308),\n",
       " (115625.42448171855, 58407.32),\n",
       " (117691.4097011895, 57536.734),\n",
       " (119743.24071370227, 56584.434),\n",
       " (121783.8168584033, 55556.378),\n",
       " (123813.02988031317, 54454.474),\n",
       " (125832.02340970447, 53282.328),\n",
       " (127846.41487612859, 52049.798),\n",
       " (129849.05506868503, 50749.36),\n",
       " (131839.35574167853, 49381.944),\n",
       " (133808.33580545904, 47937.752),\n",
       " (135759.2950656636, 46423.078),\n",
       " (137686.8761513855, 44833.032),\n",
       " (139592.10637662333, 43170.926),\n",
       " (141480.05118374596, 41444.932),\n",
       " (143346.28850669423, 39651.672),\n",
       " (145194.4896516392, 37797.494),\n",
       " (147029.17182764073, 35889.436),\n",
       " (148847.20776026367, 33925.77),\n",
       " (150636.20262393082, 31894.508),\n",
       " (152392.42742526252, 29793.31),\n",
       " (154120.76453326302, 27629.25),\n",
       " (155827.47808858863, 25410.794),\n",
       " (157514.6941931229, 23141.824),\n",
       " (159168.6074381348, 20809.788),\n",
       " (160796.55905349, 18423.752),\n",
       " (162394.6681473179, 15981.55),\n",
       " (163965.39427192952, 13487.052),\n",
       " (165502.8685217947, 10936.256),\n",
       " (167007.38300443147, 8330.944),\n",
       " (168484.75543193694, 5677.98),\n",
       " (169932.28280478314, 2976.302),\n",
       " (171336.91264146793, 215.728),\n",
       " (172707.31009341398, -2594.688),\n",
       " (174045.91573559155, -5451.442),\n",
       " (175354.62631553828, -8351.618),\n",
       " (176623.66272601078, -11302.128),\n",
       " (177857.22430229376, -14298.166),\n",
       " (179053.39930197806, -17340.08),\n",
       " (180218.66035256966, -20421.444),\n",
       " (181356.7193129509, -23538.244),\n",
       " (182464.10703646982, -26692.178),\n",
       " (183539.18796111742, -29883.402),\n",
       " (184575.62091949317, -33115.666),\n",
       " (185585.3555297456, -36379.118)]"
      ]
     },
     "execution_count": 62,
     "metadata": {},
     "output_type": "execute_result"
    }
   ],
   "source": []
  },
  {
   "cell_type": "code",
   "execution_count": 58,
   "id": "92d5cb3f",
   "metadata": {},
   "outputs": [
    {
     "data": {
      "image/png": "[encoded data removed]",
      "text/plain": [
       "<Figure size 640x480 with 1 Axes>"
      ]
     },
     "metadata": {},
     "output_type": "display_data"
    }
   ],
   "source": [
    "plt.cla()\n",
    "plt.plot(eksper, [w[0] for w in wyniki], label = 'zysk')\n",
    "plt.plot(eksper, [w[1] for w in wyniki], label = 'koszty')\n",
    "plt.ylabel('kurtki/ zysk')\n",
    "plt.legend\n",
    "plt.show()"
   ]
  },
  {
   "cell_type": "code",
   "execution_count": 61,
   "id": "e4000fee",
   "metadata": {},
   "outputs": [
    {
     "data": {
      "text/plain": [
       "Text(0, 0.5, 'ryzyko')"
      ]
     },
     "execution_count": 61,
     "metadata": {},
     "output_type": "execute_result"
    },
    {
     "data": {
      "image/png": "[encoded data removed]",
      "text/plain": [
       "<Figure size 640x480 with 1 Axes>"
      ]
     },
     "metadata": {},
     "output_type": "display_data"
    }
   ],
   "source": [
    "plt.cla()\n",
    "plt.plot([w[1] for w in wyniki], [w[0] for w in wyniki])\n",
    "plt.xlabel('zysk')\n",
    "plt.ylabel('ryzyko')"
   ]
  },
  {
   "cell_type": "code",
   "execution_count": 89,
   "id": "f71a839a",
   "metadata": {},
   "outputs": [],
   "source": [
    "optim = eksper[np.argmax([w[1] for w in wyniki])]"
   ]
  },
  {
   "cell_type": "code",
   "execution_count": 90,
   "id": "b239ebee",
   "metadata": {},
   "outputs": [
    {
     "data": {
      "text/plain": [
       "(63428.27, 90744.9277434673)"
      ]
     },
     "execution_count": 90,
     "metadata": {},
     "output_type": "execute_result"
    }
   ],
   "source": [
    "optim_res = symuluj(optim, 10000)\n",
    "(np.mean(optim_res), np.std(optim_res))"
   ]
  },
  {
   "cell_type": "code",
   "execution_count": null,
   "id": "26cd00cc",
   "metadata": {},
   "outputs": [],
   "source": []
  },
  {
   "cell_type": "code",
   "execution_count": null,
   "id": "d149c178",
   "metadata": {},
   "outputs": [],
   "source": []
  }
 ],
 "metadata": {
  "kernelspec": {
   "display_name": "Python 3 (ipykernel)",
   "language": "python",
   "name": "python3"
  },
  "language_info": {
   "codemirror_mode": {
    "name": "ipython",
    "version": 3
   },
   "file_extension": ".py",
   "mimetype": "text/x-python",
   "name": "python",
   "nbconvert_exporter": "python",
   "pygments_lexer": "ipython3",
   "version": "3.11.5"
  }
 },
 "nbformat": 4,
 "nbformat_minor": 5
}
