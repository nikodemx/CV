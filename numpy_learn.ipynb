{
 "cells": [
  {
   "cell_type": "code",
   "execution_count": 158,
   "id": "c3fb50ef",
   "metadata": {},
   "outputs": [],
   "source": [
    "import numpy as np"
   ]
  },
  {
   "cell_type": "code",
   "execution_count": 159,
   "id": "6c9a71ad",
   "metadata": {},
   "outputs": [],
   "source": [
    "X1 = np.array([1,2,3,4,5,6])"
   ]
  },
  {
   "cell_type": "code",
   "execution_count": 160,
   "id": "8ac9468b",
   "metadata": {},
   "outputs": [],
   "source": [
    "Y = np.array([3000, 3250, 3500, 3750, 4000, 4250])"
   ]
  },
  {
   "cell_type": "code",
   "execution_count": 161,
   "id": "8a4fb024",
   "metadata": {},
   "outputs": [],
   "source": [
    "m = len(X1)"
   ]
  },
  {
   "cell_type": "code",
   "execution_count": 162,
   "id": "48b4ab04",
   "metadata": {},
   "outputs": [],
   "source": [
    "X1 = X1.reshape(m, 1)"
   ]
  },
  {
   "cell_type": "code",
   "execution_count": null,
   "id": "d8dafca5",
   "metadata": {},
   "outputs": [],
   "source": []
  },
  {
   "cell_type": "code",
   "execution_count": 163,
   "id": "1f1c29fe",
   "metadata": {},
   "outputs": [],
   "source": [
    "bias = np.ones((m, 1))"
   ]
  },
  {
   "cell_type": "code",
   "execution_count": 164,
   "id": "f6b35813",
   "metadata": {},
   "outputs": [
    {
     "data": {
      "text/plain": [
       "(6, 1)"
      ]
     },
     "execution_count": 164,
     "metadata": {},
     "output_type": "execute_result"
    }
   ],
   "source": [
    "bias.shape"
   ]
  },
  {
   "cell_type": "code",
   "execution_count": 165,
   "id": "ec2012c2",
   "metadata": {},
   "outputs": [],
   "source": [
    "X = np.append(bias, X1, axis=1)"
   ]
  },
  {
   "cell_type": "code",
   "execution_count": 166,
   "id": "3ad15273",
   "metadata": {},
   "outputs": [
    {
     "data": {
      "text/plain": [
       "array([[1., 1.],\n",
       "       [1., 2.],\n",
       "       [1., 3.],\n",
       "       [1., 4.],\n",
       "       [1., 5.],\n",
       "       [1., 6.]])"
      ]
     },
     "execution_count": 166,
     "metadata": {},
     "output_type": "execute_result"
    }
   ],
   "source": [
    "X"
   ]
  },
  {
   "cell_type": "code",
   "execution_count": 167,
   "id": "96a7afc3",
   "metadata": {},
   "outputs": [
    {
     "data": {
      "text/plain": [
       "array([[ 6., 21.],\n",
       "       [21., 91.]])"
      ]
     },
     "execution_count": 167,
     "metadata": {},
     "output_type": "execute_result"
    }
   ],
   "source": [
    "np.dot(X.T, X)"
   ]
  },
  {
   "cell_type": "code",
   "execution_count": 168,
   "id": "22e974b8",
   "metadata": {},
   "outputs": [
    {
     "name": "stdout",
     "output_type": "stream",
     "text": [
      "Macierz A:\n",
      "[[1 2]\n",
      " [3 4]]\n",
      "\n",
      "Odwrotność macierzy A:\n",
      "[[-2.   1. ]\n",
      " [ 1.5 -0.5]]\n",
      "\n",
      "Iloczyn A i A_inv (powinien być macierzą jednostkową):\n",
      "[[1.00000000e+00 1.11022302e-16]\n",
      " [0.00000000e+00 1.00000000e+00]]\n"
     ]
    }
   ],
   "source": [
    "\n",
    "\n",
    "# Tworzenie macierzy kwadratowej A\n",
    "A = np.array([[1, 2], [3, 4]])\n",
    "\n",
    "# Obliczanie odwrotności macierzy A\n",
    "A_inv = np.linalg.inv(A)\n",
    "\n",
    "print(\"Macierz A:\")\n",
    "print(A)\n",
    "\n",
    "print(\"\\nOdwrotność macierzy A:\")\n",
    "print(A_inv)\n",
    "\n",
    "# Weryfikacja, czy A * A_inv daje macierz jednostkową\n",
    "I = np.dot(A, A_inv)\n",
    "print(\"\\nIloczyn A i A_inv (powinien być macierzą jednostkową):\")\n",
    "print(I)\n"
   ]
  },
  {
   "cell_type": "code",
   "execution_count": 169,
   "id": "077be946",
   "metadata": {},
   "outputs": [],
   "source": [
    "L = np.linalg.inv(np.dot(X.T, X))"
   ]
  },
  {
   "cell_type": "code",
   "execution_count": 177,
   "id": "a891a3a3",
   "metadata": {},
   "outputs": [
    {
     "data": {
      "text/plain": [
       "2750.0"
      ]
     },
     "execution_count": 177,
     "metadata": {},
     "output_type": "execute_result"
    }
   ],
   "source": [
    "from sklearn.linear_model import LinearRegression\n",
    "lr = LinearRegression()\n",
    "dum = lr.fit(X1, Y)\n",
    "\n",
    "dum.intercept_"
   ]
  },
  {
   "cell_type": "code",
   "execution_count": 192,
   "id": "4d3ff12a",
   "metadata": {},
   "outputs": [],
   "source": [
    "bias = np.ones((m, 1))"
   ]
  },
  {
   "cell_type": "code",
   "execution_count": 213,
   "id": "0af8268f",
   "metadata": {},
   "outputs": [
    {
     "ename": "TypeError",
     "evalue": "append() missing 2 required positional arguments: 'arr' and 'values'",
     "output_type": "error",
     "traceback": [
      "\u001b[1;31m---------------------------------------------------------------------------\u001b[0m",
      "\u001b[1;31mTypeError\u001b[0m                                 Traceback (most recent call last)",
      "Cell \u001b[1;32mIn[213], line 1\u001b[0m\n\u001b[1;32m----> 1\u001b[0m X \u001b[38;5;241m=\u001b[39m np\u001b[38;5;241m.\u001b[39mappend()\n",
      "\u001b[1;31mTypeError\u001b[0m: append() missing 2 required positional arguments: 'arr' and 'values'"
     ]
    }
   ],
   "source": [
    "X = np.append()"
   ]
  },
  {
   "cell_type": "code",
   "execution_count": 206,
   "id": "35c1608b",
   "metadata": {},
   "outputs": [],
   "source": [
    "X1 = X1.reshape(6, 1)"
   ]
  },
  {
   "cell_type": "code",
   "execution_count": 207,
   "id": "40fd6f2e",
   "metadata": {},
   "outputs": [],
   "source": [
    "Y = Y.reshape(-1, 1)"
   ]
  },
  {
   "cell_type": "code",
   "execution_count": 208,
   "id": "bb992f04",
   "metadata": {},
   "outputs": [],
   "source": [
    "LW = np.random.rand(2,1)"
   ]
  },
  {
   "cell_type": "code",
   "execution_count": 199,
   "id": "0d229071",
   "metadata": {},
   "outputs": [
    {
     "data": {
      "text/plain": [
       "array([[0.86410249],\n",
       "       [0.27024108]])"
      ]
     },
     "execution_count": 199,
     "metadata": {},
     "output_type": "execute_result"
    }
   ],
   "source": [
    "LW"
   ]
  },
  {
   "cell_type": "code",
   "execution_count": 200,
   "id": "46f0352a",
   "metadata": {},
   "outputs": [],
   "source": [
    "eta = 0.01"
   ]
  },
  {
   "cell_type": "code",
   "execution_count": 209,
   "id": "a46ff3ba",
   "metadata": {},
   "outputs": [
    {
     "data": {
      "text/plain": [
       "array([2750.,  250.])"
      ]
     },
     "execution_count": 209,
     "metadata": {},
     "output_type": "execute_result"
    }
   ],
   "source": [
    "np.dot(P, L)"
   ]
  },
  {
   "cell_type": "code",
   "execution_count": 212,
   "id": "547ebcba",
   "metadata": {},
   "outputs": [
    {
     "ename": "ValueError",
     "evalue": "shapes (100,1) and (2,1) not aligned: 1 (dim 1) != 2 (dim 0)",
     "output_type": "error",
     "traceback": [
      "\u001b[1;31m---------------------------------------------------------------------------\u001b[0m",
      "\u001b[1;31mValueError\u001b[0m                                Traceback (most recent call last)",
      "Cell \u001b[1;32mIn[212], line 5\u001b[0m\n\u001b[0;32m      2\u001b[0m coef \u001b[38;5;241m=\u001b[39m []\n\u001b[0;32m      4\u001b[0m \u001b[38;5;28;01mfor\u001b[39;00m i \u001b[38;5;129;01min\u001b[39;00m \u001b[38;5;28mrange\u001b[39m(\u001b[38;5;241m3000\u001b[39m):\n\u001b[1;32m----> 5\u001b[0m     gradient \u001b[38;5;241m=\u001b[39m \u001b[38;5;241m2\u001b[39m\u001b[38;5;241m/\u001b[39mm \u001b[38;5;241m*\u001b[39m X\u001b[38;5;241m.\u001b[39mT\u001b[38;5;241m.\u001b[39mdot(X\u001b[38;5;241m.\u001b[39mdot(LW)\u001b[38;5;241m-\u001b[39mY)\n\u001b[0;32m      6\u001b[0m     LW \u001b[38;5;241m=\u001b[39m LW \u001b[38;5;241m-\u001b[39m eta \u001b[38;5;241m*\u001b[39m gradient\n\u001b[0;32m      7\u001b[0m     intercept\u001b[38;5;241m.\u001b[39mappend(LW[\u001b[38;5;241m0\u001b[39m][\u001b[38;5;241m0\u001b[39m])\n",
      "\u001b[1;31mValueError\u001b[0m: shapes (100,1) and (2,1) not aligned: 1 (dim 1) != 2 (dim 0)"
     ]
    }
   ],
   "source": [
    "intercept = []\n",
    "coef = []\n",
    "\n",
    "for i in range(3000):\n",
    "    gradient = 2/m * X.T.dot(X.dot(LW)-Y)\n",
    "    LW = LW - eta * gradient\n",
    "    intercept.append(LW[0][0])\n",
    "    coef.append(LW[1][0])\n",
    "LW   "
   ]
  },
  {
   "cell_type": "code",
   "execution_count": 204,
   "id": "02ad8e97",
   "metadata": {},
   "outputs": [
    {
     "data": {
      "image/png": "[encoded data removed]",
      "text/plain": [
       "<Figure size 640x480 with 1 Axes>"
      ]
     },
     "metadata": {},
     "output_type": "display_data"
    }
   ],
   "source": [
    "from sklearn.datasets import make_regression\n",
    "import matplotlib.pyplot as plt\n",
    "\n",
    "# Generowanie zestawu danych\n",
    "X, y, coef = make_regression(n_samples=100, n_features=1, n_informative=1, noise=10, coef=True, random_state=42)\n",
    "\n",
    "# Wizualizacja danych\n",
    "plt.scatter(X, y, color='blue', label='Data points')\n",
    "plt.plot(X, X*coef, color='red', label='True relationship')\n",
    "plt.xlabel('Feature')\n",
    "plt.ylabel('Target')\n",
    "plt.title('Generated Regression Data')\n",
    "plt.legend()\n",
    "plt.show()\n"
   ]
  },
  {
   "cell_type": "code",
   "execution_count": 188,
   "id": "e4ca485d",
   "metadata": {},
   "outputs": [],
   "source": [
    "a = np.array([[1, 2, 3, 4], [5, 6, 7, 8], [9, 10, 11, 12]])"
   ]
  },
  {
   "cell_type": "code",
   "execution_count": 203,
   "id": "1c4cb697",
   "metadata": {},
   "outputs": [
    {
     "data": {
      "text/plain": [
       "[4, 6]"
      ]
     },
     "execution_count": 203,
     "metadata": {},
     "output_type": "execute_result"
    }
   ],
   "source": [
    "lis = [3, 4, 5, 6, 7]\n",
    "for i in lis:\n",
    "    lis.remove(i)\n",
    "lis"
   ]
  },
  {
   "cell_type": "code",
   "execution_count": null,
   "id": "519322e9",
   "metadata": {},
   "outputs": [],
   "source": []
  },
  {
   "cell_type": "code",
   "execution_count": 25,
   "id": "e767750a",
   "metadata": {
    "scrolled": true
   },
   "outputs": [
    {
     "data": {
      "text/plain": [
       "array([ 9, 10, 11, 12])"
      ]
     },
     "execution_count": 25,
     "metadata": {},
     "output_type": "execute_result"
    }
   ],
   "source": [
    "a[2]"
   ]
  },
  {
   "cell_type": "code",
   "execution_count": 31,
   "id": "d6049630",
   "metadata": {},
   "outputs": [
    {
     "data": {
      "text/plain": [
       "array([1, 3, 5, 7, 9])"
      ]
     },
     "execution_count": 31,
     "metadata": {},
     "output_type": "execute_result"
    }
   ],
   "source": [
    "np.arange(1,10,2)"
   ]
  },
  {
   "cell_type": "code",
   "execution_count": 32,
   "id": "8a089a73",
   "metadata": {},
   "outputs": [],
   "source": [
    "x = np.array([[1, 2], [3, 4]])\n",
    "y = np.array([[5, 6]])"
   ]
  },
  {
   "cell_type": "code",
   "execution_count": 37,
   "id": "34579bf1",
   "metadata": {},
   "outputs": [],
   "source": [
    "z = np.concatenate((x, y), axis = 0)"
   ]
  },
  {
   "cell_type": "code",
   "execution_count": 66,
   "id": "54d0ecff",
   "metadata": {},
   "outputs": [
    {
     "data": {
      "text/plain": [
       "array([[1, 2],\n",
       "       [3, 4],\n",
       "       [5, 6]])"
      ]
     },
     "execution_count": 66,
     "metadata": {},
     "output_type": "execute_result"
    }
   ],
   "source": [
    "z"
   ]
  },
  {
   "cell_type": "code",
   "execution_count": 41,
   "id": "5c7834e8",
   "metadata": {},
   "outputs": [],
   "source": [
    "a = np.arange(8)"
   ]
  },
  {
   "cell_type": "code",
   "execution_count": 42,
   "id": "233e3994",
   "metadata": {},
   "outputs": [
    {
     "data": {
      "text/plain": [
       "array([[0, 1, 2, 3],\n",
       "       [4, 5, 6, 7]])"
      ]
     },
     "execution_count": 42,
     "metadata": {},
     "output_type": "execute_result"
    }
   ],
   "source": [
    "a.reshape(2, 4)"
   ]
  },
  {
   "cell_type": "code",
   "execution_count": 46,
   "id": "5ad16320",
   "metadata": {},
   "outputs": [],
   "source": [
    "b = np.ones"
   ]
  },
  {
   "cell_type": "code",
   "execution_count": 43,
   "id": "53e724c0",
   "metadata": {},
   "outputs": [
    {
     "data": {
      "text/plain": [
       "array([0, 1, 2, 3, 4, 5, 6, 7])"
      ]
     },
     "execution_count": 43,
     "metadata": {},
     "output_type": "execute_result"
    }
   ],
   "source": [
    "a"
   ]
  },
  {
   "cell_type": "code",
   "execution_count": 47,
   "id": "60e77625",
   "metadata": {},
   "outputs": [
    {
     "ename": "IndexError",
     "evalue": "only integers, slices (`:`), ellipsis (`...`), numpy.newaxis (`None`) and integer or boolean arrays are valid indices",
     "output_type": "error",
     "traceback": [
      "\u001b[1;31m---------------------------------------------------------------------------\u001b[0m",
      "\u001b[1;31mIndexError\u001b[0m                                Traceback (most recent call last)",
      "Cell \u001b[1;32mIn[47], line 1\u001b[0m\n\u001b[1;32m----> 1\u001b[0m a[np\u001b[38;5;241m.\u001b[39mnewaxis, b]\n",
      "\u001b[1;31mIndexError\u001b[0m: only integers, slices (`:`), ellipsis (`...`), numpy.newaxis (`None`) and integer or boolean arrays are valid indices"
     ]
    }
   ],
   "source": [
    "a[np.newaxis, b]"
   ]
  },
  {
   "cell_type": "code",
   "execution_count": 63,
   "id": "9c6940a9",
   "metadata": {},
   "outputs": [
    {
     "data": {
      "text/plain": [
       "array([ 5,  6,  7,  8,  9, 10, 11, 12])"
      ]
     },
     "execution_count": 63,
     "metadata": {},
     "output_type": "execute_result"
    }
   ],
   "source": [
    "a[a > 4]"
   ]
  },
  {
   "cell_type": "code",
   "execution_count": 64,
   "id": "938d2bf5",
   "metadata": {},
   "outputs": [],
   "source": [
    "five = a[a<=5]"
   ]
  },
  {
   "cell_type": "code",
   "execution_count": 65,
   "id": "d1e381f5",
   "metadata": {},
   "outputs": [
    {
     "data": {
      "text/plain": [
       "array([1, 2, 3, 4, 5])"
      ]
     },
     "execution_count": 65,
     "metadata": {},
     "output_type": "execute_result"
    }
   ],
   "source": [
    "five"
   ]
  },
  {
   "cell_type": "code",
   "execution_count": 51,
   "id": "a2adc724",
   "metadata": {},
   "outputs": [],
   "source": [
    "a = np.array([[1, 2, 3, 4], [5, 6, 7, 8], [9, 10, 11, 12]])"
   ]
  },
  {
   "cell_type": "code",
   "execution_count": 60,
   "id": "0f7aec9f",
   "metadata": {},
   "outputs": [],
   "source": [
    "b = np.nonzero(a<5)"
   ]
  },
  {
   "cell_type": "code",
   "execution_count": 61,
   "id": "2c5d664d",
   "metadata": {},
   "outputs": [
    {
     "data": {
      "text/plain": [
       "(array([0, 0, 0, 0], dtype=int64), array([0, 1, 2, 3], dtype=int64))"
      ]
     },
     "execution_count": 61,
     "metadata": {},
     "output_type": "execute_result"
    }
   ],
   "source": [
    "b"
   ]
  },
  {
   "cell_type": "code",
   "execution_count": 62,
   "id": "5b46ce15",
   "metadata": {},
   "outputs": [
    {
     "data": {
      "text/plain": [
       "array([1, 2, 3, 4])"
      ]
     },
     "execution_count": 62,
     "metadata": {},
     "output_type": "execute_result"
    }
   ],
   "source": [
    "a[b]"
   ]
  },
  {
   "cell_type": "code",
   "execution_count": 90,
   "id": "9e5045b3",
   "metadata": {},
   "outputs": [],
   "source": [
    "c =  np.arange(1, 25).reshape(2, 12)"
   ]
  },
  {
   "cell_type": "code",
   "execution_count": 91,
   "id": "2f90ced4",
   "metadata": {},
   "outputs": [
    {
     "data": {
      "text/plain": [
       "array([[ 1,  2,  3,  4,  5,  6,  7,  8,  9, 10, 11, 12],\n",
       "       [13, 14, 15, 16, 17, 18, 19, 20, 21, 22, 23, 24]])"
      ]
     },
     "execution_count": 91,
     "metadata": {},
     "output_type": "execute_result"
    }
   ],
   "source": [
    "c"
   ]
  },
  {
   "cell_type": "code",
   "execution_count": 97,
   "id": "4bd0b3d1",
   "metadata": {},
   "outputs": [
    {
     "data": {
      "text/plain": [
       "[array([[ 1,  2,  3,  4],\n",
       "        [13, 14, 15, 16]]),\n",
       " array([[ 5,  6,  7,  8],\n",
       "        [17, 18, 19, 20]]),\n",
       " array([[ 9, 10, 11, 12],\n",
       "        [21, 22, 23, 24]])]"
      ]
     },
     "execution_count": 97,
     "metadata": {},
     "output_type": "execute_result"
    }
   ],
   "source": [
    "np.hsplit(c, 3)"
   ]
  },
  {
   "cell_type": "code",
   "execution_count": 98,
   "id": "c90f4c2d",
   "metadata": {},
   "outputs": [],
   "source": [
    "a = np.arange(10)**3"
   ]
  },
  {
   "cell_type": "code",
   "execution_count": 99,
   "id": "fc9b879d",
   "metadata": {},
   "outputs": [
    {
     "data": {
      "text/plain": [
       "array([  0,   1,   8,  27,  64, 125, 216, 343, 512, 729], dtype=int32)"
      ]
     },
     "execution_count": 99,
     "metadata": {},
     "output_type": "execute_result"
    }
   ],
   "source": [
    "a"
   ]
  },
  {
   "cell_type": "code",
   "execution_count": 106,
   "id": "7c9d3b6e",
   "metadata": {},
   "outputs": [],
   "source": [
    "a[2:5] = 1"
   ]
  },
  {
   "cell_type": "code",
   "execution_count": 113,
   "id": "6447d9bd",
   "metadata": {},
   "outputs": [
    {
     "ename": "ValueError",
     "evalue": "cannot reshape array of size 10 into shape (1,)",
     "output_type": "error",
     "traceback": [
      "\u001b[1;31m---------------------------------------------------------------------------\u001b[0m",
      "\u001b[1;31mValueError\u001b[0m                                Traceback (most recent call last)",
      "Cell \u001b[1;32mIn[113], line 1\u001b[0m\n\u001b[1;32m----> 1\u001b[0m a\u001b[38;5;241m.\u001b[39mreshape(\u001b[38;5;241m1\u001b[39m)\n",
      "\u001b[1;31mValueError\u001b[0m: cannot reshape array of size 10 into shape (1,)"
     ]
    }
   ],
   "source": [
    "a.reshape(1)"
   ]
  },
  {
   "cell_type": "code",
   "execution_count": 115,
   "id": "8e51de43",
   "metadata": {},
   "outputs": [],
   "source": [
    "A = np.arange(12).reshape(3, 4)"
   ]
  },
  {
   "cell_type": "code",
   "execution_count": null,
   "id": "33ea849e",
   "metadata": {},
   "outputs": [],
   "source": []
  },
  {
   "cell_type": "code",
   "execution_count": 123,
   "id": "baa5f21a",
   "metadata": {},
   "outputs": [
    {
     "data": {
      "text/plain": [
       "array([[ 0,  1,  2,  3],\n",
       "       [ 4,  5,  6,  7],\n",
       "       [ 8,  9, 10, 11]])"
      ]
     },
     "execution_count": 123,
     "metadata": {},
     "output_type": "execute_result"
    }
   ],
   "source": [
    "A"
   ]
  },
  {
   "cell_type": "code",
   "execution_count": 125,
   "id": "31f73e60",
   "metadata": {},
   "outputs": [],
   "source": [
    "import random as rd"
   ]
  },
  {
   "cell_type": "code",
   "execution_count": 130,
   "id": "25b27866",
   "metadata": {},
   "outputs": [
    {
     "ename": "NameError",
     "evalue": "name 'rg' is not defined",
     "output_type": "error",
     "traceback": [
      "\u001b[1;31m---------------------------------------------------------------------------\u001b[0m",
      "\u001b[1;31mNameError\u001b[0m                                 Traceback (most recent call last)",
      "Cell \u001b[1;32mIn[130], line 1\u001b[0m\n\u001b[1;32m----> 1\u001b[0m a \u001b[38;5;241m=\u001b[39m np\u001b[38;5;241m.\u001b[39mfloor(\u001b[38;5;241m10\u001b[39m \u001b[38;5;241m*\u001b[39m rg\u001b[38;5;241m.\u001b[39mrandom((\u001b[38;5;241m2\u001b[39m,\u001b[38;5;241m12\u001b[39m)))\n",
      "\u001b[1;31mNameError\u001b[0m: name 'rg' is not defined"
     ]
    }
   ],
   "source": [
    "a = np.floor(10 * rg.random((2,12)))"
   ]
  },
  {
   "cell_type": "code",
   "execution_count": 135,
   "id": "28d38349",
   "metadata": {},
   "outputs": [],
   "source": [
    "a = np.arange(0, 10).reshape(2, 5)"
   ]
  },
  {
   "cell_type": "code",
   "execution_count": 136,
   "id": "a1a060ed",
   "metadata": {},
   "outputs": [
    {
     "data": {
      "text/plain": [
       "array([[0, 1, 2, 3, 4],\n",
       "       [5, 6, 7, 8, 9]])"
      ]
     },
     "execution_count": 136,
     "metadata": {},
     "output_type": "execute_result"
    }
   ],
   "source": [
    "a"
   ]
  },
  {
   "cell_type": "code",
   "execution_count": 137,
   "id": "09805e75",
   "metadata": {},
   "outputs": [],
   "source": [
    "c = a.copy()"
   ]
  },
  {
   "cell_type": "code",
   "execution_count": 138,
   "id": "831d169c",
   "metadata": {},
   "outputs": [
    {
     "data": {
      "text/plain": [
       "array([[0, 1, 2, 3, 4],\n",
       "       [5, 6, 7, 8, 9]])"
      ]
     },
     "execution_count": 138,
     "metadata": {},
     "output_type": "execute_result"
    }
   ],
   "source": [
    "c"
   ]
  },
  {
   "cell_type": "code",
   "execution_count": 140,
   "id": "29f8783e",
   "metadata": {},
   "outputs": [
    {
     "data": {
      "text/plain": [
       "True"
      ]
     },
     "execution_count": 140,
     "metadata": {},
     "output_type": "execute_result"
    }
   ],
   "source": [
    "a is c"
   ]
  },
  {
   "cell_type": "code",
   "execution_count": 141,
   "id": "2953cce6",
   "metadata": {},
   "outputs": [
    {
     "data": {
      "text/plain": [
       "array([[ 0,  2,  4,  6,  8],\n",
       "       [10, 12, 14, 16, 18]])"
      ]
     },
     "execution_count": 141,
     "metadata": {},
     "output_type": "execute_result"
    }
   ],
   "source": [
    "a * 2"
   ]
  },
  {
   "cell_type": "code",
   "execution_count": 142,
   "id": "cec08e34",
   "metadata": {},
   "outputs": [
    {
     "data": {
      "text/plain": [
       "array([[0. , 0.2, 0.4, 0.6, 0.8],\n",
       "       [1. , 1.2, 1.4, 1.6, 1.8]])"
      ]
     },
     "execution_count": 142,
     "metadata": {},
     "output_type": "execute_result"
    }
   ],
   "source": [
    "a / 5"
   ]
  },
  {
   "cell_type": "code",
   "execution_count": 149,
   "id": "3e2217c3",
   "metadata": {},
   "outputs": [],
   "source": [
    "from numpy.random import Generator, PCG64 "
   ]
  },
  {
   "cell_type": "code",
   "execution_count": 150,
   "id": "3b9a95ae",
   "metadata": {},
   "outputs": [],
   "source": [
    "rng = Generator(PCG64())"
   ]
  },
  {
   "cell_type": "code",
   "execution_count": 153,
   "id": "e449c17f",
   "metadata": {},
   "outputs": [],
   "source": [
    "a = np.floor(100 * rng.random((2, 12)))"
   ]
  },
  {
   "cell_type": "code",
   "execution_count": 154,
   "id": "a3f39985",
   "metadata": {},
   "outputs": [
    {
     "data": {
      "text/plain": [
       "array([[ 6., 11., 85., 90., 84., 33., 55., 99., 59., 36.,  0., 85.],\n",
       "       [92., 85., 53., 15., 53., 68., 54., 16., 89., 93., 45.,  8.]])"
      ]
     },
     "execution_count": 154,
     "metadata": {},
     "output_type": "execute_result"
    }
   ],
   "source": [
    "a"
   ]
  },
  {
   "cell_type": "code",
   "execution_count": 155,
   "id": "bc0dae74",
   "metadata": {},
   "outputs": [],
   "source": [
    "arr = np.array([1, 2, 3, 4, 5, 6, 7, 8])"
   ]
  },
  {
   "cell_type": "code",
   "execution_count": 157,
   "id": "6fa5097e",
   "metadata": {},
   "outputs": [
    {
     "data": {
      "text/plain": [
       "array([8, 7, 6, 5, 4, 3, 2, 1])"
      ]
     },
     "execution_count": 157,
     "metadata": {},
     "output_type": "execute_result"
    }
   ],
   "source": [
    "arr[::-1]"
   ]
  },
  {
   "cell_type": "code",
   "execution_count": 214,
   "id": "6929f7a7",
   "metadata": {},
   "outputs": [],
   "source": [
    "from sklearn.datasets import make_regression()"
   ]
  },
  {
   "cell_type": "code",
   "execution_count": 221,
   "id": "7a43350c",
   "metadata": {},
   "outputs": [],
   "source": [
    "data, target,coef = make_regression(n_samples=100,n_features=1, n_targets=1, noise=30, coef = True, random_state=42)"
   ]
  },
  {
   "cell_type": "code",
   "execution_count": 217,
   "id": "5334fa2d",
   "metadata": {},
   "outputs": [],
   "source": [
    "import matplotlib.pyplot as plt"
   ]
  },
  {
   "cell_type": "code",
   "execution_count": 222,
   "id": "76b42b3e",
   "metadata": {},
   "outputs": [
    {
     "data": {
      "image/png": "[encoded data removed]",
      "text/plain": [
       "<Figure size 640x480 with 1 Axes>"
      ]
     },
     "metadata": {},
     "output_type": "display_data"
    }
   ],
   "source": [
    "plt.scatter(data, target, color = 'red', label = \"data points\")\n",
    "plt.plot(data, data*coef, color='blue')\n",
    "plt.legend()\n",
    "plt.show()"
   ]
  },
  {
   "cell_type": "code",
   "execution_count": 224,
   "id": "cfef988d",
   "metadata": {},
   "outputs": [
    {
     "data": {
      "text/plain": [
       "(array([[ 0.93128012],\n",
       "        [ 0.08704707],\n",
       "        [-1.05771093],\n",
       "        [ 0.31424733],\n",
       "        [-0.47917424],\n",
       "        [ 0.64768854],\n",
       "        [-0.46341769],\n",
       "        [ 0.54256004],\n",
       "        [ 0.61167629],\n",
       "        [ 1.0035329 ],\n",
       "        [ 0.8219025 ],\n",
       "        [ 1.53803657],\n",
       "        [ 0.73846658],\n",
       "        [-0.21967189],\n",
       "        [-0.8084936 ],\n",
       "        [ 0.09176078],\n",
       "        [-1.95967012],\n",
       "        [ 0.51326743],\n",
       "        [ 1.03099952],\n",
       "        [-2.6197451 ],\n",
       "        [ 0.49671415],\n",
       "        [ 0.09707755],\n",
       "        [-0.46572975],\n",
       "        [ 0.91540212],\n",
       "        [ 1.56464366],\n",
       "        [ 1.46564877],\n",
       "        [-0.60063869],\n",
       "        [-0.03582604],\n",
       "        [-0.60170661],\n",
       "        [-1.19620662],\n",
       "        [ 0.35711257],\n",
       "        [ 0.37569802],\n",
       "        [ 0.26105527],\n",
       "        [-0.5297602 ],\n",
       "        [-0.90802408],\n",
       "        [ 0.19686124],\n",
       "        [-0.29900735],\n",
       "        [ 0.36163603],\n",
       "        [ 0.82254491],\n",
       "        [-0.29169375],\n",
       "        [ 0.36139561],\n",
       "        [-0.676922  ],\n",
       "        [ 1.52302986],\n",
       "        [-0.51827022],\n",
       "        [-0.23415337],\n",
       "        [-0.39210815],\n",
       "        [-0.3011037 ],\n",
       "        [-0.64511975],\n",
       "        [ 0.32875111],\n",
       "        [ 0.2088636 ],\n",
       "        [-0.32766215],\n",
       "        [ 0.00511346],\n",
       "        [-0.23413696],\n",
       "        [ 1.47789404],\n",
       "        [-0.38508228],\n",
       "        [ 0.34361829],\n",
       "        [ 0.33126343],\n",
       "        [-0.18565898],\n",
       "        [-0.23458713],\n",
       "        [-1.98756891],\n",
       "        [ 0.32408397],\n",
       "        [-0.2257763 ],\n",
       "        [-1.10633497],\n",
       "        [-0.70205309],\n",
       "        [-1.46351495],\n",
       "        [ 0.96864499],\n",
       "        [-1.72491783],\n",
       "        [-1.91328024],\n",
       "        [-0.56228753],\n",
       "        [ 0.76743473],\n",
       "        [ 0.81252582],\n",
       "        [-1.4123037 ],\n",
       "        [-1.47852199],\n",
       "        [-1.22084365],\n",
       "        [-0.83921752],\n",
       "        [ 1.57921282],\n",
       "        [ 0.97554513],\n",
       "        [ 0.24196227],\n",
       "        [ 0.29612028],\n",
       "        [-0.54438272],\n",
       "        [-1.76304016],\n",
       "        [ 0.11092259],\n",
       "        [ 0.17136828],\n",
       "        [-1.32818605],\n",
       "        [ 1.05712223],\n",
       "        [-0.11564828],\n",
       "        [-0.46947439],\n",
       "        [-0.01349722],\n",
       "        [-1.01283112],\n",
       "        [-0.1382643 ],\n",
       "        [-1.15099358],\n",
       "        [ 1.35624003],\n",
       "        [ 0.0675282 ],\n",
       "        [-0.50175704],\n",
       "        [-0.46063877],\n",
       "        [ 1.85227818],\n",
       "        [-1.42474819],\n",
       "        [-0.71984421],\n",
       "        [-0.07201012],\n",
       "        [-0.30921238]]),\n",
       " array([  74.59447456,  -37.46269129,  -16.45513974,    5.34617009,\n",
       "         -13.21261185,   40.62332204,  -51.51951944,  -27.55808545,\n",
       "          19.35603982,   13.2536495 ,   38.68297046,  102.25102428,\n",
       "          46.91448857,   27.11211281,  -75.9395706 ,   30.19040222,\n",
       "         -92.76496613,   17.3061929 ,   -0.16618894, -135.38027589,\n",
       "           8.86790174,    0.32815206,  -49.21765775,    9.31942284,\n",
       "          93.52601534,   71.37242122,   17.08483937,   11.23916903,\n",
       "         -51.53512062,  -86.43662746,   31.04507178,   57.20252024,\n",
       "          -4.49222523,  -20.85337187,  -55.14320025,  -28.46900151,\n",
       "         -35.6343183 ,   -7.44029714,   85.5320783 ,   29.59415453,\n",
       "          38.18437102,  -37.99019785,   58.59111477,  -18.82020627,\n",
       "          -3.3256546 ,   15.0001093 ,  -17.39652087,  -60.84084999,\n",
       "          43.03783307,    8.99252664,    9.63451532,   21.51671852,\n",
       "         -70.4425822 ,  143.72158835,   60.10112339,   45.65882382,\n",
       "          32.35652549,   17.67243301,   -7.01755892,  -90.15114869,\n",
       "          54.44421721,   -9.64555571,  -40.93464877,  -42.87833559,\n",
       "         -71.35297564,   62.64253226,  -91.77543735,  -92.84070104,\n",
       "         -23.35238103,   74.15233217,   65.39614363,  -71.59605708,\n",
       "         -73.36306669,  -24.75167479,    3.95204161,   37.6263763 ,\n",
       "          77.23245092,   13.17020193,  -15.42101239,  -45.98321709,\n",
       "         -57.79779114,   27.82425662,  -20.28762732,  -35.96734513,\n",
       "          60.80909885,   13.78915992,  -20.15290157,  -15.36636348,\n",
       "         -27.94406241,  -14.44540976,  -72.09857368,   96.36412093,\n",
       "          25.83760673,  -21.97978077,  -29.92991992,   79.62297797,\n",
       "         -93.96433429,  -56.61246053,   19.02925024,  -38.92124948]))"
      ]
     },
     "execution_count": 224,
     "metadata": {},
     "output_type": "execute_result"
    }
   ],
   "source": []
  },
  {
   "cell_type": "code",
   "execution_count": 225,
   "id": "ead39707",
   "metadata": {},
   "outputs": [],
   "source": [
    "data, target = make_regression(n_samples=1000, n_features=1, n_targets=1, noise=15, random_state=42)"
   ]
  },
  {
   "cell_type": "code",
   "execution_count": 227,
   "id": "0934d552",
   "metadata": {},
   "outputs": [],
   "source": [
    "from sklearn.model_selection import train_test_split"
   ]
  },
  {
   "cell_type": "code",
   "execution_count": 228,
   "id": "fd943321",
   "metadata": {},
   "outputs": [
    {
     "name": "stdout",
     "output_type": "stream",
     "text": [
      "                            OLS Regression Results                            \n",
      "==============================================================================\n",
      "Dep. Variable:                      y   R-squared:                       0.946\n",
      "Model:                            OLS   Adj. R-squared:                  0.945\n",
      "Method:                 Least Squares   F-statistic:                     852.2\n",
      "Date:                Fri, 05 Apr 2024   Prob (F-statistic):           2.90e-62\n",
      "Time:                        12:48:55   Log-Likelihood:                -131.31\n",
      "No. Observations:                 100   AIC:                             268.6\n",
      "Df Residuals:                      97   BIC:                             276.4\n",
      "Df Model:                           2                                         \n",
      "Covariance Type:            nonrobust                                         \n",
      "==============================================================================\n",
      "                 coef    std err          t      P>|t|      [0.025      0.975]\n",
      "------------------------------------------------------------------------------\n",
      "Intercept      0.8695      0.091      9.509      0.000       0.688       1.051\n",
      "x1             2.0980      0.086     24.369      0.000       1.927       2.269\n",
      "x2             2.9797      0.096     31.126      0.000       2.790       3.170\n",
      "==============================================================================\n",
      "Omnibus:                        0.635   Durbin-Watson:                   2.386\n",
      "Prob(Omnibus):                  0.728   Jarque-Bera (JB):                0.269\n",
      "Skew:                           0.087   Prob(JB):                        0.874\n",
      "Kurtosis:                       3.186   Cond. No.                         1.16\n",
      "==============================================================================\n",
      "\n",
      "Notes:\n",
      "[1] Standard Errors assume that the covariance matrix of the errors is correctly specified.\n"
     ]
    }
   ],
   "source": [
    "import pandas as pd\n",
    "import statsmodels.api as sm\n",
    "import statsmodels.formula.api as smf\n",
    "df = data\n",
    "df['y'] = 1 + 2*df['x1'] + 3*df['x2'] + np.random.randn(100)\n",
    "model = smf.ols('y ~ x1 + x2', data=df).fit()\n",
    "model.summary()\n"
   ]
  },
  {
   "cell_type": "code",
   "execution_count": null,
   "id": "0dd6f7e5",
   "metadata": {},
   "outputs": [],
   "source": []
  }
 ],
 "metadata": {
  "kernelspec": {
   "display_name": "Python 3 (ipykernel)",
   "language": "python",
   "name": "python3"
  },
  "language_info": {
   "codemirror_mode": {
    "name": "ipython",
    "version": 3
   },
   "file_extension": ".py",
   "mimetype": "text/x-python",
   "name": "python",
   "nbconvert_exporter": "python",
   "pygments_lexer": "ipython3",
   "version": "3.11.5"
  }
 },
 "nbformat": 4,
 "nbformat_minor": 5
}
