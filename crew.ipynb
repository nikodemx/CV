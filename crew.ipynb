{
 "cells": [
  {
   "cell_type": "code",
   "execution_count": 1,
   "id": "71652384",
   "metadata": {},
   "outputs": [],
   "source": [
    "from pyspark.sql import SparkSession"
   ]
  },
  {
   "cell_type": "code",
   "execution_count": 2,
   "id": "0da84000",
   "metadata": {},
   "outputs": [],
   "source": [
    "from pyspark.ml.regression import LinearRegression"
   ]
  },
  {
   "cell_type": "code",
   "execution_count": 4,
   "id": "1e4ac0f6",
   "metadata": {},
   "outputs": [],
   "source": [
    "spark = SparkSession.builder.appName('cruise').getOrCreate()"
   ]
  },
  {
   "cell_type": "code",
   "execution_count": 8,
   "id": "a1441772",
   "metadata": {},
   "outputs": [],
   "source": [
    "data = spark.read.csv(r\"C:\\Users\\Asus\\Desktop\\studia big data\\Python-and-Spark-for-Big-Data-master\\Spark_for_Machine_Learning\\Linear_Regression\\cruise_ship_info.csv\", inferSchema = True, header = True)"
   ]
  },
  {
   "cell_type": "code",
   "execution_count": 18,
   "id": "0125b87e",
   "metadata": {},
   "outputs": [
    {
     "name": "stdout",
     "output_type": "stream",
     "text": [
      "root\n",
      " |-- Ship_name: string (nullable = true)\n",
      " |-- Cruise_line: string (nullable = true)\n",
      " |-- Age: integer (nullable = true)\n",
      " |-- Tonnage: double (nullable = true)\n",
      " |-- passengers: double (nullable = true)\n",
      " |-- length: double (nullable = true)\n",
      " |-- cabins: double (nullable = true)\n",
      " |-- passenger_density: double (nullable = true)\n",
      " |-- crew: double (nullable = true)\n",
      "\n"
     ]
    }
   ],
   "source": [
    "data.printSchema()"
   ]
  },
  {
   "cell_type": "code",
   "execution_count": 14,
   "id": "1f9fff80",
   "metadata": {},
   "outputs": [],
   "source": [
    "from pyspark.ml.linalg import Vectors\n",
    "from pyspark.ml.feature import VectorAssembler"
   ]
  },
  {
   "cell_type": "code",
   "execution_count": 20,
   "id": "520dcf1c",
   "metadata": {},
   "outputs": [],
   "source": [
    "assembler = VectorAssembler(inputCols=[\n",
    " 'Age',\n",
    " 'Tonnage',\n",
    " 'passengers',\n",
    " 'length',\n",
    " 'cabins',\n",
    " 'passenger_density'], outputCol='features')"
   ]
  },
  {
   "cell_type": "code",
   "execution_count": 22,
   "id": "548e1bf9",
   "metadata": {},
   "outputs": [
    {
     "data": {
      "text/plain": [
       "[Row(Ship_name='Journey', Cruise_line='Azamara', Age=6, Tonnage=30.276999999999997, passengers=6.94, length=5.94, cabins=3.55, passenger_density=42.64, crew=3.55, features=DenseVector([6.0, 30.277, 6.94, 5.94, 3.55, 42.64]))]"
      ]
     },
     "execution_count": 22,
     "metadata": {},
     "output_type": "execute_result"
    }
   ],
   "source": [
    "output = assembler.transform(data)\n",
    "output.head(1)\n"
   ]
  },
  {
   "cell_type": "code",
   "execution_count": 24,
   "id": "e4e01fd0",
   "metadata": {},
   "outputs": [
    {
     "name": "stdout",
     "output_type": "stream",
     "text": [
      "+----+--------------------+\n",
      "|crew|            features|\n",
      "+----+--------------------+\n",
      "|3.55|[6.0,30.276999999...|\n",
      "|3.55|[6.0,30.276999999...|\n",
      "| 6.7|[26.0,47.262,14.8...|\n",
      "|19.1|[11.0,110.0,29.74...|\n",
      "|10.0|[17.0,101.353,26....|\n",
      "| 9.2|[22.0,70.367,20.5...|\n",
      "| 9.2|[15.0,70.367,20.5...|\n",
      "| 9.2|[23.0,70.367,20.5...|\n",
      "| 9.2|[19.0,70.367,20.5...|\n",
      "|11.5|[6.0,110.23899999...|\n",
      "|11.6|[10.0,110.0,29.74...|\n",
      "| 6.6|[28.0,46.052,14.5...|\n",
      "| 9.2|[18.0,70.367,20.5...|\n",
      "| 9.2|[17.0,70.367,20.5...|\n",
      "| 9.3|[11.0,86.0,21.24,...|\n",
      "|11.6|[8.0,110.0,29.74,...|\n",
      "|10.3|[9.0,88.5,21.24,9...|\n",
      "| 9.2|[15.0,70.367,20.5...|\n",
      "| 9.3|[12.0,88.5,21.24,...|\n",
      "| 9.2|[20.0,70.367,20.5...|\n",
      "+----+--------------------+\n",
      "only showing top 20 rows\n",
      "\n"
     ]
    }
   ],
   "source": [
    "final_data = output['crew', 'features']\n",
    "final_data.show()"
   ]
  },
  {
   "cell_type": "code",
   "execution_count": 25,
   "id": "0df4ebde",
   "metadata": {},
   "outputs": [],
   "source": [
    "train_data, test_data = final_data.randomSplit([0.7, 0.3])"
   ]
  },
  {
   "cell_type": "code",
   "execution_count": 26,
   "id": "46e09d72",
   "metadata": {},
   "outputs": [
    {
     "name": "stdout",
     "output_type": "stream",
     "text": [
      "+----+--------------------+\n",
      "|crew|            features|\n",
      "+----+--------------------+\n",
      "|0.59|[22.0,3.341,0.66,...|\n",
      "|0.59|[22.0,3.341,0.66,...|\n",
      "| 0.6|[12.0,2.329,0.94,...|\n",
      "|0.88|[25.0,5.35,1.58,4...|\n",
      "| 1.6|[21.0,10.0,2.08,4...|\n",
      "| 1.6|[24.0,10.0,2.08,4...|\n",
      "|1.97|[19.0,16.8,2.96,5...|\n",
      "| 2.1|[19.0,16.8,2.96,5...|\n",
      "|2.11|[16.0,19.2,3.2,5....|\n",
      "|2.87|[12.0,25.0,3.88,5...|\n",
      "|2.95|[13.0,25.0,3.82,5...|\n",
      "|3.24|[14.0,33.0,4.9,5....|\n",
      "| 3.5|[48.0,22.08,8.26,...|\n",
      "|3.55|[6.0,30.276999999...|\n",
      "|3.73|[14.0,30.27699999...|\n",
      "|3.73|[14.0,30.27699999...|\n",
      "|3.85|[23.0,25.0,7.76,6...|\n",
      "| 4.0|[15.0,30.27699999...|\n",
      "| 4.0|[15.0,30.27699999...|\n",
      "|4.47|[10.0,46.0,7.0,6....|\n",
      "+----+--------------------+\n",
      "only showing top 20 rows\n",
      "\n"
     ]
    }
   ],
   "source": [
    "train_data.show()"
   ]
  },
  {
   "cell_type": "code",
   "execution_count": 27,
   "id": "9cd6315f",
   "metadata": {},
   "outputs": [],
   "source": [
    "lr = LinearRegression(labelCol= 'crew')"
   ]
  },
  {
   "cell_type": "code",
   "execution_count": 28,
   "id": "30298860",
   "metadata": {},
   "outputs": [],
   "source": [
    "model = lr.fit(train_data)"
   ]
  },
  {
   "cell_type": "code",
   "execution_count": 29,
   "id": "cab04091",
   "metadata": {},
   "outputs": [],
   "source": [
    "correct = model.evaluate(test_data)"
   ]
  },
  {
   "cell_type": "code",
   "execution_count": 1,
   "id": "23b641fd",
   "metadata": {},
   "outputs": [
    {
     "ename": "NameError",
     "evalue": "name 'correct' is not defined",
     "output_type": "error",
     "traceback": [
      "\u001b[1;31m---------------------------------------------------------------------------\u001b[0m",
      "\u001b[1;31mNameError\u001b[0m                                 Traceback (most recent call last)",
      "Cell \u001b[1;32mIn[1], line 1\u001b[0m\n\u001b[1;32m----> 1\u001b[0m correct\u001b[38;5;241m.\u001b[39mr2\n",
      "\u001b[1;31mNameError\u001b[0m: name 'correct' is not defined"
     ]
    }
   ],
   "source": [
    "correct.r2"
   ]
  },
  {
   "cell_type": "code",
   "execution_count": null,
   "id": "91c9325a",
   "metadata": {},
   "outputs": [],
   "source": []
  }
 ],
 "metadata": {
  "kernelspec": {
   "display_name": "Python 3 (ipykernel)",
   "language": "python",
   "name": "python3"
  },
  "language_info": {
   "codemirror_mode": {
    "name": "ipython",
    "version": 3
   },
   "file_extension": ".py",
   "mimetype": "text/x-python",
   "name": "python",
   "nbconvert_exporter": "python",
   "pygments_lexer": "ipython3",
   "version": "3.11.5"
  }
 },
 "nbformat": 4,
 "nbformat_minor": 5
}
