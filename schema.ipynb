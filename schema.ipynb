{
 "cells": [
  {
   "cell_type": "code",
   "execution_count": 1,
   "id": "205d5fa4",
   "metadata": {},
   "outputs": [],
   "source": [
    "from pyspark.sql import SparkSession"
   ]
  },
  {
   "cell_type": "code",
   "execution_count": 2,
   "id": "6327d901",
   "metadata": {},
   "outputs": [],
   "source": [
    "spark = SparkSession.builder.appName('dupa').getOrCreate()"
   ]
  },
  {
   "cell_type": "code",
   "execution_count": 3,
   "id": "65863706",
   "metadata": {},
   "outputs": [],
   "source": [
    "data = spark.read.csv(r\"C:\\Users\\Asus\\Desktop\\studia big data\\Python-and-Spark-for-Big-Data-master\\Spark_for_Machine_Learning\\Clustering\\hack_data.csv\", inferSchema=True, header=True)"
   ]
  },
  {
   "cell_type": "code",
   "execution_count": 14,
   "id": "e80e5490",
   "metadata": {},
   "outputs": [
    {
     "data": {
      "text/plain": [
       "['Session_Connection_Time',\n",
       " 'Bytes Transferred',\n",
       " 'Kali_Trace_Used',\n",
       " 'Servers_Corrupted',\n",
       " 'Pages_Corrupted',\n",
       " 'Location',\n",
       " 'WPM_Typing_Speed']"
      ]
     },
     "execution_count": 14,
     "metadata": {},
     "output_type": "execute_result"
    }
   ],
   "source": [
    "data.columns"
   ]
  },
  {
   "cell_type": "code",
   "execution_count": 8,
   "id": "7463d741",
   "metadata": {},
   "outputs": [],
   "source": [
    "from pyspark.ml.feature import VectorAssembler "
   ]
  },
  {
   "cell_type": "code",
   "execution_count": 15,
   "id": "1a26ce96",
   "metadata": {},
   "outputs": [],
   "source": [
    "assembler = VectorAssembler(inputCols=['Session_Connection_Time',\n",
    " 'Bytes Transferred',\n",
    " 'Kali_Trace_Used',\n",
    " 'Servers_Corrupted',\n",
    " 'Pages_Corrupted',\n",
    " 'WPM_Typing_Speed'], outputCol='features')"
   ]
  },
  {
   "cell_type": "code",
   "execution_count": 16,
   "id": "54367b41",
   "metadata": {},
   "outputs": [],
   "source": [
    "final_data = assembler.transform(data)"
   ]
  },
  {
   "cell_type": "code",
   "execution_count": 19,
   "id": "3ce4de1b",
   "metadata": {},
   "outputs": [],
   "source": [
    "from pyspark.ml.feature import StandardScaler "
   ]
  },
  {
   "cell_type": "code",
   "execution_count": 20,
   "id": "669be3a1",
   "metadata": {},
   "outputs": [],
   "source": [
    "scaler = StandardScaler(inputCol='features', outputCol='stand_features')"
   ]
  },
  {
   "cell_type": "code",
   "execution_count": 21,
   "id": "8a4baa9f",
   "metadata": {},
   "outputs": [],
   "source": [
    "scalerModel = scaler.fit(final_data)"
   ]
  },
  {
   "cell_type": "code",
   "execution_count": 22,
   "id": "06ed3f9e",
   "metadata": {},
   "outputs": [],
   "source": [
    "final_data = scalerModel.transform(final_data)"
   ]
  },
  {
   "cell_type": "code",
   "execution_count": 23,
   "id": "794d60a8",
   "metadata": {},
   "outputs": [],
   "source": [
    "from pyspark.ml.clustering import KMeans"
   ]
  },
  {
   "cell_type": "code",
   "execution_count": 29,
   "id": "4008219d",
   "metadata": {},
   "outputs": [],
   "source": [
    "kmean = KMeans(featuresCol='stand_features', k=3)"
   ]
  },
  {
   "cell_type": "code",
   "execution_count": 30,
   "id": "4d1e1ed5",
   "metadata": {},
   "outputs": [],
   "source": [
    "model = kmean.fit(final_data)"
   ]
  },
  {
   "cell_type": "code",
   "execution_count": 31,
   "id": "30768597",
   "metadata": {},
   "outputs": [
    {
     "data": {
      "text/plain": [
       "[array([2.99991988, 2.92319035, 1.05261534, 3.20390443, 4.51321315,\n",
       "        3.28474   ]),\n",
       " array([1.30217042, 1.25830099, 0.        , 1.35793211, 2.57251009,\n",
       "        5.24230473]),\n",
       " array([1.21780112, 1.37901802, 1.99757683, 1.37198977, 2.55237797,\n",
       "        5.29152222])]"
      ]
     },
     "execution_count": 31,
     "metadata": {},
     "output_type": "execute_result"
    }
   ],
   "source": [
    "model.clusterCenters()"
   ]
  },
  {
   "cell_type": "code",
   "execution_count": 53,
   "id": "6f26e733",
   "metadata": {},
   "outputs": [],
   "source": [
    "dupa = model.transform(final_data)"
   ]
  },
  {
   "cell_type": "code",
   "execution_count": 37,
   "id": "b3fe869d",
   "metadata": {},
   "outputs": [],
   "source": [
    "from pyspark.sql.functions import countDistinct"
   ]
  },
  {
   "cell_type": "code",
   "execution_count": 63,
   "id": "da8df22f",
   "metadata": {},
   "outputs": [
    {
     "data": {
      "text/plain": [
       "[Row(Session_Connection_Time=8.0, Bytes Transferred=391.09, Kali_Trace_Used=1, Servers_Corrupted=2.96, Pages_Corrupted=7.0, Location='Slovenia', WPM_Typing_Speed=72.37, features=DenseVector([8.0, 391.09, 1.0, 2.96, 7.0, 72.37]), stand_features=DenseVector([0.5679, 1.3658, 1.9976, 1.2859, 2.2849, 5.3963]), prediction=2),\n",
       " Row(Session_Connection_Time=20.0, Bytes Transferred=720.99, Kali_Trace_Used=0, Servers_Corrupted=3.04, Pages_Corrupted=9.0, Location='British Virgin Islands', WPM_Typing_Speed=69.08, features=DenseVector([20.0, 720.99, 0.0, 3.04, 9.0, 69.08]), stand_features=DenseVector([1.4196, 2.518, 0.0, 1.3206, 2.9378, 5.151]), prediction=1),\n",
       " Row(Session_Connection_Time=31.0, Bytes Transferred=356.32, Kali_Trace_Used=1, Servers_Corrupted=3.71, Pages_Corrupted=8.0, Location='Tokelau', WPM_Typing_Speed=70.58, features=DenseVector([31.0, 356.32, 1.0, 3.71, 8.0, 70.58]), stand_features=DenseVector([2.2004, 1.2444, 1.9976, 1.6117, 2.6114, 5.2628]), prediction=2),\n",
       " Row(Session_Connection_Time=2.0, Bytes Transferred=228.08, Kali_Trace_Used=1, Servers_Corrupted=2.48, Pages_Corrupted=8.0, Location='Bolivia', WPM_Typing_Speed=70.8, features=DenseVector([2.0, 228.08, 1.0, 2.48, 8.0, 70.8]), stand_features=DenseVector([0.142, 0.7965, 1.9976, 1.0774, 2.6114, 5.2792]), prediction=2),\n",
       " Row(Session_Connection_Time=20.0, Bytes Transferred=408.5, Kali_Trace_Used=0, Servers_Corrupted=3.57, Pages_Corrupted=8.0, Location='Iraq', WPM_Typing_Speed=71.28, features=DenseVector([20.0, 408.5, 0.0, 3.57, 8.0, 71.28]), stand_features=DenseVector([1.4196, 1.4266, 0.0, 1.5509, 2.6114, 5.315]), prediction=1),\n",
       " Row(Session_Connection_Time=1.0, Bytes Transferred=390.69, Kali_Trace_Used=1, Servers_Corrupted=2.79, Pages_Corrupted=9.0, Location='Marshall Islands', WPM_Typing_Speed=71.57, features=DenseVector([1.0, 390.69, 1.0, 2.79, 9.0, 71.57]), stand_features=DenseVector([0.071, 1.3644, 1.9976, 1.212, 2.9378, 5.3366]), prediction=2),\n",
       " Row(Session_Connection_Time=18.0, Bytes Transferred=342.97, Kali_Trace_Used=1, Servers_Corrupted=5.1, Pages_Corrupted=7.0, Location='Georgia', WPM_Typing_Speed=72.32, features=DenseVector([18.0, 342.97, 1.0, 5.1, 7.0, 72.32]), stand_features=DenseVector([1.2777, 1.1978, 1.9976, 2.2156, 2.2849, 5.3926]), prediction=2),\n",
       " Row(Session_Connection_Time=22.0, Bytes Transferred=101.61, Kali_Trace_Used=1, Servers_Corrupted=3.03, Pages_Corrupted=7.0, Location='Timor-Leste', WPM_Typing_Speed=72.03, features=DenseVector([22.0, 101.61, 1.0, 3.03, 7.0, 72.03]), stand_features=DenseVector([1.5616, 0.3549, 1.9976, 1.3163, 2.2849, 5.3709]), prediction=2),\n",
       " Row(Session_Connection_Time=15.0, Bytes Transferred=275.53, Kali_Trace_Used=1, Servers_Corrupted=3.53, Pages_Corrupted=8.0, Location='Palestinian Territory', WPM_Typing_Speed=70.17, features=DenseVector([15.0, 275.53, 1.0, 3.53, 8.0, 70.17]), stand_features=DenseVector([1.0647, 0.9623, 1.9976, 1.5335, 2.6114, 5.2322]), prediction=2),\n",
       " Row(Session_Connection_Time=12.0, Bytes Transferred=424.83, Kali_Trace_Used=1, Servers_Corrupted=2.53, Pages_Corrupted=8.0, Location='Bangladesh', WPM_Typing_Speed=69.99, features=DenseVector([12.0, 424.83, 1.0, 2.53, 8.0, 69.99]), stand_features=DenseVector([0.8518, 1.4837, 1.9976, 1.0991, 2.6114, 5.2188]), prediction=2)]"
      ]
     },
     "execution_count": 63,
     "metadata": {},
     "output_type": "execute_result"
    }
   ],
   "source": [
    "dupa.head(10)"
   ]
  },
  {
   "cell_type": "code",
   "execution_count": 62,
   "id": "07d8922f",
   "metadata": {},
   "outputs": [
    {
     "data": {
      "text/plain": [
       "['Session_Connection_Time',\n",
       " 'Bytes Transferred',\n",
       " 'Kali_Trace_Used',\n",
       " 'Servers_Corrupted',\n",
       " 'Pages_Corrupted',\n",
       " 'Location',\n",
       " 'WPM_Typing_Speed',\n",
       " 'features',\n",
       " 'stand_features',\n",
       " 'prediction']"
      ]
     },
     "execution_count": 62,
     "metadata": {},
     "output_type": "execute_result"
    }
   ],
   "source": [
    "dupa.columns"
   ]
  },
  {
   "cell_type": "code",
   "execution_count": 64,
   "id": "406725ac",
   "metadata": {},
   "outputs": [
    {
     "ename": "NameError",
     "evalue": "name 'StructType' is not defined",
     "output_type": "error",
     "traceback": [
      "\u001b[1;31m---------------------------------------------------------------------------\u001b[0m",
      "\u001b[1;31mNameError\u001b[0m                                 Traceback (most recent call last)",
      "Cell \u001b[1;32mIn[64], line 1\u001b[0m\n\u001b[1;32m----> 1\u001b[0m schema \u001b[38;5;241m=\u001b[39m StructType([\n\u001b[0;32m      2\u001b[0m     StructField(\u001b[38;5;124m\"\u001b[39m\u001b[38;5;124mSession_Connection_Time\u001b[39m\u001b[38;5;124m\"\u001b[39m, DoubleType(), \u001b[38;5;28;01mTrue\u001b[39;00m),\n\u001b[0;32m      3\u001b[0m     StructField(\u001b[38;5;124m\"\u001b[39m\u001b[38;5;124mBytes Transferred\u001b[39m\u001b[38;5;124m\"\u001b[39m, DoubleType(), \u001b[38;5;28;01mTrue\u001b[39;00m),\n\u001b[0;32m      4\u001b[0m     StructField(\u001b[38;5;124m\"\u001b[39m\u001b[38;5;124mKali_Trace_Used\u001b[39m\u001b[38;5;124m\"\u001b[39m, IntegerType(), \u001b[38;5;28;01mTrue\u001b[39;00m),\n\u001b[0;32m      5\u001b[0m     StructField(\u001b[38;5;124m\"\u001b[39m\u001b[38;5;124mServers_Corrupted\u001b[39m\u001b[38;5;124m\"\u001b[39m, DoubleType(), \u001b[38;5;28;01mTrue\u001b[39;00m),\n\u001b[0;32m      6\u001b[0m     StructField(\u001b[38;5;124m\"\u001b[39m\u001b[38;5;124mPages_Corrupted\u001b[39m\u001b[38;5;124m\"\u001b[39m, DoubleType(), \u001b[38;5;28;01mTrue\u001b[39;00m),\n\u001b[0;32m      7\u001b[0m     StructField(\u001b[38;5;124m\"\u001b[39m\u001b[38;5;124mLocation\u001b[39m\u001b[38;5;124m\"\u001b[39m, StringType(), \u001b[38;5;28;01mTrue\u001b[39;00m),\n\u001b[0;32m      8\u001b[0m     StructField(\u001b[38;5;124m\"\u001b[39m\u001b[38;5;124mWPM_Typing_Speed\u001b[39m\u001b[38;5;124m\"\u001b[39m, DoubleType(), \u001b[38;5;28;01mTrue\u001b[39;00m),\n\u001b[0;32m      9\u001b[0m     StructField(\u001b[38;5;124m\"\u001b[39m\u001b[38;5;124mfeatures\u001b[39m\u001b[38;5;124m\"\u001b[39m, StringType(), \u001b[38;5;28;01mTrue\u001b[39;00m),\n\u001b[0;32m     10\u001b[0m     StructField(\u001b[38;5;124m\"\u001b[39m\u001b[38;5;124mstand_features\u001b[39m\u001b[38;5;124m\"\u001b[39m, StringType(), \u001b[38;5;28;01mTrue\u001b[39;00m),\n\u001b[0;32m     11\u001b[0m     StructField(\u001b[38;5;124m\"\u001b[39m\u001b[38;5;124mprediction\u001b[39m\u001b[38;5;124m\"\u001b[39m, IntegerType(), \u001b[38;5;28;01mTrue\u001b[39;00m)\n\u001b[0;32m     12\u001b[0m ])\n",
      "\u001b[1;31mNameError\u001b[0m: name 'StructType' is not defined"
     ]
    }
   ],
   "source": [
    "schema = StructType([\n",
    "    StructField(\"Session_Connection_Time\", DoubleType(), True),\n",
    "    StructField(\"Bytes Transferred\", DoubleType(), True),\n",
    "    StructField(\"Kali_Trace_Used\", IntegerType(), True),\n",
    "    StructField(\"Servers_Corrupted\", DoubleType(), True),\n",
    "    StructField(\"Pages_Corrupted\", DoubleType(), True),\n",
    "    StructField(\"Location\", StringType(), True),\n",
    "    StructField(\"WPM_Typing_Speed\", DoubleType(), True),\n",
    "    StructField(\"features\", StringType(), True),\n",
    "    StructField(\"stand_features\", StringType(), True),\n",
    "    StructField(\"prediction\", IntegerType(), True)\n",
    "])"
   ]
  },
  {
   "cell_type": "code",
   "execution_count": 65,
   "id": "d7d5f1f0",
   "metadata": {},
   "outputs": [],
   "source": [
    "from pyspark.sql.types import StructType, StructField, DoubleType, IntegerType, StringType"
   ]
  },
  {
   "cell_type": "code",
   "execution_count": 66,
   "id": "f12da879",
   "metadata": {},
   "outputs": [],
   "source": [
    "schema = StructType([\n",
    "    StructField(\"Session_Connection_Time\", DoubleType(), True),\n",
    "    StructField(\"Bytes Transferred\", DoubleType(), True),\n",
    "    StructField(\"Kali_Trace_Used\", IntegerType(), True),\n",
    "    StructField(\"Servers_Corrupted\", DoubleType(), True),\n",
    "    StructField(\"Pages_Corrupted\", DoubleType(), True),\n",
    "    StructField(\"Location\", StringType(), True),\n",
    "    StructField(\"WPM_Typing_Speed\", DoubleType(), True),\n",
    "    StructField(\"features\", StringType(), True),\n",
    "    StructField(\"stand_features\", StringType(), True),\n",
    "    StructField(\"prediction\", IntegerType(), True)\n",
    "])"
   ]
  },
  {
   "cell_type": "code",
   "execution_count": 67,
   "id": "a9e25ba2",
   "metadata": {},
   "outputs": [
    {
     "ename": "PySparkTypeError",
     "evalue": "[SHOULD_NOT_DATAFRAME] Argument `data` should not be a DataFrame.",
     "output_type": "error",
     "traceback": [
      "\u001b[1;31m---------------------------------------------------------------------------\u001b[0m",
      "\u001b[1;31mPySparkTypeError\u001b[0m                          Traceback (most recent call last)",
      "Cell \u001b[1;32mIn[67], line 1\u001b[0m\n\u001b[1;32m----> 1\u001b[0m df \u001b[38;5;241m=\u001b[39m spark\u001b[38;5;241m.\u001b[39mcreateDataFrame(dupa, schema)\n",
      "File \u001b[1;32m~\\anaconda3\\envs\\pandas_playground\\Lib\\site-packages\\pyspark\\sql\\session.py:1385\u001b[0m, in \u001b[0;36mSparkSession.createDataFrame\u001b[1;34m(self, data, schema, samplingRatio, verifySchema)\u001b[0m\n\u001b[0;32m   1383\u001b[0m \u001b[38;5;28mself\u001b[39m\u001b[38;5;241m.\u001b[39m_jvm\u001b[38;5;241m.\u001b[39mSparkSession\u001b[38;5;241m.\u001b[39msetActiveSession(\u001b[38;5;28mself\u001b[39m\u001b[38;5;241m.\u001b[39m_jsparkSession)\n\u001b[0;32m   1384\u001b[0m \u001b[38;5;28;01mif\u001b[39;00m \u001b[38;5;28misinstance\u001b[39m(data, DataFrame):\n\u001b[1;32m-> 1385\u001b[0m     \u001b[38;5;28;01mraise\u001b[39;00m PySparkTypeError(\n\u001b[0;32m   1386\u001b[0m         error_class\u001b[38;5;241m=\u001b[39m\u001b[38;5;124m\"\u001b[39m\u001b[38;5;124mSHOULD_NOT_DATAFRAME\u001b[39m\u001b[38;5;124m\"\u001b[39m,\n\u001b[0;32m   1387\u001b[0m         message_parameters\u001b[38;5;241m=\u001b[39m{\u001b[38;5;124m\"\u001b[39m\u001b[38;5;124marg_name\u001b[39m\u001b[38;5;124m\"\u001b[39m: \u001b[38;5;124m\"\u001b[39m\u001b[38;5;124mdata\u001b[39m\u001b[38;5;124m\"\u001b[39m},\n\u001b[0;32m   1388\u001b[0m     )\n\u001b[0;32m   1390\u001b[0m \u001b[38;5;28;01mif\u001b[39;00m \u001b[38;5;28misinstance\u001b[39m(schema, \u001b[38;5;28mstr\u001b[39m):\n\u001b[0;32m   1391\u001b[0m     schema \u001b[38;5;241m=\u001b[39m cast(Union[AtomicType, StructType, \u001b[38;5;28mstr\u001b[39m], _parse_datatype_string(schema))\n",
      "\u001b[1;31mPySparkTypeError\u001b[0m: [SHOULD_NOT_DATAFRAME] Argument `data` should not be a DataFrame."
     ]
    }
   ],
   "source": [
    "df = spark.createDataFrame(dupa, schema)"
   ]
  },
  {
   "cell_type": "code",
   "execution_count": 70,
   "id": "15932d96",
   "metadata": {},
   "outputs": [
    {
     "name": "stdout",
     "output_type": "stream",
     "text": [
      "+----------+-----+\n",
      "|prediction|count|\n",
      "+----------+-----+\n",
      "|         1|   84|\n",
      "|         2|   83|\n",
      "|         0|  167|\n",
      "+----------+-----+\n",
      "\n"
     ]
    }
   ],
   "source": [
    "dupa.groupBy('prediction').count().show()"
   ]
  },
  {
   "cell_type": "code",
   "execution_count": null,
   "id": "42c1e7a1",
   "metadata": {},
   "outputs": [],
   "source": []
  }
 ],
 "metadata": {
  "kernelspec": {
   "display_name": "Python 3 (ipykernel)",
   "language": "python",
   "name": "python3"
  },
  "language_info": {
   "codemirror_mode": {
    "name": "ipython",
    "version": 3
   },
   "file_extension": ".py",
   "mimetype": "text/x-python",
   "name": "python",
   "nbconvert_exporter": "python",
   "pygments_lexer": "ipython3",
   "version": "3.11.5"
  }
 },
 "nbformat": 4,
 "nbformat_minor": 5
}
