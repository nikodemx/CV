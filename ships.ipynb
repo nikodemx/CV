{
 "cells": [
  {
   "cell_type": "code",
   "execution_count": 1,
   "id": "701091c5",
   "metadata": {},
   "outputs": [],
   "source": [
    "from pyspark.sql import SparkSession"
   ]
  },
  {
   "cell_type": "code",
   "execution_count": 2,
   "id": "c19cb095",
   "metadata": {},
   "outputs": [],
   "source": [
    "spark = SparkSession.builder.appName('cruise').getOrCreate()"
   ]
  },
  {
   "cell_type": "code",
   "execution_count": 3,
   "id": "4a96096a",
   "metadata": {},
   "outputs": [],
   "source": [
    "data = spark.read.csv(r\"C:\\Users\\Asus\\Desktop\\studia big data\\Python-and-Spark-for-Big-Data-master\\Spark_for_Machine_Learning\\Linear_Regression\\cruise_ship_info.csv\", inferSchema= True, header = True)"
   ]
  },
  {
   "cell_type": "code",
   "execution_count": 4,
   "id": "705ce9d7",
   "metadata": {},
   "outputs": [
    {
     "data": {
      "text/plain": [
       "<bound method DataFrame.printSchema of DataFrame[Ship_name: string, Cruise_line: string, Age: int, Tonnage: double, passengers: double, length: double, cabins: double, passenger_density: double, crew: double]>"
      ]
     },
     "execution_count": 4,
     "metadata": {},
     "output_type": "execute_result"
    }
   ],
   "source": [
    "data.printSchema"
   ]
  },
  {
   "cell_type": "code",
   "execution_count": 5,
   "id": "71849a35",
   "metadata": {},
   "outputs": [
    {
     "data": {
      "text/plain": [
       "['Ship_name',\n",
       " 'Cruise_line',\n",
       " 'Age',\n",
       " 'Tonnage',\n",
       " 'passengers',\n",
       " 'length',\n",
       " 'cabins',\n",
       " 'passenger_density',\n",
       " 'crew']"
      ]
     },
     "execution_count": 5,
     "metadata": {},
     "output_type": "execute_result"
    }
   ],
   "source": [
    "data.columns"
   ]
  },
  {
   "cell_type": "code",
   "execution_count": 6,
   "id": "9bda24e1",
   "metadata": {},
   "outputs": [],
   "source": [
    "data_pandas = data.select('Age',\n",
    " 'Tonnage',\n",
    " 'passengers',\n",
    " 'length',\n",
    " 'cabins',\n",
    " 'passenger_density',\n",
    " 'crew')"
   ]
  },
  {
   "cell_type": "code",
   "execution_count": 7,
   "id": "032cf1c5",
   "metadata": {},
   "outputs": [],
   "source": [
    "data_pandas1 = data_pandas.toPandas()"
   ]
  },
  {
   "cell_type": "code",
   "execution_count": 8,
   "id": "75799bd1",
   "metadata": {},
   "outputs": [],
   "source": [
    "from pyspark.ml.feature import VectorAssembler"
   ]
  },
  {
   "cell_type": "code",
   "execution_count": 9,
   "id": "cc3950e8",
   "metadata": {},
   "outputs": [],
   "source": [
    "import statsmodels.formula.api as smf"
   ]
  },
  {
   "cell_type": "code",
   "execution_count": 10,
   "id": "f23f3322",
   "metadata": {},
   "outputs": [],
   "source": [
    "def forward_selection(data, response):\n",
    "    remaining = set(data.columns)\n",
    "    remaining.remove(response)\n",
    "    selected = []\n",
    "    current_score, best_new_score = float('inf'), float('inf')\n",
    "    while remaining and current_score == best_new_score:\n",
    "        scores_with_candidates = []\n",
    "        for candidate in remaining:\n",
    "            formula = \"{} ~ {}\".format(response, ' + '.join(selected + [candidate]))\n",
    "            score = smf.ols(formula, data).fit().aic\n",
    "            scores_with_candidates.append((score, candidate))\n",
    "        scores_with_candidates.sort()\n",
    "        best_new_score, best_candidate = scores_with_candidates.pop(0)\n",
    "        if current_score > best_new_score:\n",
    "            remaining.remove(best_candidate)\n",
    "            selected.append(best_candidate)\n",
    "            current_score = best_new_score\n",
    "    formula = \"{} ~ {}\".format(response, ' + '.join(selected))\n",
    "    model = smf.ols(formula, data).fit()\n",
    "    return model, selected\n",
    "model, selected_columns = forward_selection(data_pandas1, 'crew')"
   ]
  },
  {
   "cell_type": "code",
   "execution_count": 11,
   "id": "42a8ba34",
   "metadata": {},
   "outputs": [
    {
     "data": {
      "text/html": [
       "<table class=\"simpletable\">\n",
       "<caption>OLS Regression Results</caption>\n",
       "<tr>\n",
       "  <th>Dep. Variable:</th>          <td>crew</td>       <th>  R-squared:         </th> <td>   0.924</td>\n",
       "</tr>\n",
       "<tr>\n",
       "  <th>Model:</th>                   <td>OLS</td>       <th>  Adj. R-squared:    </th> <td>   0.922</td>\n",
       "</tr>\n",
       "<tr>\n",
       "  <th>Method:</th>             <td>Least Squares</td>  <th>  F-statistic:       </th> <td>   465.3</td>\n",
       "</tr>\n",
       "<tr>\n",
       "  <th>Date:</th>             <td>Mon, 15 Apr 2024</td> <th>  Prob (F-statistic):</th> <td>1.67e-84</td>\n",
       "</tr>\n",
       "<tr>\n",
       "  <th>Time:</th>                 <td>14:34:10</td>     <th>  Log-Likelihood:    </th> <td> -218.16</td>\n",
       "</tr>\n",
       "<tr>\n",
       "  <th>No. Observations:</th>      <td>   158</td>      <th>  AIC:               </th> <td>   446.3</td>\n",
       "</tr>\n",
       "<tr>\n",
       "  <th>Df Residuals:</th>          <td>   153</td>      <th>  BIC:               </th> <td>   461.6</td>\n",
       "</tr>\n",
       "<tr>\n",
       "  <th>Df Model:</th>              <td>     4</td>      <th>                     </th>     <td> </td>   \n",
       "</tr>\n",
       "<tr>\n",
       "  <th>Covariance Type:</th>      <td>nonrobust</td>    <th>                     </th>     <td> </td>   \n",
       "</tr>\n",
       "</table>\n",
       "<table class=\"simpletable\">\n",
       "<tr>\n",
       "       <td></td>         <th>coef</th>     <th>std err</th>      <th>t</th>      <th>P>|t|</th>  <th>[0.025</th>    <th>0.975]</th>  \n",
       "</tr>\n",
       "<tr>\n",
       "  <th>Intercept</th>  <td>   -0.8187</td> <td>    0.585</td> <td>   -1.400</td> <td> 0.164</td> <td>   -1.974</td> <td>    0.337</td>\n",
       "</tr>\n",
       "<tr>\n",
       "  <th>cabins</th>     <td>    0.7908</td> <td>    0.087</td> <td>    9.079</td> <td> 0.000</td> <td>    0.619</td> <td>    0.963</td>\n",
       "</tr>\n",
       "<tr>\n",
       "  <th>length</th>     <td>    0.3976</td> <td>    0.113</td> <td>    3.503</td> <td> 0.001</td> <td>    0.173</td> <td>    0.622</td>\n",
       "</tr>\n",
       "<tr>\n",
       "  <th>passengers</th> <td>   -0.1499</td> <td>    0.039</td> <td>   -3.863</td> <td> 0.000</td> <td>   -0.226</td> <td>   -0.073</td>\n",
       "</tr>\n",
       "<tr>\n",
       "  <th>Tonnage</th>    <td>    0.0163</td> <td>    0.008</td> <td>    2.010</td> <td> 0.046</td> <td>    0.000</td> <td>    0.032</td>\n",
       "</tr>\n",
       "</table>\n",
       "<table class=\"simpletable\">\n",
       "<tr>\n",
       "  <th>Omnibus:</th>       <td>140.703</td> <th>  Durbin-Watson:     </th> <td>   1.829</td>\n",
       "</tr>\n",
       "<tr>\n",
       "  <th>Prob(Omnibus):</th> <td> 0.000</td>  <th>  Jarque-Bera (JB):  </th> <td>2601.251</td>\n",
       "</tr>\n",
       "<tr>\n",
       "  <th>Skew:</th>          <td> 3.098</td>  <th>  Prob(JB):          </th> <td>    0.00</td>\n",
       "</tr>\n",
       "<tr>\n",
       "  <th>Kurtosis:</th>      <td>21.888</td>  <th>  Cond. No.          </th> <td>    642.</td>\n",
       "</tr>\n",
       "</table><br/><br/>Notes:<br/>[1] Standard Errors assume that the covariance matrix of the errors is correctly specified."
      ],
      "text/latex": [
       "\\begin{center}\n",
       "\\begin{tabular}{lclc}\n",
       "\\toprule\n",
       "\\textbf{Dep. Variable:}    &       crew       & \\textbf{  R-squared:         } &     0.924   \\\\\n",
       "\\textbf{Model:}            &       OLS        & \\textbf{  Adj. R-squared:    } &     0.922   \\\\\n",
       "\\textbf{Method:}           &  Least Squares   & \\textbf{  F-statistic:       } &     465.3   \\\\\n",
       "\\textbf{Date:}             & Mon, 15 Apr 2024 & \\textbf{  Prob (F-statistic):} &  1.67e-84   \\\\\n",
       "\\textbf{Time:}             &     14:34:10     & \\textbf{  Log-Likelihood:    } &   -218.16   \\\\\n",
       "\\textbf{No. Observations:} &         158      & \\textbf{  AIC:               } &     446.3   \\\\\n",
       "\\textbf{Df Residuals:}     &         153      & \\textbf{  BIC:               } &     461.6   \\\\\n",
       "\\textbf{Df Model:}         &           4      & \\textbf{                     } &             \\\\\n",
       "\\textbf{Covariance Type:}  &    nonrobust     & \\textbf{                     } &             \\\\\n",
       "\\bottomrule\n",
       "\\end{tabular}\n",
       "\\begin{tabular}{lcccccc}\n",
       "                    & \\textbf{coef} & \\textbf{std err} & \\textbf{t} & \\textbf{P$> |$t$|$} & \\textbf{[0.025} & \\textbf{0.975]}  \\\\\n",
       "\\midrule\n",
       "\\textbf{Intercept}  &      -0.8187  &        0.585     &    -1.400  &         0.164        &       -1.974    &        0.337     \\\\\n",
       "\\textbf{cabins}     &       0.7908  &        0.087     &     9.079  &         0.000        &        0.619    &        0.963     \\\\\n",
       "\\textbf{length}     &       0.3976  &        0.113     &     3.503  &         0.001        &        0.173    &        0.622     \\\\\n",
       "\\textbf{passengers} &      -0.1499  &        0.039     &    -3.863  &         0.000        &       -0.226    &       -0.073     \\\\\n",
       "\\textbf{Tonnage}    &       0.0163  &        0.008     &     2.010  &         0.046        &        0.000    &        0.032     \\\\\n",
       "\\bottomrule\n",
       "\\end{tabular}\n",
       "\\begin{tabular}{lclc}\n",
       "\\textbf{Omnibus:}       & 140.703 & \\textbf{  Durbin-Watson:     } &    1.829  \\\\\n",
       "\\textbf{Prob(Omnibus):} &   0.000 & \\textbf{  Jarque-Bera (JB):  } & 2601.251  \\\\\n",
       "\\textbf{Skew:}          &   3.098 & \\textbf{  Prob(JB):          } &     0.00  \\\\\n",
       "\\textbf{Kurtosis:}      &  21.888 & \\textbf{  Cond. No.          } &     642.  \\\\\n",
       "\\bottomrule\n",
       "\\end{tabular}\n",
       "%\\caption{OLS Regression Results}\n",
       "\\end{center}\n",
       "\n",
       "Notes: \\newline\n",
       " [1] Standard Errors assume that the covariance matrix of the errors is correctly specified."
      ],
      "text/plain": [
       "<class 'statsmodels.iolib.summary.Summary'>\n",
       "\"\"\"\n",
       "                            OLS Regression Results                            \n",
       "==============================================================================\n",
       "Dep. Variable:                   crew   R-squared:                       0.924\n",
       "Model:                            OLS   Adj. R-squared:                  0.922\n",
       "Method:                 Least Squares   F-statistic:                     465.3\n",
       "Date:                Mon, 15 Apr 2024   Prob (F-statistic):           1.67e-84\n",
       "Time:                        14:34:10   Log-Likelihood:                -218.16\n",
       "No. Observations:                 158   AIC:                             446.3\n",
       "Df Residuals:                     153   BIC:                             461.6\n",
       "Df Model:                           4                                         \n",
       "Covariance Type:            nonrobust                                         \n",
       "==============================================================================\n",
       "                 coef    std err          t      P>|t|      [0.025      0.975]\n",
       "------------------------------------------------------------------------------\n",
       "Intercept     -0.8187      0.585     -1.400      0.164      -1.974       0.337\n",
       "cabins         0.7908      0.087      9.079      0.000       0.619       0.963\n",
       "length         0.3976      0.113      3.503      0.001       0.173       0.622\n",
       "passengers    -0.1499      0.039     -3.863      0.000      -0.226      -0.073\n",
       "Tonnage        0.0163      0.008      2.010      0.046       0.000       0.032\n",
       "==============================================================================\n",
       "Omnibus:                      140.703   Durbin-Watson:                   1.829\n",
       "Prob(Omnibus):                  0.000   Jarque-Bera (JB):             2601.251\n",
       "Skew:                           3.098   Prob(JB):                         0.00\n",
       "Kurtosis:                      21.888   Cond. No.                         642.\n",
       "==============================================================================\n",
       "\n",
       "Notes:\n",
       "[1] Standard Errors assume that the covariance matrix of the errors is correctly specified.\n",
       "\"\"\""
      ]
     },
     "execution_count": 11,
     "metadata": {},
     "output_type": "execute_result"
    }
   ],
   "source": [
    "model.summary()"
   ]
  },
  {
   "cell_type": "code",
   "execution_count": 12,
   "id": "ae4cff99",
   "metadata": {},
   "outputs": [],
   "source": [
    "assembler = VectorAssembler(inputCols=['Age',\n",
    " 'Tonnage',\n",
    " 'passengers',\n",
    " 'length',\n",
    " 'cabins',\n",
    " 'passenger_density',\n",
    " 'crew'], outputCol='features')"
   ]
  },
  {
   "cell_type": "code",
   "execution_count": 13,
   "id": "17c48283",
   "metadata": {},
   "outputs": [],
   "source": [
    "op = assembler.transform(data)"
   ]
  },
  {
   "cell_type": "code",
   "execution_count": 14,
   "id": "f0a9fceb",
   "metadata": {},
   "outputs": [],
   "source": [
    "model = op.select('features', 'crew')"
   ]
  },
  {
   "cell_type": "code",
   "execution_count": 15,
   "id": "ac9d3dc3",
   "metadata": {},
   "outputs": [],
   "source": [
    "from pyspark.ml.regression import LinearRegression"
   ]
  },
  {
   "cell_type": "code",
   "execution_count": 16,
   "id": "9ea6c8be",
   "metadata": {},
   "outputs": [],
   "source": [
    "lr = LinearRegression(labelCol='crew', featuresCol='features')"
   ]
  },
  {
   "cell_type": "code",
   "execution_count": 17,
   "id": "974ee7d2",
   "metadata": {},
   "outputs": [],
   "source": [
    "train_data, test_data = model.randomSplit([0.7, 0.3])"
   ]
  },
  {
   "cell_type": "code",
   "execution_count": 18,
   "id": "163fd5bf",
   "metadata": {},
   "outputs": [],
   "source": [
    "model_lr = lr.fit(train_data)"
   ]
  },
  {
   "cell_type": "code",
   "execution_count": 19,
   "id": "023b7932",
   "metadata": {},
   "outputs": [],
   "source": [
    "eva = model_lr.transform(test_data)"
   ]
  },
  {
   "cell_type": "code",
   "execution_count": 21,
   "id": "3bb10573",
   "metadata": {},
   "outputs": [
    {
     "name": "stdout",
     "output_type": "stream",
     "text": [
      "+--------------------+-----+------------------+\n",
      "|            features| crew|        prediction|\n",
      "+--------------------+-----+------------------+\n",
      "|[4.0,220.0,54.0,1...| 21.0|              21.0|\n",
      "|[5.0,160.0,36.34,...| 13.6|13.600000000000014|\n",
      "|[6.0,110.23899999...| 11.5|11.499999999999996|\n",
      "|[6.0,112.0,38.0,9...| 10.9|10.900000000000002|\n",
      "|[8.0,77.499,19.5,...|  9.0| 8.999999999999998|\n",
      "|[9.0,59.058,17.0,...|  7.4|               7.4|\n",
      "|[9.0,85.0,19.68,9...| 8.69| 8.690000000000005|\n",
      "|[9.0,90.09,25.01,...| 8.69| 8.690000000000005|\n",
      "|[9.0,113.0,26.74,...|12.38|12.379999999999995|\n",
      "|[10.0,68.0,10.8,7...| 6.36| 6.360000000000001|\n",
      "|[10.0,91.62700000...|  9.0| 9.000000000000005|\n",
      "|[10.0,105.0,27.2,...|10.68|10.680000000000005|\n",
      "|[10.0,110.0,29.74...| 11.6|11.600000000000005|\n",
      "|[10.0,138.0,31.14...|11.85|11.850000000000012|\n",
      "|[11.0,91.0,20.32,...| 9.99| 9.989999999999997|\n",
      "|[11.0,91.62700000...|  9.0| 9.000000000000005|\n",
      "|[11.0,108.977,26....| 12.0|11.999999999999995|\n",
      "|[12.0,50.0,7.0,7....| 4.45| 4.450000000000003|\n",
      "|[12.0,58.6,15.66,...|  7.0| 7.000000000000002|\n",
      "|[12.0,88.5,21.24,...|10.29|10.289999999999996|\n",
      "+--------------------+-----+------------------+\n",
      "only showing top 20 rows\n",
      "\n"
     ]
    }
   ],
   "source": [
    "eva.show()"
   ]
  },
  {
   "cell_type": "code",
   "execution_count": null,
   "id": "aff40964",
   "metadata": {},
   "outputs": [],
   "source": []
  }
 ],
 "metadata": {
  "kernelspec": {
   "display_name": "Python 3 (ipykernel)",
   "language": "python",
   "name": "python3"
  },
  "language_info": {
   "codemirror_mode": {
    "name": "ipython",
    "version": 3
   },
   "file_extension": ".py",
   "mimetype": "text/x-python",
   "name": "python",
   "nbconvert_exporter": "python",
   "pygments_lexer": "ipython3",
   "version": "3.11.5"
  }
 },
 "nbformat": 4,
 "nbformat_minor": 5
}
