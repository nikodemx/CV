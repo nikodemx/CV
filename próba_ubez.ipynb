{
 "cells": [
  {
   "cell_type": "code",
   "execution_count": 1,
   "id": "d51724d9",
   "metadata": {},
   "outputs": [],
   "source": [
    "from pyspark.sql import SparkSession"
   ]
  },
  {
   "cell_type": "code",
   "execution_count": 2,
   "id": "d695191a",
   "metadata": {},
   "outputs": [],
   "source": [
    "spark = SparkSession.builder.appName('predykcja').getOrCreate()"
   ]
  },
  {
   "cell_type": "code",
   "execution_count": 3,
   "id": "6a891e7d",
   "metadata": {},
   "outputs": [],
   "source": [
    "data = spark.read.csv(r\"C:\\Users\\Asus\\Downloads\\train_student.csv\", inferSchema = True, header=True)"
   ]
  },
  {
   "cell_type": "code",
   "execution_count": 25,
   "id": "e3e2482e",
   "metadata": {},
   "outputs": [
    {
     "ename": "TypeError",
     "evalue": "unsupported operand type(s) for -: 'DataFrame' and 'DataFrame'",
     "output_type": "error",
     "traceback": [
      "\u001b[1;31m---------------------------------------------------------------------------\u001b[0m",
      "\u001b[1;31mTypeError\u001b[0m                                 Traceback (most recent call last)",
      "Cell \u001b[1;32mIn[25], line 8\u001b[0m\n\u001b[0;32m      5\u001b[0m y \u001b[38;5;241m=\u001b[39m data[\u001b[38;5;124m'\u001b[39m\u001b[38;5;124mNextAccident\u001b[39m\u001b[38;5;124m'\u001b[39m]\n\u001b[0;32m      7\u001b[0m \u001b[38;5;66;03m# Dodanie stałej do macierzy cech (jeśli chcesz ocenić istotność stałej)\u001b[39;00m\n\u001b[1;32m----> 8\u001b[0m X \u001b[38;5;241m=\u001b[39m sm\u001b[38;5;241m.\u001b[39madd_constant(X)\n\u001b[0;32m     10\u001b[0m \u001b[38;5;66;03m# Utworzenie modelu regresji logistycznej\u001b[39;00m\n\u001b[0;32m     11\u001b[0m model \u001b[38;5;241m=\u001b[39m sm\u001b[38;5;241m.\u001b[39mLogit(y, X)\n",
      "File \u001b[1;32m~\\anaconda3\\envs\\pandas_playground\\Lib\\site-packages\\statsmodels\\tools\\tools.py:195\u001b[0m, in \u001b[0;36madd_constant\u001b[1;34m(data, prepend, has_constant)\u001b[0m\n\u001b[0;32m    192\u001b[0m \u001b[38;5;28;01melif\u001b[39;00m x\u001b[38;5;241m.\u001b[39mndim \u001b[38;5;241m>\u001b[39m \u001b[38;5;241m2\u001b[39m:\n\u001b[0;32m    193\u001b[0m     \u001b[38;5;28;01mraise\u001b[39;00m \u001b[38;5;167;01mValueError\u001b[39;00m(\u001b[38;5;124m'\u001b[39m\u001b[38;5;124mOnly implemented for 2-dimensional arrays\u001b[39m\u001b[38;5;124m'\u001b[39m)\n\u001b[1;32m--> 195\u001b[0m is_nonzero_const \u001b[38;5;241m=\u001b[39m np\u001b[38;5;241m.\u001b[39mptp(x, axis\u001b[38;5;241m=\u001b[39m\u001b[38;5;241m0\u001b[39m) \u001b[38;5;241m==\u001b[39m \u001b[38;5;241m0\u001b[39m\n\u001b[0;32m    196\u001b[0m is_nonzero_const \u001b[38;5;241m&\u001b[39m\u001b[38;5;241m=\u001b[39m np\u001b[38;5;241m.\u001b[39mall(x \u001b[38;5;241m!=\u001b[39m \u001b[38;5;241m0.0\u001b[39m, axis\u001b[38;5;241m=\u001b[39m\u001b[38;5;241m0\u001b[39m)\n\u001b[0;32m    197\u001b[0m \u001b[38;5;28;01mif\u001b[39;00m is_nonzero_const\u001b[38;5;241m.\u001b[39many():\n",
      "File \u001b[1;32m~\\anaconda3\\envs\\pandas_playground\\Lib\\site-packages\\numpy\\core\\fromnumeric.py:2684\u001b[0m, in \u001b[0;36mptp\u001b[1;34m(a, axis, out, keepdims)\u001b[0m\n\u001b[0;32m   2682\u001b[0m     \u001b[38;5;28;01melse\u001b[39;00m:\n\u001b[0;32m   2683\u001b[0m         \u001b[38;5;28;01mreturn\u001b[39;00m ptp(axis\u001b[38;5;241m=\u001b[39maxis, out\u001b[38;5;241m=\u001b[39mout, \u001b[38;5;241m*\u001b[39m\u001b[38;5;241m*\u001b[39mkwargs)\n\u001b[1;32m-> 2684\u001b[0m \u001b[38;5;28;01mreturn\u001b[39;00m _methods\u001b[38;5;241m.\u001b[39m_ptp(a, axis\u001b[38;5;241m=\u001b[39maxis, out\u001b[38;5;241m=\u001b[39mout, \u001b[38;5;241m*\u001b[39m\u001b[38;5;241m*\u001b[39mkwargs)\n",
      "File \u001b[1;32m~\\anaconda3\\envs\\pandas_playground\\Lib\\site-packages\\numpy\\core\\_methods.py:219\u001b[0m, in \u001b[0;36m_ptp\u001b[1;34m(a, axis, out, keepdims)\u001b[0m\n\u001b[0;32m    218\u001b[0m \u001b[38;5;28;01mdef\u001b[39;00m \u001b[38;5;21m_ptp\u001b[39m(a, axis\u001b[38;5;241m=\u001b[39m\u001b[38;5;28;01mNone\u001b[39;00m, out\u001b[38;5;241m=\u001b[39m\u001b[38;5;28;01mNone\u001b[39;00m, keepdims\u001b[38;5;241m=\u001b[39m\u001b[38;5;28;01mFalse\u001b[39;00m):\n\u001b[1;32m--> 219\u001b[0m     \u001b[38;5;28;01mreturn\u001b[39;00m um\u001b[38;5;241m.\u001b[39msubtract(\n\u001b[0;32m    220\u001b[0m         umr_maximum(a, axis, \u001b[38;5;28;01mNone\u001b[39;00m, out, keepdims),\n\u001b[0;32m    221\u001b[0m         umr_minimum(a, axis, \u001b[38;5;28;01mNone\u001b[39;00m, \u001b[38;5;28;01mNone\u001b[39;00m, keepdims),\n\u001b[0;32m    222\u001b[0m         out\n\u001b[0;32m    223\u001b[0m     )\n",
      "\u001b[1;31mTypeError\u001b[0m: unsupported operand type(s) for -: 'DataFrame' and 'DataFrame'"
     ]
    }
   ],
   "source": [
    "import statsmodels.api as sm\n",
    "\n",
    "X = data['Sex', 'LicenseYear', 'CarBrand', 'CarType', 'CarEngine', 'EngineCap', 'CarValue', 'AssistanceYears', 'Accidents', 'Age', 'CarAge']\n",
    "y = data['NextAccident']\n",
    "\n",
    "\n",
    "X = sm.add_constant(X)\n",
    "\n",
    "\n",
    "model = sm.Logit(y, X)\n",
    "result = model.fit()\n",
    "result.summary()"
   ]
  },
  {
   "cell_type": "code",
   "execution_count": 5,
   "id": "56794c0e",
   "metadata": {},
   "outputs": [],
   "source": [
    "from pyspark.sql.functions import col, cast"
   ]
  },
  {
   "cell_type": "code",
   "execution_count": 9,
   "id": "66412865",
   "metadata": {},
   "outputs": [],
   "source": [
    "data = data.withColumn('Accidents', data['Accidents'].cast('int'))"
   ]
  },
  {
   "cell_type": "code",
   "execution_count": 7,
   "id": "9e34f6da",
   "metadata": {
    "scrolled": false
   },
   "outputs": [
    {
     "data": {
      "text/plain": [
       "<bound method DataFrame.printSchema of DataFrame[BirthYear: string, Sex: int, LicenseYear: double, CarBrand: int, CarType: int, CarYear: int, CarEngine: int, EngineCap: int, CarValue: int, AssistanceYears: double, Accidents: string, NextAccident: int]>"
      ]
     },
     "execution_count": 7,
     "metadata": {},
     "output_type": "execute_result"
    }
   ],
   "source": [
    "data.printSchema"
   ]
  },
  {
   "cell_type": "code",
   "execution_count": 7,
   "id": "2db4b5ca",
   "metadata": {
    "scrolled": false
   },
   "outputs": [
    {
     "data": {
      "text/plain": [
       "[Row(BirthYear='1987', Sex=0, LicenseYear=6.1642, CarBrand=9, CarType=4, CarYear=2012, CarEngine=1782, EngineCap='124', CarValue=61400, AssistanceYears=1.3328, Accidents=0, NextAccident=1),\n",
       " Row(BirthYear='1976', Sex=1, LicenseYear=11.4121, CarBrand=3, CarType=2, CarYear=2012, CarEngine=1246, EngineCap='147', CarValue=60250, AssistanceYears=2.6656, Accidents=0, NextAccident=0),\n",
       " Row(BirthYear='1970', Sex=1, LicenseYear=15.7437, CarBrand=3, CarType=2, CarYear=2013, CarEngine=1318, EngineCap='120', CarValue=61200, AssistanceYears=12.5783, Accidents=0, NextAccident=0),\n",
       " Row(BirthYear='1976', Sex=0, LicenseYear=23.0741, CarBrand=8, CarType=1, CarYear=1998, CarEngine=1766, EngineCap='NA', CarValue=33600, AssistanceYears=14.161, Accidents=1, NextAccident=0),\n",
       " Row(BirthYear='1954', Sex=0, LicenseYear=12.3284, CarBrand=3, CarType=1, CarYear=2013, CarEngine=1908, EngineCap='184', CarValue=44450, AssistanceYears=11.662, Accidents=None, NextAccident=0)]"
      ]
     },
     "execution_count": 7,
     "metadata": {},
     "output_type": "execute_result"
    }
   ],
   "source": [
    "data.head(5)"
   ]
  },
  {
   "cell_type": "code",
   "execution_count": 11,
   "id": "53f6c267",
   "metadata": {},
   "outputs": [],
   "source": [
    "columns = ['BirthYear',\n",
    " 'Sex',\n",
    " 'LicenseYear',\n",
    " 'CarBrand',\n",
    " 'CarType',\n",
    " 'CarYear',\n",
    " 'CarEngine',\n",
    " 'EngineCap',\n",
    " 'CarValue',\n",
    " 'AssistanceYears',\n",
    " 'Accidents',\n",
    " 'NextAccident']"
   ]
  },
  {
   "cell_type": "code",
   "execution_count": 15,
   "id": "df0c056e",
   "metadata": {},
   "outputs": [],
   "source": [
    "import statsmodels.api as sm"
   ]
  },
  {
   "cell_type": "code",
   "execution_count": null,
   "id": "4d9014b0",
   "metadata": {},
   "outputs": [],
   "source": []
  },
  {
   "cell_type": "code",
   "execution_count": 12,
   "id": "c33f8451",
   "metadata": {},
   "outputs": [],
   "source": [
    "from pyspark.ml.feature import Imputer"
   ]
  },
  {
   "cell_type": "code",
   "execution_count": 13,
   "id": "d3c46af8",
   "metadata": {},
   "outputs": [],
   "source": [
    "for column in columns:\n",
    "    imputer = Imputer(inputCols=[column], outputCols=[column])\n",
    "    model = imputer.fit(data)\n",
    "    data = model.transform(data)"
   ]
  },
  {
   "cell_type": "code",
   "execution_count": 14,
   "id": "6e2ceda1",
   "metadata": {},
   "outputs": [],
   "source": [
    "current = 2024\n",
    "data = data.withColumn('Age', current - col('BirthYear'))"
   ]
  },
  {
   "cell_type": "code",
   "execution_count": 15,
   "id": "85ad01ba",
   "metadata": {},
   "outputs": [],
   "source": [
    "data = data.withColumn('CarAge', current - col('CarYear'))"
   ]
  },
  {
   "cell_type": "code",
   "execution_count": 23,
   "id": "e922336a",
   "metadata": {},
   "outputs": [],
   "source": [
    "data = data.drop('CarYear')"
   ]
  },
  {
   "cell_type": "code",
   "execution_count": 27,
   "id": "6c30318c",
   "metadata": {},
   "outputs": [],
   "source": [
    "train_set, test_set = data.randomSplit([0.7, 0.3])"
   ]
  },
  {
   "cell_type": "code",
   "execution_count": 28,
   "id": "f8b9ecde",
   "metadata": {},
   "outputs": [],
   "source": [
    "from pyspark.ml.classification import LogisticRegression"
   ]
  },
  {
   "cell_type": "code",
   "execution_count": 29,
   "id": "a5633693",
   "metadata": {},
   "outputs": [],
   "source": [
    "from pyspark.ml.feature import VectorAssembler"
   ]
  },
  {
   "cell_type": "code",
   "execution_count": 24,
   "id": "4d185212",
   "metadata": {},
   "outputs": [
    {
     "data": {
      "text/plain": [
       "DataFrame[Sex: int, LicenseYear: double, CarBrand: int, CarType: int, CarEngine: int, EngineCap: int, CarValue: int, AssistanceYears: double, Accidents: int, NextAccident: int, Age: int, CarAge: int]"
      ]
     },
     "execution_count": 24,
     "metadata": {},
     "output_type": "execute_result"
    }
   ],
   "source": [
    "data"
   ]
  },
  {
   "cell_type": "code",
   "execution_count": 31,
   "id": "141958e2",
   "metadata": {},
   "outputs": [],
   "source": [
    "from pyspark.ml.stat import Correlation"
   ]
  },
  {
   "cell_type": "code",
   "execution_count": null,
   "id": "ba1c055d",
   "metadata": {},
   "outputs": [],
   "source": []
  },
  {
   "cell_type": "code",
   "execution_count": 36,
   "id": "45f69051",
   "metadata": {},
   "outputs": [],
   "source": [
    "assembler = VectorAssembler(inputCols=[\n",
    " 'LicenseYear',\n",
    "'CarEngine',\n",
    "'EngineCap',\n",
    "'CarValue'], outputCol='features')"
   ]
  },
  {
   "cell_type": "code",
   "execution_count": 52,
   "id": "163d1669",
   "metadata": {},
   "outputs": [
    {
     "data": {
      "text/plain": [
       "VectorAssembler_bb9ed408a258"
      ]
     },
     "execution_count": 52,
     "metadata": {},
     "output_type": "execute_result"
    }
   ],
   "source": []
  },
  {
   "cell_type": "code",
   "execution_count": 48,
   "id": "d2dfcfd9",
   "metadata": {},
   "outputs": [],
   "source": []
  },
  {
   "cell_type": "code",
   "execution_count": 35,
   "id": "86e5e083",
   "metadata": {},
   "outputs": [
    {
     "data": {
      "text/plain": [
       "array([[ 1.00000000e+00, -1.07113334e-03,  1.10977450e-02,\n",
       "        -2.20497839e-02, -1.46693354e-01, -9.93984707e-02,\n",
       "        -2.27020267e-02, -1.53858756e-03, -2.06875994e-03,\n",
       "        -5.08790038e-03,  3.06542624e-02],\n",
       "       [-1.07113334e-03,  1.00000000e+00, -5.70375706e-02,\n",
       "        -9.93217877e-03, -3.83479751e-02, -2.93160406e-02,\n",
       "        -1.48184237e-02,  7.49793846e-01,  3.24680809e-03,\n",
       "         7.35521814e-01,  2.34859646e-02],\n",
       "       [ 1.10977450e-02, -5.70375706e-02,  1.00000000e+00,\n",
       "         9.26967091e-03,  6.05231782e-03,  5.63920219e-03,\n",
       "         4.59341421e-04, -4.38516383e-02, -4.32172436e-03,\n",
       "        -4.43491472e-02, -6.76680261e-03],\n",
       "       [-2.20497839e-02, -9.93217877e-03,  9.26967091e-03,\n",
       "         1.00000000e+00, -5.75181983e-02, -3.42061878e-02,\n",
       "        -1.76041905e-02, -7.17657690e-03, -7.23376847e-04,\n",
       "        -7.75246954e-03,  2.22968563e-02],\n",
       "       [-1.46693354e-01, -3.83479751e-02,  6.05231782e-03,\n",
       "        -5.75181983e-02,  1.00000000e+00,  5.88013667e-01,\n",
       "         5.23306737e-02, -2.88334192e-02, -1.85032998e-03,\n",
       "        -2.09120694e-02, -7.24568095e-02],\n",
       "       [-9.93984707e-02, -2.93160406e-02,  5.63920219e-03,\n",
       "        -3.42061878e-02,  5.88013667e-01,  1.00000000e+00,\n",
       "         3.42891487e-02, -2.20296131e-02,  4.17480475e-04,\n",
       "        -1.81914365e-02, -4.83519092e-02],\n",
       "       [-2.27020267e-02, -1.48184237e-02,  4.59341421e-04,\n",
       "        -1.76041905e-02,  5.23306737e-02,  3.42891487e-02,\n",
       "         1.00000000e+00, -9.15117826e-03, -1.64541001e-03,\n",
       "        -1.52507171e-03, -6.62495056e-01],\n",
       "       [-1.53858756e-03,  7.49793846e-01, -4.38516383e-02,\n",
       "        -7.17657690e-03, -2.88334192e-02, -2.20296131e-02,\n",
       "        -9.15117826e-03,  1.00000000e+00,  2.02885956e-03,\n",
       "         5.51375466e-01,  1.76428627e-02],\n",
       "       [-2.06875994e-03,  3.24680809e-03, -4.32172436e-03,\n",
       "        -7.23376847e-04, -1.85032998e-03,  4.17480475e-04,\n",
       "        -1.64541001e-03,  2.02885956e-03,  1.00000000e+00,\n",
       "         3.31338953e-03, -8.02338059e-04],\n",
       "       [-5.08790038e-03,  7.35521814e-01, -4.43491472e-02,\n",
       "        -7.75246954e-03, -2.09120694e-02, -1.81914365e-02,\n",
       "        -1.52507171e-03,  5.51375466e-01,  3.31338953e-03,\n",
       "         1.00000000e+00,  5.87824344e-03],\n",
       "       [ 3.06542624e-02,  2.34859646e-02, -6.76680261e-03,\n",
       "         2.22968563e-02, -7.24568095e-02, -4.83519092e-02,\n",
       "        -6.62495056e-01,  1.76428627e-02, -8.02338059e-04,\n",
       "         5.87824344e-03,  1.00000000e+00]])"
      ]
     },
     "execution_count": 35,
     "metadata": {},
     "output_type": "execute_result"
    }
   ],
   "source": []
  },
  {
   "cell_type": "code",
   "execution_count": 62,
   "id": "b06a0dc1",
   "metadata": {},
   "outputs": [],
   "source": [
    "import statsmodels as sm"
   ]
  },
  {
   "cell_type": "code",
   "execution_count": 64,
   "id": "789bdc18",
   "metadata": {},
   "outputs": [],
   "source": [
    "from scipy.stats import ttest_ind"
   ]
  },
  {
   "cell_type": "code",
   "execution_count": 68,
   "id": "85dccdf2",
   "metadata": {},
   "outputs": [
    {
     "ename": "TypeError",
     "evalue": "'DataFrame' object does not support item assignment",
     "output_type": "error",
     "traceback": [
      "\u001b[1;31m---------------------------------------------------------------------------\u001b[0m",
      "\u001b[1;31mTypeError\u001b[0m                                 Traceback (most recent call last)",
      "Cell \u001b[1;32mIn[68], line 1\u001b[0m\n\u001b[1;32m----> 1\u001b[0m data[column] \u001b[38;5;241m=\u001b[39m data[column]\u001b[38;5;241m.\u001b[39mastype(\u001b[38;5;124m'\u001b[39m\u001b[38;5;124mint\u001b[39m\u001b[38;5;124m'\u001b[39m)\n",
      "\u001b[1;31mTypeError\u001b[0m: 'DataFrame' object does not support item assignment"
     ]
    }
   ],
   "source": [
    "\n"
   ]
  },
  {
   "cell_type": "code",
   "execution_count": null,
   "id": "74075d1b",
   "metadata": {},
   "outputs": [],
   "source": []
  },
  {
   "cell_type": "code",
   "execution_count": 37,
   "id": "a4559186",
   "metadata": {},
   "outputs": [],
   "source": [
    "from pyspark.ml.feature import StandardScaler"
   ]
  },
  {
   "cell_type": "code",
   "execution_count": 38,
   "id": "039f6611",
   "metadata": {},
   "outputs": [],
   "source": [
    "scaler = StandardScaler(inputCol='features', outputCol='features_scaled')"
   ]
  },
  {
   "cell_type": "code",
   "execution_count": 39,
   "id": "71ecf537",
   "metadata": {},
   "outputs": [],
   "source": [
    "lr =LogisticRegression(labelCol='NextAccident', featuresCol='features_scaled')"
   ]
  },
  {
   "cell_type": "code",
   "execution_count": 40,
   "id": "c877068f",
   "metadata": {},
   "outputs": [],
   "source": [
    "from pyspark.ml import Pipeline"
   ]
  },
  {
   "cell_type": "code",
   "execution_count": 41,
   "id": "7de9b04f",
   "metadata": {},
   "outputs": [],
   "source": [
    "pip = Pipeline(stages=[assembler, scaler, lr])"
   ]
  },
  {
   "cell_type": "code",
   "execution_count": 42,
   "id": "aab36cf4",
   "metadata": {},
   "outputs": [],
   "source": [
    "model = pip.fit(train_set)"
   ]
  },
  {
   "cell_type": "code",
   "execution_count": 43,
   "id": "3a06f0b5",
   "metadata": {},
   "outputs": [],
   "source": [
    "predictions = model.transform(test_set)"
   ]
  },
  {
   "cell_type": "code",
   "execution_count": 50,
   "id": "1b4e70d9",
   "metadata": {},
   "outputs": [
    {
     "name": "stdout",
     "output_type": "stream",
     "text": [
      "+------------+----------+--------------------+\n",
      "|NextAccident|prediction|         probability|\n",
      "+------------+----------+--------------------+\n",
      "|           0|       0.0|[0.76558613193194...|\n",
      "|           0|       0.0|[0.90215025965139...|\n",
      "|           0|       0.0|[0.85737945803063...|\n",
      "|           0|       0.0|[0.88839065706620...|\n",
      "|           0|       0.0|[0.83224303816519...|\n",
      "|           0|       0.0|[0.84463997209849...|\n",
      "|           0|       0.0|[0.77893614056514...|\n",
      "|           0|       0.0|[0.84764979955390...|\n",
      "|           0|       0.0|[0.81579059056015...|\n",
      "|           1|       0.0|[0.83630461602620...|\n",
      "|           0|       0.0|[0.84816906287562...|\n",
      "|           1|       0.0|[0.85799314069787...|\n",
      "|           0|       0.0|[0.88522858210598...|\n",
      "|           0|       0.0|[0.85605000321307...|\n",
      "|           0|       0.0|[0.90475209751041...|\n",
      "|           0|       0.0|[0.85124720374369...|\n",
      "|           0|       0.0|[0.84366835312275...|\n",
      "|           0|       0.0|[0.87302522812366...|\n",
      "|           1|       0.0|[0.85110205096729...|\n",
      "|           0|       0.0|[0.88509315169183...|\n",
      "|           0|       0.0|[0.87360359728409...|\n",
      "|           0|       0.0|[0.75373935753793...|\n",
      "|           1|       0.0|[0.82022194005729...|\n",
      "|           0|       0.0|[0.88630925976699...|\n",
      "|           0|       0.0|[0.91257876707233...|\n",
      "|           0|       0.0|[0.89736861015666...|\n",
      "|           0|       0.0|[0.87085128389406...|\n",
      "|           0|       0.0|[0.81431394769636...|\n",
      "|           0|       0.0|[0.85802158523171...|\n",
      "|           0|       0.0|[0.86553141500817...|\n",
      "|           0|       0.0|[0.86444374066549...|\n",
      "|           0|       0.0|[0.84282729843213...|\n",
      "|           0|       0.0|[0.86419260712354...|\n",
      "|           0|       0.0|[0.86220147987836...|\n",
      "|           0|       0.0|[0.76448999689617...|\n",
      "|           1|       0.0|[0.91755622560093...|\n",
      "|           0|       0.0|[0.87232249511744...|\n",
      "|           0|       0.0|[0.91697310301950...|\n",
      "|           0|       0.0|[0.81513646133523...|\n",
      "|           1|       0.0|[0.73370991787102...|\n",
      "|           0|       0.0|[0.80155700218047...|\n",
      "|           0|       0.0|[0.77336403417959...|\n",
      "|           0|       0.0|[0.76826475355599...|\n",
      "|           1|       0.0|[0.81926574740682...|\n",
      "|           0|       0.0|[0.86583347904427...|\n",
      "|           0|       0.0|[0.86299147801604...|\n",
      "|           0|       0.0|[0.79996676287935...|\n",
      "|           1|       0.0|[0.81712869355117...|\n",
      "|           0|       0.0|[0.79225018114849...|\n",
      "|           0|       0.0|[0.85354412925774...|\n",
      "+------------+----------+--------------------+\n",
      "only showing top 50 rows\n",
      "\n"
     ]
    }
   ],
   "source": [
    "predictions.select(\"NextAccident\", \"prediction\", \"probability\").show(50)"
   ]
  },
  {
   "cell_type": "code",
   "execution_count": 46,
   "id": "f917602e",
   "metadata": {},
   "outputs": [],
   "source": [
    "from pyspark.ml.evaluation import BinaryClassificationEvaluator"
   ]
  },
  {
   "cell_type": "code",
   "execution_count": 47,
   "id": "f020e031",
   "metadata": {},
   "outputs": [],
   "source": [
    "evaluator = BinaryClassificationEvaluator(labelCol='NextAccident')"
   ]
  },
  {
   "cell_type": "code",
   "execution_count": 48,
   "id": "ce1989a4",
   "metadata": {},
   "outputs": [],
   "source": [
    "accuracy = evaluator.evaluate(predictions)"
   ]
  },
  {
   "cell_type": "code",
   "execution_count": 49,
   "id": "61468deb",
   "metadata": {},
   "outputs": [
    {
     "data": {
      "text/plain": [
       "0.5985279379475762"
      ]
     },
     "execution_count": 49,
     "metadata": {},
     "output_type": "execute_result"
    }
   ],
   "source": [
    "accuracy"
   ]
  },
  {
   "cell_type": "code",
   "execution_count": 51,
   "id": "bcac7515",
   "metadata": {},
   "outputs": [
    {
     "name": "stdout",
     "output_type": "stream",
     "text": [
      "+------------+----------+--------------------+\n",
      "|NextAccident|prediction|         probability|\n",
      "+------------+----------+--------------------+\n",
      "|           0|       0.0|[0.79334105571168...|\n",
      "|           0|       0.0|[0.87460279207649...|\n",
      "|           0|       0.0|[0.84534691841221...|\n",
      "|           0|       0.0|[0.86654737734876...|\n",
      "|           0|       0.0|[0.83255815522284...|\n",
      "|           0|       0.0|[0.83534175420084...|\n",
      "|           0|       0.0|[0.80104284563944...|\n",
      "|           0|       0.0|[0.84116065509066...|\n",
      "|           0|       0.0|[0.82391015388723...|\n",
      "|           1|       0.0|[0.83380055421351...|\n",
      "|           0|       0.0|[0.84039265142157...|\n",
      "|           1|       0.0|[0.84710740757723...|\n",
      "|           0|       0.0|[0.86447056035618...|\n",
      "|           0|       0.0|[0.84400165558775...|\n",
      "|           0|       0.0|[0.87696146329227...|\n",
      "|           0|       0.0|[0.84261123491783...|\n",
      "|           0|       0.0|[0.83935460574488...|\n",
      "|           0|       0.0|[0.85585419959019...|\n",
      "|           1|       0.0|[0.84313406757406...|\n",
      "|           0|       0.0|[0.86255170893874...|\n",
      "+------------+----------+--------------------+\n",
      "only showing top 20 rows\n",
      "\n"
     ]
    }
   ],
   "source": [
    "from pyspark.ml.tuning import ParamGridBuilder, CrossValidator\n",
    "paramGrid = ParamGridBuilder() \\\n",
    "    .addGrid(lr.regParam, [0.1, 0.01]) \\\n",
    "    .addGrid(lr.elasticNetParam, [0.0, 0.5, 1.0]) \\\n",
    "    .build()\n",
    "\n",
    "crossval = CrossValidator(estimator=pip,\n",
    "                          estimatorParamMaps=paramGrid,\n",
    "                          evaluator=evaluator,\n",
    "                          numFolds=5)  \n",
    "\n",
    "\n",
    "cvModel = crossval.fit(train_set)\n",
    "\n",
    "predictions = cvModel.transform(test_set)\n",
    "\n",
    "predictions.select(\"NextAccident\", \"prediction\", \"probability\").show()\n",
    "\n",
    "\n",
    "accuracy = evaluator.evaluate(predictions)\n",
    "\n"
   ]
  },
  {
   "cell_type": "code",
   "execution_count": 59,
   "id": "5283957a",
   "metadata": {
    "scrolled": true
   },
   "outputs": [],
   "source": [
    "from sklearn.model_selection import learning_curve\n",
    "import matplotlib.pyplot as plt\n",
    "import numpy as np\n",
    "\n",
    "def plot_learning_curve(estimator, title, X, y, cv=None, n_jobs=None, train_sizes=np.linspace(.1, 1.0, 5)):\n",
    "    plt.figure()\n",
    "    plt.title(title)\n",
    "    plt.xlabel(\"Training examples\")\n",
    "    plt.ylabel(\"Score\")\n",
    "    train_sizes, train_scores, test_scores = learning_curve(estimator, X, y, cv=cv, n_jobs=n_jobs, train_sizes=train_sizes)\n",
    "    train_scores_mean = np.mean(train_scores, axis=1)\n",
    "    train_scores_std = np.std(train_scores, axis=1)\n",
    "    test_scores_mean = np.mean(test_scores, axis=1)\n",
    "    test_scores_std = np.std(test_scores, axis=1)\n",
    "    plt.grid()\n",
    "\n",
    "    plt.fill_between(train_sizes, train_scores_mean - train_scores_std, train_scores_mean + train_scores_std, alpha=0.1, color=\"r\")\n",
    "    plt.fill_between(train_sizes, test_scores_mean - test_scores_std, test_scores_mean + test_scores_std, alpha=0.1, color=\"g\")\n",
    "    plt.plot(train_sizes, train_scores_mean, 'o-', color=\"r\", label=\"Training score\")\n",
    "    plt.plot(train_sizes, test_scores_mean, 'o-', color=\"g\", label=\"Cross-validation score\")\n",
    "\n",
    "    plt.legend(loc=\"best\")\n",
    "    return plt\n"
   ]
  },
  {
   "cell_type": "code",
   "execution_count": 68,
   "id": "188bbd32",
   "metadata": {},
   "outputs": [
    {
     "data": {
      "text/plain": [
       "-0.002003246380069838"
      ]
     },
     "execution_count": 68,
     "metadata": {},
     "output_type": "execute_result"
    }
   ],
   "source": [
    "data.corr('CarType', 'NextAccident')"
   ]
  },
  {
   "cell_type": "code",
   "execution_count": 63,
   "id": "c3103080",
   "metadata": {},
   "outputs": [
    {
     "data": {
      "text/plain": [
       "['BirthYear',\n",
       " 'Sex',\n",
       " 'LicenseYear',\n",
       " 'CarBrand',\n",
       " 'CarType',\n",
       " 'CarYear',\n",
       " 'CarEngine',\n",
       " 'EngineCap',\n",
       " 'CarValue',\n",
       " 'AssistanceYears',\n",
       " 'Accidents',\n",
       " 'NextAccident',\n",
       " 'Age',\n",
       " 'CarAge']"
      ]
     },
     "execution_count": 63,
     "metadata": {},
     "output_type": "execute_result"
    }
   ],
   "source": [
    "data.columns"
   ]
  },
  {
   "cell_type": "code",
   "execution_count": 71,
   "id": "a5a0ee1c",
   "metadata": {
    "scrolled": true
   },
   "outputs": [
    {
     "name": "stdout",
     "output_type": "stream",
     "text": [
      "0.0167904799370922\n",
      "-0.0027457531231849393\n",
      "-0.017710672366369175\n",
      "0.0010865169992085623\n",
      "-0.002003246380069838\n",
      "-0.08079373302229763\n",
      "0.03599980627411257\n",
      "0.029860973045400436\n",
      "-0.11722247594154574\n",
      "-0.01345153269974616\n",
      "0.0027975992951380447\n",
      "1.0\n",
      "-0.016790479937093393\n",
      "0.08079373302229692\n"
     ]
    }
   ],
   "source": [
    "for column in data.columns:\n",
    "    cor = data.corr(column, 'NextAccident')\n",
    "    print(cor)"
   ]
  },
  {
   "cell_type": "code",
   "execution_count": 74,
   "id": "c726f01e",
   "metadata": {},
   "outputs": [
    {
     "ename": "TypeError",
     "evalue": "unsupported operand type(s) for -: 'DataFrame' and 'DataFrame'",
     "output_type": "error",
     "traceback": [
      "\u001b[1;31m---------------------------------------------------------------------------\u001b[0m",
      "\u001b[1;31mTypeError\u001b[0m                                 Traceback (most recent call last)",
      "Cell \u001b[1;32mIn[74], line 8\u001b[0m\n\u001b[0;32m      5\u001b[0m y \u001b[38;5;241m=\u001b[39m data[\u001b[38;5;124m'\u001b[39m\u001b[38;5;124mNextAccident\u001b[39m\u001b[38;5;124m'\u001b[39m]\n\u001b[0;32m      7\u001b[0m \u001b[38;5;66;03m# Dodanie stałej do macierzy cech (jeśli chcesz ocenić istotność stałej)\u001b[39;00m\n\u001b[1;32m----> 8\u001b[0m X \u001b[38;5;241m=\u001b[39m sm\u001b[38;5;241m.\u001b[39madd_constant(X)\n\u001b[0;32m     10\u001b[0m \u001b[38;5;66;03m# Utworzenie modelu regresji logistycznej\u001b[39;00m\n\u001b[0;32m     11\u001b[0m model \u001b[38;5;241m=\u001b[39m sm\u001b[38;5;241m.\u001b[39mLogit(y, X)\n",
      "File \u001b[1;32m~\\anaconda3\\envs\\pandas_playground\\Lib\\site-packages\\statsmodels\\tools\\tools.py:195\u001b[0m, in \u001b[0;36madd_constant\u001b[1;34m(data, prepend, has_constant)\u001b[0m\n\u001b[0;32m    192\u001b[0m \u001b[38;5;28;01melif\u001b[39;00m x\u001b[38;5;241m.\u001b[39mndim \u001b[38;5;241m>\u001b[39m \u001b[38;5;241m2\u001b[39m:\n\u001b[0;32m    193\u001b[0m     \u001b[38;5;28;01mraise\u001b[39;00m \u001b[38;5;167;01mValueError\u001b[39;00m(\u001b[38;5;124m'\u001b[39m\u001b[38;5;124mOnly implemented for 2-dimensional arrays\u001b[39m\u001b[38;5;124m'\u001b[39m)\n\u001b[1;32m--> 195\u001b[0m is_nonzero_const \u001b[38;5;241m=\u001b[39m np\u001b[38;5;241m.\u001b[39mptp(x, axis\u001b[38;5;241m=\u001b[39m\u001b[38;5;241m0\u001b[39m) \u001b[38;5;241m==\u001b[39m \u001b[38;5;241m0\u001b[39m\n\u001b[0;32m    196\u001b[0m is_nonzero_const \u001b[38;5;241m&\u001b[39m\u001b[38;5;241m=\u001b[39m np\u001b[38;5;241m.\u001b[39mall(x \u001b[38;5;241m!=\u001b[39m \u001b[38;5;241m0.0\u001b[39m, axis\u001b[38;5;241m=\u001b[39m\u001b[38;5;241m0\u001b[39m)\n\u001b[0;32m    197\u001b[0m \u001b[38;5;28;01mif\u001b[39;00m is_nonzero_const\u001b[38;5;241m.\u001b[39many():\n",
      "File \u001b[1;32m~\\anaconda3\\envs\\pandas_playground\\Lib\\site-packages\\numpy\\core\\fromnumeric.py:2684\u001b[0m, in \u001b[0;36mptp\u001b[1;34m(a, axis, out, keepdims)\u001b[0m\n\u001b[0;32m   2682\u001b[0m     \u001b[38;5;28;01melse\u001b[39;00m:\n\u001b[0;32m   2683\u001b[0m         \u001b[38;5;28;01mreturn\u001b[39;00m ptp(axis\u001b[38;5;241m=\u001b[39maxis, out\u001b[38;5;241m=\u001b[39mout, \u001b[38;5;241m*\u001b[39m\u001b[38;5;241m*\u001b[39mkwargs)\n\u001b[1;32m-> 2684\u001b[0m \u001b[38;5;28;01mreturn\u001b[39;00m _methods\u001b[38;5;241m.\u001b[39m_ptp(a, axis\u001b[38;5;241m=\u001b[39maxis, out\u001b[38;5;241m=\u001b[39mout, \u001b[38;5;241m*\u001b[39m\u001b[38;5;241m*\u001b[39mkwargs)\n",
      "File \u001b[1;32m~\\anaconda3\\envs\\pandas_playground\\Lib\\site-packages\\numpy\\core\\_methods.py:219\u001b[0m, in \u001b[0;36m_ptp\u001b[1;34m(a, axis, out, keepdims)\u001b[0m\n\u001b[0;32m    218\u001b[0m \u001b[38;5;28;01mdef\u001b[39;00m \u001b[38;5;21m_ptp\u001b[39m(a, axis\u001b[38;5;241m=\u001b[39m\u001b[38;5;28;01mNone\u001b[39;00m, out\u001b[38;5;241m=\u001b[39m\u001b[38;5;28;01mNone\u001b[39;00m, keepdims\u001b[38;5;241m=\u001b[39m\u001b[38;5;28;01mFalse\u001b[39;00m):\n\u001b[1;32m--> 219\u001b[0m     \u001b[38;5;28;01mreturn\u001b[39;00m um\u001b[38;5;241m.\u001b[39msubtract(\n\u001b[0;32m    220\u001b[0m         umr_maximum(a, axis, \u001b[38;5;28;01mNone\u001b[39;00m, out, keepdims),\n\u001b[0;32m    221\u001b[0m         umr_minimum(a, axis, \u001b[38;5;28;01mNone\u001b[39;00m, \u001b[38;5;28;01mNone\u001b[39;00m, keepdims),\n\u001b[0;32m    222\u001b[0m         out\n\u001b[0;32m    223\u001b[0m     )\n",
      "\u001b[1;31mTypeError\u001b[0m: unsupported operand type(s) for -: 'DataFrame' and 'DataFrame'"
     ]
    }
   ],
   "source": [
    "import statsmodels.api as sm\n",
    "\n",
    "# X to macierz cech (bez stałej), y to wektor zmiennych zależnych\n",
    "X = data['Sex', 'LicenseYear', 'CarBrand', 'CarType', 'CarEngine', 'EngineCap', 'CarValue', 'AssistanceYears', 'Accidents', 'Age', 'CarAge']\n",
    "y = data['NextAccident']\n",
    "\n",
    "# Dodanie stałej do macierzy cech (jeśli chcesz ocenić istotność stałej)\n",
    "X = sm.add_constant(X)\n",
    "\n",
    "# Utworzenie modelu regresji logistycznej\n",
    "model = sm.Logit(y, X)\n",
    "\n",
    "# Dopasowanie modelu\n",
    "result = model.fit()\n",
    "\n",
    "# Wypisanie podsumowania modelu\n",
    "print(result.summary())\n"
   ]
  },
  {
   "cell_type": "code",
   "execution_count": null,
   "id": "acf91cde",
   "metadata": {},
   "outputs": [],
   "source": []
  }
 ],
 "metadata": {
  "kernelspec": {
   "display_name": "Python 3 (ipykernel)",
   "language": "python",
   "name": "python3"
  },
  "language_info": {
   "codemirror_mode": {
    "name": "ipython",
    "version": 3
   },
   "file_extension": ".py",
   "mimetype": "text/x-python",
   "name": "python",
   "nbconvert_exporter": "python",
   "pygments_lexer": "ipython3",
   "version": "3.11.5"
  }
 },
 "nbformat": 4,
 "nbformat_minor": 5
}
